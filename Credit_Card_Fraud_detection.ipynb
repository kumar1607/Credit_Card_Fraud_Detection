{
  "nbformat": 4,
  "nbformat_minor": 0,
  "metadata": {
    "colab": {
      "provenance": [],
      "authorship_tag": "ABX9TyNdh+Z5QHmxtbyeveTsL3FB",
      "include_colab_link": true
    },
    "kernelspec": {
      "name": "python3",
      "display_name": "Python 3"
    },
    "language_info": {
      "name": "python"
    }
  },
  "cells": [
    {
      "cell_type": "markdown",
      "metadata": {
        "id": "view-in-github",
        "colab_type": "text"
      },
      "source": [
        "<a href=\"https://colab.research.google.com/github/kumar1607/Credit_Card_Fraud_Detection/blob/main/Credit_Card_Fraud_detection.ipynb\" target=\"_parent\"><img src=\"https://colab.research.google.com/assets/colab-badge.svg\" alt=\"Open In Colab\"/></a>"
      ]
    },
    {
      "cell_type": "markdown",
      "source": [
        "Importing Libraries\n"
      ],
      "metadata": {
        "id": "tpnn3lJD-Ca2"
      }
    },
    {
      "cell_type": "code",
      "execution_count": null,
      "metadata": {
        "id": "StXwQv048ue9"
      },
      "outputs": [],
      "source": [
        "import pandas as pd\n",
        "import numpy as np\n",
        "import matplotlib.pyplot as plt\n",
        "import seaborn as sns\n",
        "\n"
      ]
    },
    {
      "cell_type": "markdown",
      "source": [
        "Loading Dataset"
      ],
      "metadata": {
        "id": "sGsyBmSr-NsJ"
      }
    },
    {
      "cell_type": "code",
      "source": [
        "df=pd.read_csv(\"creditcard.csv\")\n",
        "df.head()"
      ],
      "metadata": {
        "colab": {
          "base_uri": "https://localhost:8080/",
          "height": 255
        },
        "id": "ZmKTnwRB9Uon",
        "outputId": "2d76910b-d1ff-4cea-93fe-862b0ce6009b"
      },
      "execution_count": null,
      "outputs": [
        {
          "output_type": "execute_result",
          "data": {
            "text/plain": [
              "   Time        V1        V2        V3        V4        V5        V6        V7  \\\n",
              "0   0.0 -1.359807 -0.072781  2.536347  1.378155 -0.338321  0.462388  0.239599   \n",
              "1   0.0  1.191857  0.266151  0.166480  0.448154  0.060018 -0.082361 -0.078803   \n",
              "2   1.0 -1.358354 -1.340163  1.773209  0.379780 -0.503198  1.800499  0.791461   \n",
              "3   1.0 -0.966272 -0.185226  1.792993 -0.863291 -0.010309  1.247203  0.237609   \n",
              "4   2.0 -1.158233  0.877737  1.548718  0.403034 -0.407193  0.095921  0.592941   \n",
              "\n",
              "         V8        V9  ...       V21       V22       V23       V24       V25  \\\n",
              "0  0.098698  0.363787  ... -0.018307  0.277838 -0.110474  0.066928  0.128539   \n",
              "1  0.085102 -0.255425  ... -0.225775 -0.638672  0.101288 -0.339846  0.167170   \n",
              "2  0.247676 -1.514654  ...  0.247998  0.771679  0.909412 -0.689281 -0.327642   \n",
              "3  0.377436 -1.387024  ... -0.108300  0.005274 -0.190321 -1.175575  0.647376   \n",
              "4 -0.270533  0.817739  ... -0.009431  0.798278 -0.137458  0.141267 -0.206010   \n",
              "\n",
              "        V26       V27       V28  Amount  Class  \n",
              "0 -0.189115  0.133558 -0.021053  149.62      0  \n",
              "1  0.125895 -0.008983  0.014724    2.69      0  \n",
              "2 -0.139097 -0.055353 -0.059752  378.66      0  \n",
              "3 -0.221929  0.062723  0.061458  123.50      0  \n",
              "4  0.502292  0.219422  0.215153   69.99      0  \n",
              "\n",
              "[5 rows x 31 columns]"
            ],
            "text/html": [
              "\n",
              "  <div id=\"df-2e05d5b4-775c-401a-9445-65ac58482112\" class=\"colab-df-container\">\n",
              "    <div>\n",
              "<style scoped>\n",
              "    .dataframe tbody tr th:only-of-type {\n",
              "        vertical-align: middle;\n",
              "    }\n",
              "\n",
              "    .dataframe tbody tr th {\n",
              "        vertical-align: top;\n",
              "    }\n",
              "\n",
              "    .dataframe thead th {\n",
              "        text-align: right;\n",
              "    }\n",
              "</style>\n",
              "<table border=\"1\" class=\"dataframe\">\n",
              "  <thead>\n",
              "    <tr style=\"text-align: right;\">\n",
              "      <th></th>\n",
              "      <th>Time</th>\n",
              "      <th>V1</th>\n",
              "      <th>V2</th>\n",
              "      <th>V3</th>\n",
              "      <th>V4</th>\n",
              "      <th>V5</th>\n",
              "      <th>V6</th>\n",
              "      <th>V7</th>\n",
              "      <th>V8</th>\n",
              "      <th>V9</th>\n",
              "      <th>...</th>\n",
              "      <th>V21</th>\n",
              "      <th>V22</th>\n",
              "      <th>V23</th>\n",
              "      <th>V24</th>\n",
              "      <th>V25</th>\n",
              "      <th>V26</th>\n",
              "      <th>V27</th>\n",
              "      <th>V28</th>\n",
              "      <th>Amount</th>\n",
              "      <th>Class</th>\n",
              "    </tr>\n",
              "  </thead>\n",
              "  <tbody>\n",
              "    <tr>\n",
              "      <th>0</th>\n",
              "      <td>0.0</td>\n",
              "      <td>-1.359807</td>\n",
              "      <td>-0.072781</td>\n",
              "      <td>2.536347</td>\n",
              "      <td>1.378155</td>\n",
              "      <td>-0.338321</td>\n",
              "      <td>0.462388</td>\n",
              "      <td>0.239599</td>\n",
              "      <td>0.098698</td>\n",
              "      <td>0.363787</td>\n",
              "      <td>...</td>\n",
              "      <td>-0.018307</td>\n",
              "      <td>0.277838</td>\n",
              "      <td>-0.110474</td>\n",
              "      <td>0.066928</td>\n",
              "      <td>0.128539</td>\n",
              "      <td>-0.189115</td>\n",
              "      <td>0.133558</td>\n",
              "      <td>-0.021053</td>\n",
              "      <td>149.62</td>\n",
              "      <td>0</td>\n",
              "    </tr>\n",
              "    <tr>\n",
              "      <th>1</th>\n",
              "      <td>0.0</td>\n",
              "      <td>1.191857</td>\n",
              "      <td>0.266151</td>\n",
              "      <td>0.166480</td>\n",
              "      <td>0.448154</td>\n",
              "      <td>0.060018</td>\n",
              "      <td>-0.082361</td>\n",
              "      <td>-0.078803</td>\n",
              "      <td>0.085102</td>\n",
              "      <td>-0.255425</td>\n",
              "      <td>...</td>\n",
              "      <td>-0.225775</td>\n",
              "      <td>-0.638672</td>\n",
              "      <td>0.101288</td>\n",
              "      <td>-0.339846</td>\n",
              "      <td>0.167170</td>\n",
              "      <td>0.125895</td>\n",
              "      <td>-0.008983</td>\n",
              "      <td>0.014724</td>\n",
              "      <td>2.69</td>\n",
              "      <td>0</td>\n",
              "    </tr>\n",
              "    <tr>\n",
              "      <th>2</th>\n",
              "      <td>1.0</td>\n",
              "      <td>-1.358354</td>\n",
              "      <td>-1.340163</td>\n",
              "      <td>1.773209</td>\n",
              "      <td>0.379780</td>\n",
              "      <td>-0.503198</td>\n",
              "      <td>1.800499</td>\n",
              "      <td>0.791461</td>\n",
              "      <td>0.247676</td>\n",
              "      <td>-1.514654</td>\n",
              "      <td>...</td>\n",
              "      <td>0.247998</td>\n",
              "      <td>0.771679</td>\n",
              "      <td>0.909412</td>\n",
              "      <td>-0.689281</td>\n",
              "      <td>-0.327642</td>\n",
              "      <td>-0.139097</td>\n",
              "      <td>-0.055353</td>\n",
              "      <td>-0.059752</td>\n",
              "      <td>378.66</td>\n",
              "      <td>0</td>\n",
              "    </tr>\n",
              "    <tr>\n",
              "      <th>3</th>\n",
              "      <td>1.0</td>\n",
              "      <td>-0.966272</td>\n",
              "      <td>-0.185226</td>\n",
              "      <td>1.792993</td>\n",
              "      <td>-0.863291</td>\n",
              "      <td>-0.010309</td>\n",
              "      <td>1.247203</td>\n",
              "      <td>0.237609</td>\n",
              "      <td>0.377436</td>\n",
              "      <td>-1.387024</td>\n",
              "      <td>...</td>\n",
              "      <td>-0.108300</td>\n",
              "      <td>0.005274</td>\n",
              "      <td>-0.190321</td>\n",
              "      <td>-1.175575</td>\n",
              "      <td>0.647376</td>\n",
              "      <td>-0.221929</td>\n",
              "      <td>0.062723</td>\n",
              "      <td>0.061458</td>\n",
              "      <td>123.50</td>\n",
              "      <td>0</td>\n",
              "    </tr>\n",
              "    <tr>\n",
              "      <th>4</th>\n",
              "      <td>2.0</td>\n",
              "      <td>-1.158233</td>\n",
              "      <td>0.877737</td>\n",
              "      <td>1.548718</td>\n",
              "      <td>0.403034</td>\n",
              "      <td>-0.407193</td>\n",
              "      <td>0.095921</td>\n",
              "      <td>0.592941</td>\n",
              "      <td>-0.270533</td>\n",
              "      <td>0.817739</td>\n",
              "      <td>...</td>\n",
              "      <td>-0.009431</td>\n",
              "      <td>0.798278</td>\n",
              "      <td>-0.137458</td>\n",
              "      <td>0.141267</td>\n",
              "      <td>-0.206010</td>\n",
              "      <td>0.502292</td>\n",
              "      <td>0.219422</td>\n",
              "      <td>0.215153</td>\n",
              "      <td>69.99</td>\n",
              "      <td>0</td>\n",
              "    </tr>\n",
              "  </tbody>\n",
              "</table>\n",
              "<p>5 rows × 31 columns</p>\n",
              "</div>\n",
              "    <div class=\"colab-df-buttons\">\n",
              "\n",
              "  <div class=\"colab-df-container\">\n",
              "    <button class=\"colab-df-convert\" onclick=\"convertToInteractive('df-2e05d5b4-775c-401a-9445-65ac58482112')\"\n",
              "            title=\"Convert this dataframe to an interactive table.\"\n",
              "            style=\"display:none;\">\n",
              "\n",
              "  <svg xmlns=\"http://www.w3.org/2000/svg\" height=\"24px\" viewBox=\"0 -960 960 960\">\n",
              "    <path d=\"M120-120v-720h720v720H120Zm60-500h600v-160H180v160Zm220 220h160v-160H400v160Zm0 220h160v-160H400v160ZM180-400h160v-160H180v160Zm440 0h160v-160H620v160ZM180-180h160v-160H180v160Zm440 0h160v-160H620v160Z\"/>\n",
              "  </svg>\n",
              "    </button>\n",
              "\n",
              "  <style>\n",
              "    .colab-df-container {\n",
              "      display:flex;\n",
              "      gap: 12px;\n",
              "    }\n",
              "\n",
              "    .colab-df-convert {\n",
              "      background-color: #E8F0FE;\n",
              "      border: none;\n",
              "      border-radius: 50%;\n",
              "      cursor: pointer;\n",
              "      display: none;\n",
              "      fill: #1967D2;\n",
              "      height: 32px;\n",
              "      padding: 0 0 0 0;\n",
              "      width: 32px;\n",
              "    }\n",
              "\n",
              "    .colab-df-convert:hover {\n",
              "      background-color: #E2EBFA;\n",
              "      box-shadow: 0px 1px 2px rgba(60, 64, 67, 0.3), 0px 1px 3px 1px rgba(60, 64, 67, 0.15);\n",
              "      fill: #174EA6;\n",
              "    }\n",
              "\n",
              "    .colab-df-buttons div {\n",
              "      margin-bottom: 4px;\n",
              "    }\n",
              "\n",
              "    [theme=dark] .colab-df-convert {\n",
              "      background-color: #3B4455;\n",
              "      fill: #D2E3FC;\n",
              "    }\n",
              "\n",
              "    [theme=dark] .colab-df-convert:hover {\n",
              "      background-color: #434B5C;\n",
              "      box-shadow: 0px 1px 3px 1px rgba(0, 0, 0, 0.15);\n",
              "      filter: drop-shadow(0px 1px 2px rgba(0, 0, 0, 0.3));\n",
              "      fill: #FFFFFF;\n",
              "    }\n",
              "  </style>\n",
              "\n",
              "    <script>\n",
              "      const buttonEl =\n",
              "        document.querySelector('#df-2e05d5b4-775c-401a-9445-65ac58482112 button.colab-df-convert');\n",
              "      buttonEl.style.display =\n",
              "        google.colab.kernel.accessAllowed ? 'block' : 'none';\n",
              "\n",
              "      async function convertToInteractive(key) {\n",
              "        const element = document.querySelector('#df-2e05d5b4-775c-401a-9445-65ac58482112');\n",
              "        const dataTable =\n",
              "          await google.colab.kernel.invokeFunction('convertToInteractive',\n",
              "                                                    [key], {});\n",
              "        if (!dataTable) return;\n",
              "\n",
              "        const docLinkHtml = 'Like what you see? Visit the ' +\n",
              "          '<a target=\"_blank\" href=https://colab.research.google.com/notebooks/data_table.ipynb>data table notebook</a>'\n",
              "          + ' to learn more about interactive tables.';\n",
              "        element.innerHTML = '';\n",
              "        dataTable['output_type'] = 'display_data';\n",
              "        await google.colab.output.renderOutput(dataTable, element);\n",
              "        const docLink = document.createElement('div');\n",
              "        docLink.innerHTML = docLinkHtml;\n",
              "        element.appendChild(docLink);\n",
              "      }\n",
              "    </script>\n",
              "  </div>\n",
              "\n",
              "\n",
              "<div id=\"df-6bfdd186-8c67-40e3-b8a2-3635ee2e9b72\">\n",
              "  <button class=\"colab-df-quickchart\" onclick=\"quickchart('df-6bfdd186-8c67-40e3-b8a2-3635ee2e9b72')\"\n",
              "            title=\"Suggest charts\"\n",
              "            style=\"display:none;\">\n",
              "\n",
              "<svg xmlns=\"http://www.w3.org/2000/svg\" height=\"24px\"viewBox=\"0 0 24 24\"\n",
              "     width=\"24px\">\n",
              "    <g>\n",
              "        <path d=\"M19 3H5c-1.1 0-2 .9-2 2v14c0 1.1.9 2 2 2h14c1.1 0 2-.9 2-2V5c0-1.1-.9-2-2-2zM9 17H7v-7h2v7zm4 0h-2V7h2v10zm4 0h-2v-4h2v4z\"/>\n",
              "    </g>\n",
              "</svg>\n",
              "  </button>\n",
              "\n",
              "<style>\n",
              "  .colab-df-quickchart {\n",
              "      --bg-color: #E8F0FE;\n",
              "      --fill-color: #1967D2;\n",
              "      --hover-bg-color: #E2EBFA;\n",
              "      --hover-fill-color: #174EA6;\n",
              "      --disabled-fill-color: #AAA;\n",
              "      --disabled-bg-color: #DDD;\n",
              "  }\n",
              "\n",
              "  [theme=dark] .colab-df-quickchart {\n",
              "      --bg-color: #3B4455;\n",
              "      --fill-color: #D2E3FC;\n",
              "      --hover-bg-color: #434B5C;\n",
              "      --hover-fill-color: #FFFFFF;\n",
              "      --disabled-bg-color: #3B4455;\n",
              "      --disabled-fill-color: #666;\n",
              "  }\n",
              "\n",
              "  .colab-df-quickchart {\n",
              "    background-color: var(--bg-color);\n",
              "    border: none;\n",
              "    border-radius: 50%;\n",
              "    cursor: pointer;\n",
              "    display: none;\n",
              "    fill: var(--fill-color);\n",
              "    height: 32px;\n",
              "    padding: 0;\n",
              "    width: 32px;\n",
              "  }\n",
              "\n",
              "  .colab-df-quickchart:hover {\n",
              "    background-color: var(--hover-bg-color);\n",
              "    box-shadow: 0 1px 2px rgba(60, 64, 67, 0.3), 0 1px 3px 1px rgba(60, 64, 67, 0.15);\n",
              "    fill: var(--button-hover-fill-color);\n",
              "  }\n",
              "\n",
              "  .colab-df-quickchart-complete:disabled,\n",
              "  .colab-df-quickchart-complete:disabled:hover {\n",
              "    background-color: var(--disabled-bg-color);\n",
              "    fill: var(--disabled-fill-color);\n",
              "    box-shadow: none;\n",
              "  }\n",
              "\n",
              "  .colab-df-spinner {\n",
              "    border: 2px solid var(--fill-color);\n",
              "    border-color: transparent;\n",
              "    border-bottom-color: var(--fill-color);\n",
              "    animation:\n",
              "      spin 1s steps(1) infinite;\n",
              "  }\n",
              "\n",
              "  @keyframes spin {\n",
              "    0% {\n",
              "      border-color: transparent;\n",
              "      border-bottom-color: var(--fill-color);\n",
              "      border-left-color: var(--fill-color);\n",
              "    }\n",
              "    20% {\n",
              "      border-color: transparent;\n",
              "      border-left-color: var(--fill-color);\n",
              "      border-top-color: var(--fill-color);\n",
              "    }\n",
              "    30% {\n",
              "      border-color: transparent;\n",
              "      border-left-color: var(--fill-color);\n",
              "      border-top-color: var(--fill-color);\n",
              "      border-right-color: var(--fill-color);\n",
              "    }\n",
              "    40% {\n",
              "      border-color: transparent;\n",
              "      border-right-color: var(--fill-color);\n",
              "      border-top-color: var(--fill-color);\n",
              "    }\n",
              "    60% {\n",
              "      border-color: transparent;\n",
              "      border-right-color: var(--fill-color);\n",
              "    }\n",
              "    80% {\n",
              "      border-color: transparent;\n",
              "      border-right-color: var(--fill-color);\n",
              "      border-bottom-color: var(--fill-color);\n",
              "    }\n",
              "    90% {\n",
              "      border-color: transparent;\n",
              "      border-bottom-color: var(--fill-color);\n",
              "    }\n",
              "  }\n",
              "</style>\n",
              "\n",
              "  <script>\n",
              "    async function quickchart(key) {\n",
              "      const quickchartButtonEl =\n",
              "        document.querySelector('#' + key + ' button');\n",
              "      quickchartButtonEl.disabled = true;  // To prevent multiple clicks.\n",
              "      quickchartButtonEl.classList.add('colab-df-spinner');\n",
              "      try {\n",
              "        const charts = await google.colab.kernel.invokeFunction(\n",
              "            'suggestCharts', [key], {});\n",
              "      } catch (error) {\n",
              "        console.error('Error during call to suggestCharts:', error);\n",
              "      }\n",
              "      quickchartButtonEl.classList.remove('colab-df-spinner');\n",
              "      quickchartButtonEl.classList.add('colab-df-quickchart-complete');\n",
              "    }\n",
              "    (() => {\n",
              "      let quickchartButtonEl =\n",
              "        document.querySelector('#df-6bfdd186-8c67-40e3-b8a2-3635ee2e9b72 button');\n",
              "      quickchartButtonEl.style.display =\n",
              "        google.colab.kernel.accessAllowed ? 'block' : 'none';\n",
              "    })();\n",
              "  </script>\n",
              "</div>\n",
              "    </div>\n",
              "  </div>\n"
            ]
          },
          "metadata": {},
          "execution_count": 24
        }
      ]
    },
    {
      "cell_type": "code",
      "source": [
        "df.tail()"
      ],
      "metadata": {
        "colab": {
          "base_uri": "https://localhost:8080/",
          "height": 255
        },
        "id": "ge8QJN-PCNJq",
        "outputId": "9ee85243-2b51-4fc1-8e8c-a739a3f46344"
      },
      "execution_count": null,
      "outputs": [
        {
          "output_type": "execute_result",
          "data": {
            "text/plain": [
              "         Time        V1        V2        V3        V4        V5        V6  \\\n",
              "122876  76720  1.491432 -1.300211  0.791864 -1.503432 -1.428550  0.646684   \n",
              "122877  76721 -0.156787  0.167566  1.872078 -0.750101 -0.269882  0.228433   \n",
              "122878  76722 -4.407079  3.412674  0.262904 -2.292505 -0.076449 -0.721205   \n",
              "122879  76723 -0.413685  0.900950  1.121659 -0.162497  0.319067 -0.052581   \n",
              "122880  76723 -1.708808  0.777698  1.059110 -0.455618  0.345712 -0.893250   \n",
              "\n",
              "              V7        V8        V9  ...       V21       V22       V23  \\\n",
              "122876 -1.629218  0.191358 -1.352736  ... -0.256461 -0.151511 -0.101947   \n",
              "122877  0.277035 -0.060165  0.623997  ... -0.085758 -0.047960 -0.143981   \n",
              "122878  1.315481 -0.981098  3.410059  ... -0.515600  0.059942 -0.062766   \n",
              "122879  0.400233  0.322782 -0.401633  ... -0.223570 -0.649185 -0.022059   \n",
              "122880  1.396244 -0.381813 -0.300000  ...       NaN       NaN       NaN   \n",
              "\n",
              "             V24       V25       V26       V27       V28  Amount  Class  \n",
              "122876 -0.824320  0.404560 -0.143198  0.079818  0.012577   13.50    0.0  \n",
              "122877 -0.553524 -0.228278  0.991914 -0.191920 -0.208215   47.90    0.0  \n",
              "122878  0.082455 -0.150671  0.391760 -2.495895 -1.926718    1.46    0.0  \n",
              "122879 -0.401229 -0.271775  0.109694  0.248045  0.078265    0.89    0.0  \n",
              "122880       NaN       NaN       NaN       NaN       NaN     NaN    NaN  \n",
              "\n",
              "[5 rows x 31 columns]"
            ],
            "text/html": [
              "\n",
              "  <div id=\"df-6ace45ba-4b41-4c0b-a1a2-bb185a560dfe\" class=\"colab-df-container\">\n",
              "    <div>\n",
              "<style scoped>\n",
              "    .dataframe tbody tr th:only-of-type {\n",
              "        vertical-align: middle;\n",
              "    }\n",
              "\n",
              "    .dataframe tbody tr th {\n",
              "        vertical-align: top;\n",
              "    }\n",
              "\n",
              "    .dataframe thead th {\n",
              "        text-align: right;\n",
              "    }\n",
              "</style>\n",
              "<table border=\"1\" class=\"dataframe\">\n",
              "  <thead>\n",
              "    <tr style=\"text-align: right;\">\n",
              "      <th></th>\n",
              "      <th>Time</th>\n",
              "      <th>V1</th>\n",
              "      <th>V2</th>\n",
              "      <th>V3</th>\n",
              "      <th>V4</th>\n",
              "      <th>V5</th>\n",
              "      <th>V6</th>\n",
              "      <th>V7</th>\n",
              "      <th>V8</th>\n",
              "      <th>V9</th>\n",
              "      <th>...</th>\n",
              "      <th>V21</th>\n",
              "      <th>V22</th>\n",
              "      <th>V23</th>\n",
              "      <th>V24</th>\n",
              "      <th>V25</th>\n",
              "      <th>V26</th>\n",
              "      <th>V27</th>\n",
              "      <th>V28</th>\n",
              "      <th>Amount</th>\n",
              "      <th>Class</th>\n",
              "    </tr>\n",
              "  </thead>\n",
              "  <tbody>\n",
              "    <tr>\n",
              "      <th>122876</th>\n",
              "      <td>76720</td>\n",
              "      <td>1.491432</td>\n",
              "      <td>-1.300211</td>\n",
              "      <td>0.791864</td>\n",
              "      <td>-1.503432</td>\n",
              "      <td>-1.428550</td>\n",
              "      <td>0.646684</td>\n",
              "      <td>-1.629218</td>\n",
              "      <td>0.191358</td>\n",
              "      <td>-1.352736</td>\n",
              "      <td>...</td>\n",
              "      <td>-0.256461</td>\n",
              "      <td>-0.151511</td>\n",
              "      <td>-0.101947</td>\n",
              "      <td>-0.824320</td>\n",
              "      <td>0.404560</td>\n",
              "      <td>-0.143198</td>\n",
              "      <td>0.079818</td>\n",
              "      <td>0.012577</td>\n",
              "      <td>13.50</td>\n",
              "      <td>0.0</td>\n",
              "    </tr>\n",
              "    <tr>\n",
              "      <th>122877</th>\n",
              "      <td>76721</td>\n",
              "      <td>-0.156787</td>\n",
              "      <td>0.167566</td>\n",
              "      <td>1.872078</td>\n",
              "      <td>-0.750101</td>\n",
              "      <td>-0.269882</td>\n",
              "      <td>0.228433</td>\n",
              "      <td>0.277035</td>\n",
              "      <td>-0.060165</td>\n",
              "      <td>0.623997</td>\n",
              "      <td>...</td>\n",
              "      <td>-0.085758</td>\n",
              "      <td>-0.047960</td>\n",
              "      <td>-0.143981</td>\n",
              "      <td>-0.553524</td>\n",
              "      <td>-0.228278</td>\n",
              "      <td>0.991914</td>\n",
              "      <td>-0.191920</td>\n",
              "      <td>-0.208215</td>\n",
              "      <td>47.90</td>\n",
              "      <td>0.0</td>\n",
              "    </tr>\n",
              "    <tr>\n",
              "      <th>122878</th>\n",
              "      <td>76722</td>\n",
              "      <td>-4.407079</td>\n",
              "      <td>3.412674</td>\n",
              "      <td>0.262904</td>\n",
              "      <td>-2.292505</td>\n",
              "      <td>-0.076449</td>\n",
              "      <td>-0.721205</td>\n",
              "      <td>1.315481</td>\n",
              "      <td>-0.981098</td>\n",
              "      <td>3.410059</td>\n",
              "      <td>...</td>\n",
              "      <td>-0.515600</td>\n",
              "      <td>0.059942</td>\n",
              "      <td>-0.062766</td>\n",
              "      <td>0.082455</td>\n",
              "      <td>-0.150671</td>\n",
              "      <td>0.391760</td>\n",
              "      <td>-2.495895</td>\n",
              "      <td>-1.926718</td>\n",
              "      <td>1.46</td>\n",
              "      <td>0.0</td>\n",
              "    </tr>\n",
              "    <tr>\n",
              "      <th>122879</th>\n",
              "      <td>76723</td>\n",
              "      <td>-0.413685</td>\n",
              "      <td>0.900950</td>\n",
              "      <td>1.121659</td>\n",
              "      <td>-0.162497</td>\n",
              "      <td>0.319067</td>\n",
              "      <td>-0.052581</td>\n",
              "      <td>0.400233</td>\n",
              "      <td>0.322782</td>\n",
              "      <td>-0.401633</td>\n",
              "      <td>...</td>\n",
              "      <td>-0.223570</td>\n",
              "      <td>-0.649185</td>\n",
              "      <td>-0.022059</td>\n",
              "      <td>-0.401229</td>\n",
              "      <td>-0.271775</td>\n",
              "      <td>0.109694</td>\n",
              "      <td>0.248045</td>\n",
              "      <td>0.078265</td>\n",
              "      <td>0.89</td>\n",
              "      <td>0.0</td>\n",
              "    </tr>\n",
              "    <tr>\n",
              "      <th>122880</th>\n",
              "      <td>76723</td>\n",
              "      <td>-1.708808</td>\n",
              "      <td>0.777698</td>\n",
              "      <td>1.059110</td>\n",
              "      <td>-0.455618</td>\n",
              "      <td>0.345712</td>\n",
              "      <td>-0.893250</td>\n",
              "      <td>1.396244</td>\n",
              "      <td>-0.381813</td>\n",
              "      <td>-0.300000</td>\n",
              "      <td>...</td>\n",
              "      <td>NaN</td>\n",
              "      <td>NaN</td>\n",
              "      <td>NaN</td>\n",
              "      <td>NaN</td>\n",
              "      <td>NaN</td>\n",
              "      <td>NaN</td>\n",
              "      <td>NaN</td>\n",
              "      <td>NaN</td>\n",
              "      <td>NaN</td>\n",
              "      <td>NaN</td>\n",
              "    </tr>\n",
              "  </tbody>\n",
              "</table>\n",
              "<p>5 rows × 31 columns</p>\n",
              "</div>\n",
              "    <div class=\"colab-df-buttons\">\n",
              "\n",
              "  <div class=\"colab-df-container\">\n",
              "    <button class=\"colab-df-convert\" onclick=\"convertToInteractive('df-6ace45ba-4b41-4c0b-a1a2-bb185a560dfe')\"\n",
              "            title=\"Convert this dataframe to an interactive table.\"\n",
              "            style=\"display:none;\">\n",
              "\n",
              "  <svg xmlns=\"http://www.w3.org/2000/svg\" height=\"24px\" viewBox=\"0 -960 960 960\">\n",
              "    <path d=\"M120-120v-720h720v720H120Zm60-500h600v-160H180v160Zm220 220h160v-160H400v160Zm0 220h160v-160H400v160ZM180-400h160v-160H180v160Zm440 0h160v-160H620v160ZM180-180h160v-160H180v160Zm440 0h160v-160H620v160Z\"/>\n",
              "  </svg>\n",
              "    </button>\n",
              "\n",
              "  <style>\n",
              "    .colab-df-container {\n",
              "      display:flex;\n",
              "      gap: 12px;\n",
              "    }\n",
              "\n",
              "    .colab-df-convert {\n",
              "      background-color: #E8F0FE;\n",
              "      border: none;\n",
              "      border-radius: 50%;\n",
              "      cursor: pointer;\n",
              "      display: none;\n",
              "      fill: #1967D2;\n",
              "      height: 32px;\n",
              "      padding: 0 0 0 0;\n",
              "      width: 32px;\n",
              "    }\n",
              "\n",
              "    .colab-df-convert:hover {\n",
              "      background-color: #E2EBFA;\n",
              "      box-shadow: 0px 1px 2px rgba(60, 64, 67, 0.3), 0px 1px 3px 1px rgba(60, 64, 67, 0.15);\n",
              "      fill: #174EA6;\n",
              "    }\n",
              "\n",
              "    .colab-df-buttons div {\n",
              "      margin-bottom: 4px;\n",
              "    }\n",
              "\n",
              "    [theme=dark] .colab-df-convert {\n",
              "      background-color: #3B4455;\n",
              "      fill: #D2E3FC;\n",
              "    }\n",
              "\n",
              "    [theme=dark] .colab-df-convert:hover {\n",
              "      background-color: #434B5C;\n",
              "      box-shadow: 0px 1px 3px 1px rgba(0, 0, 0, 0.15);\n",
              "      filter: drop-shadow(0px 1px 2px rgba(0, 0, 0, 0.3));\n",
              "      fill: #FFFFFF;\n",
              "    }\n",
              "  </style>\n",
              "\n",
              "    <script>\n",
              "      const buttonEl =\n",
              "        document.querySelector('#df-6ace45ba-4b41-4c0b-a1a2-bb185a560dfe button.colab-df-convert');\n",
              "      buttonEl.style.display =\n",
              "        google.colab.kernel.accessAllowed ? 'block' : 'none';\n",
              "\n",
              "      async function convertToInteractive(key) {\n",
              "        const element = document.querySelector('#df-6ace45ba-4b41-4c0b-a1a2-bb185a560dfe');\n",
              "        const dataTable =\n",
              "          await google.colab.kernel.invokeFunction('convertToInteractive',\n",
              "                                                    [key], {});\n",
              "        if (!dataTable) return;\n",
              "\n",
              "        const docLinkHtml = 'Like what you see? Visit the ' +\n",
              "          '<a target=\"_blank\" href=https://colab.research.google.com/notebooks/data_table.ipynb>data table notebook</a>'\n",
              "          + ' to learn more about interactive tables.';\n",
              "        element.innerHTML = '';\n",
              "        dataTable['output_type'] = 'display_data';\n",
              "        await google.colab.output.renderOutput(dataTable, element);\n",
              "        const docLink = document.createElement('div');\n",
              "        docLink.innerHTML = docLinkHtml;\n",
              "        element.appendChild(docLink);\n",
              "      }\n",
              "    </script>\n",
              "  </div>\n",
              "\n",
              "\n",
              "<div id=\"df-ba5bffcf-916c-4861-98ee-610cf08db6c6\">\n",
              "  <button class=\"colab-df-quickchart\" onclick=\"quickchart('df-ba5bffcf-916c-4861-98ee-610cf08db6c6')\"\n",
              "            title=\"Suggest charts\"\n",
              "            style=\"display:none;\">\n",
              "\n",
              "<svg xmlns=\"http://www.w3.org/2000/svg\" height=\"24px\"viewBox=\"0 0 24 24\"\n",
              "     width=\"24px\">\n",
              "    <g>\n",
              "        <path d=\"M19 3H5c-1.1 0-2 .9-2 2v14c0 1.1.9 2 2 2h14c1.1 0 2-.9 2-2V5c0-1.1-.9-2-2-2zM9 17H7v-7h2v7zm4 0h-2V7h2v10zm4 0h-2v-4h2v4z\"/>\n",
              "    </g>\n",
              "</svg>\n",
              "  </button>\n",
              "\n",
              "<style>\n",
              "  .colab-df-quickchart {\n",
              "      --bg-color: #E8F0FE;\n",
              "      --fill-color: #1967D2;\n",
              "      --hover-bg-color: #E2EBFA;\n",
              "      --hover-fill-color: #174EA6;\n",
              "      --disabled-fill-color: #AAA;\n",
              "      --disabled-bg-color: #DDD;\n",
              "  }\n",
              "\n",
              "  [theme=dark] .colab-df-quickchart {\n",
              "      --bg-color: #3B4455;\n",
              "      --fill-color: #D2E3FC;\n",
              "      --hover-bg-color: #434B5C;\n",
              "      --hover-fill-color: #FFFFFF;\n",
              "      --disabled-bg-color: #3B4455;\n",
              "      --disabled-fill-color: #666;\n",
              "  }\n",
              "\n",
              "  .colab-df-quickchart {\n",
              "    background-color: var(--bg-color);\n",
              "    border: none;\n",
              "    border-radius: 50%;\n",
              "    cursor: pointer;\n",
              "    display: none;\n",
              "    fill: var(--fill-color);\n",
              "    height: 32px;\n",
              "    padding: 0;\n",
              "    width: 32px;\n",
              "  }\n",
              "\n",
              "  .colab-df-quickchart:hover {\n",
              "    background-color: var(--hover-bg-color);\n",
              "    box-shadow: 0 1px 2px rgba(60, 64, 67, 0.3), 0 1px 3px 1px rgba(60, 64, 67, 0.15);\n",
              "    fill: var(--button-hover-fill-color);\n",
              "  }\n",
              "\n",
              "  .colab-df-quickchart-complete:disabled,\n",
              "  .colab-df-quickchart-complete:disabled:hover {\n",
              "    background-color: var(--disabled-bg-color);\n",
              "    fill: var(--disabled-fill-color);\n",
              "    box-shadow: none;\n",
              "  }\n",
              "\n",
              "  .colab-df-spinner {\n",
              "    border: 2px solid var(--fill-color);\n",
              "    border-color: transparent;\n",
              "    border-bottom-color: var(--fill-color);\n",
              "    animation:\n",
              "      spin 1s steps(1) infinite;\n",
              "  }\n",
              "\n",
              "  @keyframes spin {\n",
              "    0% {\n",
              "      border-color: transparent;\n",
              "      border-bottom-color: var(--fill-color);\n",
              "      border-left-color: var(--fill-color);\n",
              "    }\n",
              "    20% {\n",
              "      border-color: transparent;\n",
              "      border-left-color: var(--fill-color);\n",
              "      border-top-color: var(--fill-color);\n",
              "    }\n",
              "    30% {\n",
              "      border-color: transparent;\n",
              "      border-left-color: var(--fill-color);\n",
              "      border-top-color: var(--fill-color);\n",
              "      border-right-color: var(--fill-color);\n",
              "    }\n",
              "    40% {\n",
              "      border-color: transparent;\n",
              "      border-right-color: var(--fill-color);\n",
              "      border-top-color: var(--fill-color);\n",
              "    }\n",
              "    60% {\n",
              "      border-color: transparent;\n",
              "      border-right-color: var(--fill-color);\n",
              "    }\n",
              "    80% {\n",
              "      border-color: transparent;\n",
              "      border-right-color: var(--fill-color);\n",
              "      border-bottom-color: var(--fill-color);\n",
              "    }\n",
              "    90% {\n",
              "      border-color: transparent;\n",
              "      border-bottom-color: var(--fill-color);\n",
              "    }\n",
              "  }\n",
              "</style>\n",
              "\n",
              "  <script>\n",
              "    async function quickchart(key) {\n",
              "      const quickchartButtonEl =\n",
              "        document.querySelector('#' + key + ' button');\n",
              "      quickchartButtonEl.disabled = true;  // To prevent multiple clicks.\n",
              "      quickchartButtonEl.classList.add('colab-df-spinner');\n",
              "      try {\n",
              "        const charts = await google.colab.kernel.invokeFunction(\n",
              "            'suggestCharts', [key], {});\n",
              "      } catch (error) {\n",
              "        console.error('Error during call to suggestCharts:', error);\n",
              "      }\n",
              "      quickchartButtonEl.classList.remove('colab-df-spinner');\n",
              "      quickchartButtonEl.classList.add('colab-df-quickchart-complete');\n",
              "    }\n",
              "    (() => {\n",
              "      let quickchartButtonEl =\n",
              "        document.querySelector('#df-ba5bffcf-916c-4861-98ee-610cf08db6c6 button');\n",
              "      quickchartButtonEl.style.display =\n",
              "        google.colab.kernel.accessAllowed ? 'block' : 'none';\n",
              "    })();\n",
              "  </script>\n",
              "</div>\n",
              "    </div>\n",
              "  </div>\n"
            ]
          },
          "metadata": {},
          "execution_count": 11
        }
      ]
    },
    {
      "cell_type": "markdown",
      "source": [
        "Data Preproccesing and preparing datasets"
      ],
      "metadata": {
        "id": "-S5jOz-E-uKl"
      }
    },
    {
      "cell_type": "code",
      "source": [
        "#checking for any missing values\n",
        "\n",
        "\n",
        "df.isnull().sum()"
      ],
      "metadata": {
        "colab": {
          "base_uri": "https://localhost:8080/"
        },
        "id": "po6gfGtn9UlG",
        "outputId": "f481a535-f5f1-4ab5-c9a8-32cd92225c13"
      },
      "execution_count": null,
      "outputs": [
        {
          "output_type": "execute_result",
          "data": {
            "text/plain": [
              "Time      0\n",
              "V1        0\n",
              "V2        0\n",
              "V3        0\n",
              "V4        0\n",
              "V5        0\n",
              "V6        0\n",
              "V7        0\n",
              "V8        0\n",
              "V9        0\n",
              "V10       0\n",
              "V11       0\n",
              "V12       0\n",
              "V13       0\n",
              "V14       0\n",
              "V15       0\n",
              "V16       0\n",
              "V17       0\n",
              "V18       0\n",
              "V19       0\n",
              "V20       0\n",
              "V21       0\n",
              "V22       0\n",
              "V23       0\n",
              "V24       0\n",
              "V25       0\n",
              "V26       0\n",
              "V27       0\n",
              "V28       0\n",
              "Amount    0\n",
              "Class     0\n",
              "dtype: int64"
            ]
          },
          "metadata": {},
          "execution_count": 26
        }
      ]
    },
    {
      "cell_type": "code",
      "source": [
        "df.isnull().values.any()"
      ],
      "metadata": {
        "colab": {
          "base_uri": "https://localhost:8080/"
        },
        "id": "9Od92Hok9UiC",
        "outputId": "492bbae3-5fba-4b10-88f3-9652eb74b975"
      },
      "execution_count": null,
      "outputs": [
        {
          "output_type": "execute_result",
          "data": {
            "text/plain": [
              "False"
            ]
          },
          "metadata": {},
          "execution_count": 27
        }
      ]
    },
    {
      "cell_type": "code",
      "source": [
        "fig,ax=plt.subplots(figsize=(8,8))\n",
        "sns.distplot(df)"
      ],
      "metadata": {
        "colab": {
          "base_uri": "https://localhost:8080/",
          "height": 884
        },
        "id": "gqI3jGOSGibl",
        "outputId": "75db9828-7c5e-4021-8f30-4fe2ab783c7f"
      },
      "execution_count": null,
      "outputs": [
        {
          "output_type": "stream",
          "name": "stderr",
          "text": [
            "<ipython-input-17-3a5b8791aa63>:2: UserWarning: \n",
            "\n",
            "`distplot` is a deprecated function and will be removed in seaborn v0.14.0.\n",
            "\n",
            "Please adapt your code to use either `displot` (a figure-level function with\n",
            "similar flexibility) or `histplot` (an axes-level function for histograms).\n",
            "\n",
            "For a guide to updating your code to use the new functions, please see\n",
            "https://gist.github.com/mwaskom/de44147ed2974457ad6372750bbe5751\n",
            "\n",
            "  sns.distplot(df)\n"
          ]
        },
        {
          "output_type": "execute_result",
          "data": {
            "text/plain": [
              "<Axes: ylabel='Density'>"
            ]
          },
          "metadata": {},
          "execution_count": 17
        },
        {
          "output_type": "display_data",
          "data": {
            "text/plain": [
              "<Figure size 800x800 with 1 Axes>"
            ],
            "image/png": "[encoded data removed]"
          },
          "metadata": {}
        }
      ]
    },
    {
      "cell_type": "code",
      "source": [
        "#we have missing values\n",
        "#we need to handle them now\n",
        "\n",
        "#methods to handle\n",
        "#    1.imputation\n",
        "#    2.just dropping"
      ],
      "metadata": {
        "id": "KbY9mTDn9UFh"
      },
      "execution_count": null,
      "outputs": []
    },
    {
      "cell_type": "code",
      "source": [
        "df.shape"
      ],
      "metadata": {
        "colab": {
          "base_uri": "https://localhost:8080/"
        },
        "id": "wcjBW8OPFDO0",
        "outputId": "af441915-92cb-470a-cf04-36a9a71280c1"
      },
      "execution_count": null,
      "outputs": [
        {
          "output_type": "execute_result",
          "data": {
            "text/plain": [
              "(122881, 31)"
            ]
          },
          "metadata": {},
          "execution_count": 14
        }
      ]
    },
    {
      "cell_type": "code",
      "source": [
        "#filling missing values in V10 with median\n",
        "\n",
        "\n",
        "df['V10'].fillna(df['V10'].median(),inplace=True)\n",
        "\n",
        "\n",
        "\n",
        "#if we find any null values"
      ],
      "metadata": {
        "id": "9ZBiqKM0Fqhj"
      },
      "execution_count": null,
      "outputs": []
    },
    {
      "cell_type": "code",
      "source": [
        "df.info()"
      ],
      "metadata": {
        "colab": {
          "base_uri": "https://localhost:8080/"
        },
        "id": "ab-095_eIRxJ",
        "outputId": "bd784780-300e-4196-b98a-587376b28475"
      },
      "execution_count": null,
      "outputs": [
        {
          "output_type": "stream",
          "name": "stdout",
          "text": [
            "<class 'pandas.core.frame.DataFrame'>\n",
            "RangeIndex: 284807 entries, 0 to 284806\n",
            "Data columns (total 31 columns):\n",
            " #   Column  Non-Null Count   Dtype  \n",
            "---  ------  --------------   -----  \n",
            " 0   Time    284807 non-null  float64\n",
            " 1   V1      284807 non-null  float64\n",
            " 2   V2      284807 non-null  float64\n",
            " 3   V3      284807 non-null  float64\n",
            " 4   V4      284807 non-null  float64\n",
            " 5   V5      284807 non-null  float64\n",
            " 6   V6      284807 non-null  float64\n",
            " 7   V7      284807 non-null  float64\n",
            " 8   V8      284807 non-null  float64\n",
            " 9   V9      284807 non-null  float64\n",
            " 10  V10     284807 non-null  float64\n",
            " 11  V11     284807 non-null  float64\n",
            " 12  V12     284807 non-null  float64\n",
            " 13  V13     284807 non-null  float64\n",
            " 14  V14     284807 non-null  float64\n",
            " 15  V15     284807 non-null  float64\n",
            " 16  V16     284807 non-null  float64\n",
            " 17  V17     284807 non-null  float64\n",
            " 18  V18     284807 non-null  float64\n",
            " 19  V19     284807 non-null  float64\n",
            " 20  V20     284807 non-null  float64\n",
            " 21  V21     284807 non-null  float64\n",
            " 22  V22     284807 non-null  float64\n",
            " 23  V23     284807 non-null  float64\n",
            " 24  V24     284807 non-null  float64\n",
            " 25  V25     284807 non-null  float64\n",
            " 26  V26     284807 non-null  float64\n",
            " 27  V27     284807 non-null  float64\n",
            " 28  V28     284807 non-null  float64\n",
            " 29  Amount  284807 non-null  float64\n",
            " 30  Class   284807 non-null  int64  \n",
            "dtypes: float64(30), int64(1)\n",
            "memory usage: 67.4 MB\n"
          ]
        }
      ]
    },
    {
      "cell_type": "code",
      "source": [
        "df.isnull().sum()"
      ],
      "metadata": {
        "colab": {
          "base_uri": "https://localhost:8080/"
        },
        "id": "zl58XVJPIRtz",
        "outputId": "e176f117-b0c2-4d96-b1d6-9d4962004d4c"
      },
      "execution_count": null,
      "outputs": [
        {
          "output_type": "execute_result",
          "data": {
            "text/plain": [
              "Time      0\n",
              "V1        0\n",
              "V2        0\n",
              "V3        0\n",
              "V4        0\n",
              "V5        0\n",
              "V6        0\n",
              "V7        0\n",
              "V8        0\n",
              "V9        0\n",
              "V10       0\n",
              "V11       0\n",
              "V12       0\n",
              "V13       0\n",
              "V14       0\n",
              "V15       0\n",
              "V16       0\n",
              "V17       0\n",
              "V18       0\n",
              "V19       0\n",
              "V20       0\n",
              "V21       0\n",
              "V22       0\n",
              "V23       0\n",
              "V24       0\n",
              "V25       0\n",
              "V26       0\n",
              "V27       0\n",
              "V28       0\n",
              "Amount    0\n",
              "Class     0\n",
              "dtype: int64"
            ]
          },
          "metadata": {},
          "execution_count": 56
        }
      ]
    },
    {
      "cell_type": "code",
      "source": [
        "#checking distribution of legit transcation and fradulent transaction\n",
        "\n",
        "df['Class'].value_counts()"
      ],
      "metadata": {
        "colab": {
          "base_uri": "https://localhost:8080/"
        },
        "id": "BETeiacZIRmf",
        "outputId": "cf03393e-5e0c-40c7-9cbe-5c768617bca3"
      },
      "execution_count": null,
      "outputs": [
        {
          "output_type": "execute_result",
          "data": {
            "text/plain": [
              "0    284315\n",
              "1       492\n",
              "Name: Class, dtype: int64"
            ]
          },
          "metadata": {},
          "execution_count": 30
        }
      ]
    },
    {
      "cell_type": "code",
      "source": [
        "#this shows the data is highly unbalanced\n",
        "\n",
        "#    0  means normal\n",
        "#    1  means  fraud"
      ],
      "metadata": {
        "id": "7VFv9EW5KvtM"
      },
      "execution_count": null,
      "outputs": []
    },
    {
      "cell_type": "code",
      "source": [
        "#knowing some statistis of data\n",
        "\n",
        "df.Amount.describe()"
      ],
      "metadata": {
        "colab": {
          "base_uri": "https://localhost:8080/"
        },
        "id": "WCYoG39RL20R",
        "outputId": "5f2a16b9-c6c4-48fe-9b2c-e37ea5b34f58"
      },
      "execution_count": null,
      "outputs": [
        {
          "output_type": "execute_result",
          "data": {
            "text/plain": [
              "count    284807.000000\n",
              "mean         88.349619\n",
              "std         250.120109\n",
              "min           0.000000\n",
              "25%           5.600000\n",
              "50%          22.000000\n",
              "75%          77.165000\n",
              "max       25691.160000\n",
              "Name: Amount, dtype: float64"
            ]
          },
          "metadata": {},
          "execution_count": 36
        }
      ]
    },
    {
      "cell_type": "code",
      "source": [
        "#dropping time attribute\n",
        "\n",
        "df.drop('Time',axis=1,inplace=True)"
      ],
      "metadata": {
        "id": "70lAjEzXm1m3"
      },
      "execution_count": null,
      "outputs": []
    },
    {
      "cell_type": "code",
      "source": [
        "#  X is dependnt feature\n",
        "X=df.drop('Class',axis=1)\n",
        "#    y is independent feature\n",
        "y=df['Class']\n",
        "\n",
        "\n",
        "X.shape,y.shape"
      ],
      "metadata": {
        "colab": {
          "base_uri": "https://localhost:8080/"
        },
        "id": "2igg6EiEm1jh",
        "outputId": "4d7d42bc-1754-4a92-f71f-60cd3fd90ab5"
      },
      "execution_count": null,
      "outputs": [
        {
          "output_type": "execute_result",
          "data": {
            "text/plain": [
              "((284807, 29), (284807,))"
            ]
          },
          "metadata": {},
          "execution_count": 59
        }
      ]
    },
    {
      "cell_type": "markdown",
      "source": [
        "**Normalising Amount attribute using StandardScaler**\n",
        "\n"
      ],
      "metadata": {
        "id": "29m47Kkon0TS"
      }
    },
    {
      "cell_type": "code",
      "source": [
        "temp_df=df.copy()"
      ],
      "metadata": {
        "id": "xwz6vPZlm1gm"
      },
      "execution_count": null,
      "outputs": []
    },
    {
      "cell_type": "code",
      "source": [
        "from sklearn.preprocessing import StandardScaler\n",
        "\n",
        "standard=StandardScaler()\n",
        "amount=temp_df['Amount'].values\n",
        "temp_df['Amount']=standard.fit_transform(amount.reshape(-1,1))\n",
        "\n",
        "\n",
        "X_scaled=temp_df.drop('Class',axis=1)\n",
        "y_scaled=temp_df['Class']\n",
        "\n",
        "X_scaled.shape, y_scaled.shape"
      ],
      "metadata": {
        "colab": {
          "base_uri": "https://localhost:8080/"
        },
        "id": "woQZQizym1dc",
        "outputId": "7703977a-903a-4496-bf5d-50090e987fba"
      },
      "execution_count": null,
      "outputs": [
        {
          "output_type": "execute_result",
          "data": {
            "text/plain": [
              "((284807, 29), (284807,))"
            ]
          },
          "metadata": {},
          "execution_count": 61
        }
      ]
    },
    {
      "cell_type": "markdown",
      "source": [
        "**Exploratory Data Analysis and Visualisation**"
      ],
      "metadata": {
        "id": "73R-74lep8xD"
      }
    },
    {
      "cell_type": "code",
      "source": [
        "df['Class'].value_counts()"
      ],
      "metadata": {
        "colab": {
          "base_uri": "https://localhost:8080/"
        },
        "id": "JxM5FPYWm1R9",
        "outputId": "21faa409-569e-49eb-e6a8-3280e28211da"
      },
      "execution_count": null,
      "outputs": [
        {
          "output_type": "execute_result",
          "data": {
            "text/plain": [
              "0    284315\n",
              "1       492\n",
              "Name: Class, dtype: int64"
            ]
          },
          "metadata": {},
          "execution_count": 62
        }
      ]
    },
    {
      "cell_type": "code",
      "source": [
        "class_count_df = pd.DataFrame(df['Class'].value_counts().rename_axis('Class').reset_index(name='Counts'))\n",
        "class_count_df['Class'].replace({0:'Normal',\n",
        "                                 1:'Fraud'}, inplace=True)\n",
        "class_count_df.head()"
      ],
      "metadata": {
        "colab": {
          "base_uri": "https://localhost:8080/",
          "height": 730
        },
        "id": "xb8syL7sm1FN",
        "outputId": "d651e8f1-96dd-48d2-fdb6-cecd95812365"
      },
      "execution_count": null,
      "outputs": [
        {
          "output_type": "execute_result",
          "data": {
            "text/plain": [
              "    Class  Counts\n",
              "0  Normal  284315\n",
              "1   Fraud     492"
            ],
            "text/html": [
              "\n",
              "  <div id=\"df-b27f6c92-eed1-4fb1-bb5e-d40d46de3428\" class=\"colab-df-container\">\n",
              "    <div>\n",
              "<style scoped>\n",
              "    .dataframe tbody tr th:only-of-type {\n",
              "        vertical-align: middle;\n",
              "    }\n",
              "\n",
              "    .dataframe tbody tr th {\n",
              "        vertical-align: top;\n",
              "    }\n",
              "\n",
              "    .dataframe thead th {\n",
              "        text-align: right;\n",
              "    }\n",
              "</style>\n",
              "<table border=\"1\" class=\"dataframe\">\n",
              "  <thead>\n",
              "    <tr style=\"text-align: right;\">\n",
              "      <th></th>\n",
              "      <th>Class</th>\n",
              "      <th>Counts</th>\n",
              "    </tr>\n",
              "  </thead>\n",
              "  <tbody>\n",
              "    <tr>\n",
              "      <th>0</th>\n",
              "      <td>Normal</td>\n",
              "      <td>284315</td>\n",
              "    </tr>\n",
              "    <tr>\n",
              "      <th>1</th>\n",
              "      <td>Fraud</td>\n",
              "      <td>492</td>\n",
              "    </tr>\n",
              "  </tbody>\n",
              "</table>\n",
              "</div>\n",
              "    <div class=\"colab-df-buttons\">\n",
              "\n",
              "  <div class=\"colab-df-container\">\n",
              "    <button class=\"colab-df-convert\" onclick=\"convertToInteractive('df-b27f6c92-eed1-4fb1-bb5e-d40d46de3428')\"\n",
              "            title=\"Convert this dataframe to an interactive table.\"\n",
              "            style=\"display:none;\">\n",
              "\n",
              "  <svg xmlns=\"http://www.w3.org/2000/svg\" height=\"24px\" viewBox=\"0 -960 960 960\">\n",
              "    <path d=\"M120-120v-720h720v720H120Zm60-500h600v-160H180v160Zm220 220h160v-160H400v160Zm0 220h160v-160H400v160ZM180-400h160v-160H180v160Zm440 0h160v-160H620v160ZM180-180h160v-160H180v160Zm440 0h160v-160H620v160Z\"/>\n",
              "  </svg>\n",
              "    </button>\n",
              "\n",
              "  <style>\n",
              "    .colab-df-container {\n",
              "      display:flex;\n",
              "      gap: 12px;\n",
              "    }\n",
              "\n",
              "    .colab-df-convert {\n",
              "      background-color: #E8F0FE;\n",
              "      border: none;\n",
              "      border-radius: 50%;\n",
              "      cursor: pointer;\n",
              "      display: none;\n",
              "      fill: #1967D2;\n",
              "      height: 32px;\n",
              "      padding: 0 0 0 0;\n",
              "      width: 32px;\n",
              "    }\n",
              "\n",
              "    .colab-df-convert:hover {\n",
              "      background-color: #E2EBFA;\n",
              "      box-shadow: 0px 1px 2px rgba(60, 64, 67, 0.3), 0px 1px 3px 1px rgba(60, 64, 67, 0.15);\n",
              "      fill: #174EA6;\n",
              "    }\n",
              "\n",
              "    .colab-df-buttons div {\n",
              "      margin-bottom: 4px;\n",
              "    }\n",
              "\n",
              "    [theme=dark] .colab-df-convert {\n",
              "      background-color: #3B4455;\n",
              "      fill: #D2E3FC;\n",
              "    }\n",
              "\n",
              "    [theme=dark] .colab-df-convert:hover {\n",
              "      background-color: #434B5C;\n",
              "      box-shadow: 0px 1px 3px 1px rgba(0, 0, 0, 0.15);\n",
              "      filter: drop-shadow(0px 1px 2px rgba(0, 0, 0, 0.3));\n",
              "      fill: #FFFFFF;\n",
              "    }\n",
              "  </style>\n",
              "\n",
              "    <script>\n",
              "      const buttonEl =\n",
              "        document.querySelector('#df-b27f6c92-eed1-4fb1-bb5e-d40d46de3428 button.colab-df-convert');\n",
              "      buttonEl.style.display =\n",
              "        google.colab.kernel.accessAllowed ? 'block' : 'none';\n",
              "\n",
              "      async function convertToInteractive(key) {\n",
              "        const element = document.querySelector('#df-b27f6c92-eed1-4fb1-bb5e-d40d46de3428');\n",
              "        const dataTable =\n",
              "          await google.colab.kernel.invokeFunction('convertToInteractive',\n",
              "                                                    [key], {});\n",
              "        if (!dataTable) return;\n",
              "\n",
              "        const docLinkHtml = 'Like what you see? Visit the ' +\n",
              "          '<a target=\"_blank\" href=https://colab.research.google.com/notebooks/data_table.ipynb>data table notebook</a>'\n",
              "          + ' to learn more about interactive tables.';\n",
              "        element.innerHTML = '';\n",
              "        dataTable['output_type'] = 'display_data';\n",
              "        await google.colab.output.renderOutput(dataTable, element);\n",
              "        const docLink = document.createElement('div');\n",
              "        docLink.innerHTML = docLinkHtml;\n",
              "        element.appendChild(docLink);\n",
              "      }\n",
              "    </script>\n",
              "  </div>\n",
              "\n",
              "\n",
              "<div id=\"df-5954f46c-d754-4908-a3bf-9b20aa95ec47\">\n",
              "  <button class=\"colab-df-quickchart\" onclick=\"quickchart('df-5954f46c-d754-4908-a3bf-9b20aa95ec47')\"\n",
              "            title=\"Suggest charts\"\n",
              "            style=\"display:none;\">\n",
              "\n",
              "<svg xmlns=\"http://www.w3.org/2000/svg\" height=\"24px\"viewBox=\"0 0 24 24\"\n",
              "     width=\"24px\">\n",
              "    <g>\n",
              "        <path d=\"M19 3H5c-1.1 0-2 .9-2 2v14c0 1.1.9 2 2 2h14c1.1 0 2-.9 2-2V5c0-1.1-.9-2-2-2zM9 17H7v-7h2v7zm4 0h-2V7h2v10zm4 0h-2v-4h2v4z\"/>\n",
              "    </g>\n",
              "</svg>\n",
              "  </button>\n",
              "\n",
              "<style>\n",
              "  .colab-df-quickchart {\n",
              "      --bg-color: #E8F0FE;\n",
              "      --fill-color: #1967D2;\n",
              "      --hover-bg-color: #E2EBFA;\n",
              "      --hover-fill-color: #174EA6;\n",
              "      --disabled-fill-color: #AAA;\n",
              "      --disabled-bg-color: #DDD;\n",
              "  }\n",
              "\n",
              "  [theme=dark] .colab-df-quickchart {\n",
              "      --bg-color: #3B4455;\n",
              "      --fill-color: #D2E3FC;\n",
              "      --hover-bg-color: #434B5C;\n",
              "      --hover-fill-color: #FFFFFF;\n",
              "      --disabled-bg-color: #3B4455;\n",
              "      --disabled-fill-color: #666;\n",
              "  }\n",
              "\n",
              "  .colab-df-quickchart {\n",
              "    background-color: var(--bg-color);\n",
              "    border: none;\n",
              "    border-radius: 50%;\n",
              "    cursor: pointer;\n",
              "    display: none;\n",
              "    fill: var(--fill-color);\n",
              "    height: 32px;\n",
              "    padding: 0;\n",
              "    width: 32px;\n",
              "  }\n",
              "\n",
              "  .colab-df-quickchart:hover {\n",
              "    background-color: var(--hover-bg-color);\n",
              "    box-shadow: 0 1px 2px rgba(60, 64, 67, 0.3), 0 1px 3px 1px rgba(60, 64, 67, 0.15);\n",
              "    fill: var(--button-hover-fill-color);\n",
              "  }\n",
              "\n",
              "  .colab-df-quickchart-complete:disabled,\n",
              "  .colab-df-quickchart-complete:disabled:hover {\n",
              "    background-color: var(--disabled-bg-color);\n",
              "    fill: var(--disabled-fill-color);\n",
              "    box-shadow: none;\n",
              "  }\n",
              "\n",
              "  .colab-df-spinner {\n",
              "    border: 2px solid var(--fill-color);\n",
              "    border-color: transparent;\n",
              "    border-bottom-color: var(--fill-color);\n",
              "    animation:\n",
              "      spin 1s steps(1) infinite;\n",
              "  }\n",
              "\n",
              "  @keyframes spin {\n",
              "    0% {\n",
              "      border-color: transparent;\n",
              "      border-bottom-color: var(--fill-color);\n",
              "      border-left-color: var(--fill-color);\n",
              "    }\n",
              "    20% {\n",
              "      border-color: transparent;\n",
              "      border-left-color: var(--fill-color);\n",
              "      border-top-color: var(--fill-color);\n",
              "    }\n",
              "    30% {\n",
              "      border-color: transparent;\n",
              "      border-left-color: var(--fill-color);\n",
              "      border-top-color: var(--fill-color);\n",
              "      border-right-color: var(--fill-color);\n",
              "    }\n",
              "    40% {\n",
              "      border-color: transparent;\n",
              "      border-right-color: var(--fill-color);\n",
              "      border-top-color: var(--fill-color);\n",
              "    }\n",
              "    60% {\n",
              "      border-color: transparent;\n",
              "      border-right-color: var(--fill-color);\n",
              "    }\n",
              "    80% {\n",
              "      border-color: transparent;\n",
              "      border-right-color: var(--fill-color);\n",
              "      border-bottom-color: var(--fill-color);\n",
              "    }\n",
              "    90% {\n",
              "      border-color: transparent;\n",
              "      border-bottom-color: var(--fill-color);\n",
              "    }\n",
              "  }\n",
              "</style>\n",
              "\n",
              "  <script>\n",
              "    async function quickchart(key) {\n",
              "      const quickchartButtonEl =\n",
              "        document.querySelector('#' + key + ' button');\n",
              "      quickchartButtonEl.disabled = true;  // To prevent multiple clicks.\n",
              "      quickchartButtonEl.classList.add('colab-df-spinner');\n",
              "      try {\n",
              "        const charts = await google.colab.kernel.invokeFunction(\n",
              "            'suggestCharts', [key], {});\n",
              "      } catch (error) {\n",
              "        console.error('Error during call to suggestCharts:', error);\n",
              "      }\n",
              "      quickchartButtonEl.classList.remove('colab-df-spinner');\n",
              "      quickchartButtonEl.classList.add('colab-df-quickchart-complete');\n",
              "    }\n",
              "    (() => {\n",
              "      let quickchartButtonEl =\n",
              "        document.querySelector('#df-5954f46c-d754-4908-a3bf-9b20aa95ec47 button');\n",
              "      quickchartButtonEl.style.display =\n",
              "        google.colab.kernel.accessAllowed ? 'block' : 'none';\n",
              "    })();\n",
              "  </script>\n",
              "</div>\n",
              "    </div>\n",
              "  </div>\n"
            ]
          },
          "metadata": {},
          "execution_count": 64
        },
        {
          "output_type": "display_data",
          "data": {
            "text/plain": [
              "<google.colab._quickchart_helpers.SectionTitle at 0x7c9b74db4ca0>"
            ],
            "text/html": [
              "<h4 class=\"colab-quickchart-section-title\">Distributions</h4>\n",
              "<style>\n",
              "  .colab-quickchart-section-title {\n",
              "      clear: both;\n",
              "  }\n",
              "</style>"
            ]
          },
          "metadata": {}
        },
        {
          "output_type": "display_data",
          "data": {
            "text/plain": [
              "from matplotlib import pyplot as plt\n",
              "_df_0['Counts'].plot(kind='hist', bins=20, title='Counts')\n",
              "plt.gca().spines[['top', 'right',]].set_visible(False)"
            ],
            "text/html": [
              "      <div class=\"colab-quickchart-chart-with-code\" id=\"chart-21c828e5-8efe-4f85-937c-10eb41baeecd\">\n",
              "        <img style=\"width: 180px;\" src=\"data:image/png;base64,iVBORw0KGgoAAAANSUhEUgAAAioAAAGrCAYAAADuNLxTAAAAOXRFWHRTb2Z0d2FyZQBNYXRwbG90\n",
              "bGliIHZlcnNpb24zLjcuMSwgaHR0cHM6Ly9tYXRwbG90bGliLm9yZy/bCgiHAAAACXBIWXMAAA9h\n",
              "AAAPYQGoP6dpAAAe+0lEQVR4nO3de5DV9X3/8de6a7dGuSQoSoEVZVmiIiAGxqL1WqemP4NWTGta\n",
              "EknkYkxqM2SqIdZJTBuxM20TGifDIhYvTDVVtGU0MZPUS0xCBDReglVAxd0YFGtGVxNFWb6/Pxx3\n",
              "suJaF/ewn9XHY+bMcM757Pe8z2d24DnnfDmnrqqqKgAABdqjvwcAAOiJUAEAiiVUAIBiCRUAoFhC\n",
              "BQAollABAIolVACAYgkVAKBYQgUAKJZQAQCKJVSAPvPQQw/lrLPOyogRI7LPPvtkzJgx+cQnPpH7\n",
              "7rtvtzz+5s2bU1dXl02bNu2WxwNqT6gAfeLOO+/MtGnTsv/++2f16tV58cUXc//99+fkk0/ODTfc\n",
              "0N/jAQOUUAH6xPz583PmmWdm8eLFGTNmTOrq6jJ06NB85jOfyaJFi5IkV111VSZMmJDBgwdnwoQJ\n",
              "ufrqq7t+/s4770xdXV22b9/eddtVV12VUaNGdV2fPXt2zjrrrHz+85/PsGHDsv/+++fiiy/uuv+w\n",
              "ww5LkkyaNCn77LNPzj333CTJ5ZdfnrFjx2bQoEHZf//9M3v27FpuBdCHGvp7AGDg27hxYzZs2JDL\n",
              "L7+8xzUrV67M+eefn5tvvjnHH3987rjjjpx++ukZMmRITj/99Hf8WDfffHOuvvrqLF68OGvWrMmx\n",
              "xx6bE088MSeccELWr1+fgw46KA888ECam5u7ZrvggguyZs2aTJgwIS+99NJueysKePe8ogK8a1u3\n",
              "bk2Sbq9+vNnSpUtzzjnn5KSTTkp9fX3++I//OOecc06WLFnSq8c6+uijc9ZZZ6W+vj5/+Id/mMmT\n",
              "J2fNmjU9rm9oaEhVVVm/fn06Ojqyzz775Nhjj+3VYwL9R6gA79rw4cOTJL/85S97XNPe3p6xY8d2\n",
              "u625uTltbW29eqw/+IM/6HZ97733zosvvtjj+oMOOijXX399li9fnqampkydOjXXXXddrx4T6D9C\n",
              "BXjXxo0bl5aWllx77bU9rhk9enQee+yxbrc99thjaWpqSpIMGjQoSfKb3/ym6/5f/epXvZpjjz3e\n",
              "+q+00047Lbfddlv+93//N3/7t3+bv/qrv8qGDRt6dWygfwgVoE+0trbmhhtuyIIFC/Lkk0+mqqp0\n",
              "dHTkmmuuyUUXXZQ5c+bk3/7t33LnnXems7Mzt99+e6688srMmzcvSdLS0pJBgwaltbU1O3bsyP33\n",
              "35+lS5f2aob99tsve+yxRx599NGu2x599NF897vfzUsvvZSGhoYMGTIkSVJfX993Tx6oGaEC9Inj\n",
              "jz8+99xzT5566qlMmzYtgwYNysSJE3PbbbflzDPPzMc//vH88z//c84777wMHTo0f/3Xf53Fixfn\n",
              "jDPOSPL6KypXX311li5dmsGDB2fhwoVdEfNO7bXXXrn00kszZ86cDB06NOedd15effXVfP3rX8/I\n",
              "kSMzePDgfPGLX8w111yz09tQQJnqqqqq+nsIAIC34hUVAKBYQgUAKJZQAQCKJVQAgGIJFQCgWEIF\n",
              "ACiWUAEAivWeCJXFixf39wgAQA28J0LlySef7O8RAIAaeE+ECgDw3iRUAIBiCRUAoFhCBQAollAB\n",
              "AIolVACAYgkVAKBYQgUAKJZQAQCKJVQAgGIJFQCgWEIFAChWTUPl/PPPz5gxY1JXV5f777+/x3VX\n",
              "Xnllxo0bl7Fjx2bu3Ll57bXXajkWADBA1DRUzjzzzPz4xz/OgQce2OOaJ554IhdffHHuvvvubNq0\n",
              "Kc8880yWLl1ay7EAgAGipqFy7LHHZtSoUW+75sYbb8yMGTNywAEHpK6uLueee26uu+66Htdv27Yt\n",
              "HR0d3S6dnZ19PToAUICG/h6gra2t2ysuY8aMSVtbW4/rFy1alEsuuaTbbUcddVRNZhvzpVtrctwk\n",
              "2XzZ/6vZsQF4/6nVv1n9/e/VgDuZduHChXnhhRe6XaZNm9bfYwEANdDvr6g0NTXlscce67q+efPm\n",
              "NDU19bi+sbExjY2N3W6rr6+v2XwAQP/p91dUZs6cmVWrVuXpp59OVVVZsmRJzjrrrP4eCwAoQE1D\n",
              "Zf78+Rk1alR++ctf5k/+5E/S3NycJJkzZ05WrVqVJDn44INzySWX5Oijj05zc3P222+/zJ8/v5Zj\n",
              "AQADRE3f+mltbX3L25ctW9bt+ty5czN37txajgIADED9/tYPAEBPhAoAUCyhAgAUS6gAAMUSKgBA\n",
              "sYQKAFAsoQIAFEuoAADFEioAQLGECgBQLKECABRLqAAAxRIqAECxhAoAUCyhAgAUS6gAAMUSKgBA\n",
              "sYQKAFAsoQIAFEuoAADFEioAQLGECgBQLKECABRLqAAAxRIqAECxhAoAUCyhAgAUS6gAAMUSKgBA\n",
              "sYQKAFAsoQIAFEuoAADFEioAQLGECgBQLKECABRLqAAAxRIqAECxhAoAUCyhAgAUS6gAAMUSKgBA\n",
              "sYQKAFAsoQIAFEuoAADFEioAQLGECgBQLKECABRLqAAAxRIqAECxhAoAUCyhAgAUS6gAAMUSKgBA\n",
              "sYQKAFAsoQIAFEuoAADFEioAQLGECgBQLKECABRLqAAAxRIqAECxahoqGzduzPTp09PS0pKpU6dm\n",
              "/fr1O63ZsWNHFixYkEMPPTQTJ07MCSeckE2bNtVyLABggKhpqMyfPz/z5s3Lhg0bcuGFF2b27Nk7\n",
              "rVm1alV+8pOf5IEHHsiDDz6Yk046KV/+8pdrORYAMEDULFS2bt2adevWZdasWUmSmTNnpr29fadX\n",
              "S+rq6rJt27a88sorqaoqHR0dGTVqVK3GAgAGkIZaHbi9vT0jRoxIQ8PrD1FXV5empqa0tbWlubm5\n",
              "a93HPvax3HHHHTnggAMyaNCgjBw5MnfddVePx922bVu2bdvW7bbOzs7aPAkAoF/1+8m069atyy9+\n",
              "8Ys89dRT+dWvfpWTTjop5557bo/rFy1alCFDhnS7rFmzZjdODADsLjULldGjR2fLli3Zvn17kqSq\n",
              "qrS1taWpqanbumuuuSYnnnhihg4dmj322CNnn3127rjjjh6Pu3DhwrzwwgvdLtOmTavV0wAA+lHN\n",
              "QmX48OGZMmVKVqxYkSRZuXJlRo0a1e1tnyQ5+OCDc/vtt+fVV19Nktxyyy2ZMGFCj8dtbGzM4MGD\n",
              "u13q6+tr9TQAgH5Us3NUkqS1tTWzZ8/OpZdemsGDB2f58uVJkjlz5mTGjBmZMWNGPve5z+V//ud/\n",
              "MmnSpOy555454IADsmTJklqOBQAMEDUNlfHjx2f16tU73b5s2bKuPzc2NuaKK66o5RgAwADV7yfT\n",
              "AgD0RKgAAMUSKgBAsYQKAFAsoQIAFEuoAADFEioAQLGECgBQLKECABRLqAAAxRIqAECxhAoAUCyh\n",
              "AgAUS6gAAMUSKgBAsYQKAFAsoQIAFEuoAADFEioAQLGECgBQLKECABRLqAAAxRIqAECxhAoAUCyh\n",
              "AgAUS6gAAMUSKgBAsYQKAFAsoQIAFEuoAADFEioAQLGECgBQLKECABRLqAAAxRIqAECxhAoAUCyh\n",
              "AgAUS6gAAMUSKgBAsYQKAFAsoQIAFEuoAADFEioAQLGECgBQLKECABRLqAAAxRIqAECxhAoAUCyh\n",
              "AgAUS6gAAMUSKgBAsYQKAFAsoQIAFEuoAADFEioAQLGECgBQLKECABRLqAAAxRIqAECxhAoAUCyh\n",
              "AgAUS6gAAMWqaahs3Lgx06dPT0tLS6ZOnZr169e/5bqHHnooxx9/fA455JAccsghuemmm2o5FgAw\n",
              "QDTU8uDz58/PvHnzMnv27Nx4442ZPXt21q5d223Nb3/725x22mm55pprcswxx6SzszO//vWvazkW\n",
              "ADBA1OwVla1bt2bdunWZNWtWkmTmzJlpb2/Ppk2buq3793//9xx11FE55phjkiT19fXZb7/9ejzu\n",
              "tm3b0tHR0e3S2dlZq6cBAPSjmoVKe3t7RowYkYaG11+0qaurS1NTU9ra2rqte/jhh9PY2JhTTz01\n",
              "kydPzqc+9ak8++yzPR530aJFGTJkSLfLmjVravU0AIB+1OtQ+f73v9+nA2zfvj0//OEP09ramp//\n",
              "/OcZOXJkPvvZz/a4fuHChXnhhRe6XaZNm9anMwEAZeh1qHzta1/L+PHjs3jx4nR0dPS4bvTo0dmy\n",
              "ZUu2b9+eJKmqKm1tbWlqauq2rqmpKSeccEJGjhyZurq6zJo1Kz/72c96PG5jY2MGDx7c7VJfX9/b\n",
              "pwEADAC9DpWf/OQnuf766/OLX/wiLS0tOe+88/Lwww/vtG748OGZMmVKVqxYkSRZuXJlRo0alebm\n",
              "5m7r/vzP/zxr167tip7vfve7mTRp0q48FwDgPWaXzlE54ogjcsUVV+S2227LLbfckokTJ+bkk0/O\n",
              "Qw891G1da2trWltb09LSkssuuyzLly9PksyZMyerVq1K8vorKl/+8pczffr0TJw4MbfffnuWLFny\n",
              "Lp8WAPBesEv/PfmHP/xhvvWtb+Whhx7K5z73uZxzzjm5884782d/9mfd/lfP+PHjs3r16p1+ftmy\n",
              "Zd2uf/KTn8wnP/nJXRkFAHgP63WoHHLIIdl3331z/vnn54wzzug6P+TMM8/MlVde2ecDAgDvX70O\n",
              "lRUrVuTII498y/u+973vveuBAADe0OtzVO69995unxz73HPP5YorrujToQAAkl0IlW9/+9v50Ic+\n",
              "1HV92LBh+fa3v92nQwEAJLsQKlVV7XSbj7AHAGqh16EyYsSI/Md//EfX9e985zsZMWJEnw4FAJDs\n",
              "wsm03/zmN3PaaaflggsuSJJ84AMfyH/913/1+WAAAL0OlQ9/+MN5+OGH8+ijjyZ5/bNSfIQ9AFAL\n",
              "u/SBb3V1dRk6dGi2b9+ep556Kkl2+g4fAIB3q9ehctVVV+X888/PnnvumT32eP0Ul7q6umzdurXP\n",
              "hwMA3t96HSp///d/n7Vr12b8+PG1mAcAoEuv/9fPvvvuK1IAgN2i16Fy+umn55vf/Ga2bt2ajo6O\n",
              "rgsAQF/r9Vs/F110UZJkwYIFqaurS1VVqaur86FvAECf63Wo7NixoxZzAADspNdv/SSvfzHhtdde\n",
              "myR5/vnns2XLlj4dCgAg2cUvJfzMZz6Tr371q0le//bkv/zLv+zruQAAeh8qS5cuzc9+9rMMHjw4\n",
              "STJ27Ng8++yzfT4YAECvQ6WxsTF77bVXt9saGnbpA24BAN5Wr0Nlv/32y4YNG1JXV5fk9U+q9fH5\n",
              "AEAt7NK3J3/iE5/II488ktGjR2fw4MG55ZZbajEbAPA+1+tQaW5uzj333JNHH300VVX59mQAoGZ6\n",
              "HSptbW1Jkr333jtJfHsyAFAzvQ6VI488susTaV955ZX89re/zbBhw3x7MgDQ53odKm/+r8g33XRT\n",
              "HnjggT4bCADgDbv0ybS/64wzzsitt97aF7MAAHTT61dUfvebkjs7O3PPPff49mQAoCZ6HSpDhw7t\n",
              "Okelvr4+48aNy7/+67/WYjYA4H3OtycDAMV61+eoAADUSq9fUdljjz26Pj7/d1VVlbq6unR2dvbJ\n",
              "YAAAvQ6Vr33ta3n55Zfz2c9+NkmyZMmS7LXXXvnCF77Q17MBAO9zvQ6Vm2++Offee2/X9X/4h3/I\n",
              "kUcemYsuuqhPBwMA6PU5Ki+++GK3T6HdunVrXnzxxT4dCgAg2YVXVL74xS9m0qRJ+dM//dMkyW23\n",
              "3ZavfvWrfT0XAEDvQ2X+/Pk5+uijc8cddyRJFixYkMMOO6zPBwMA6HWoJMmwYcNy+OGH5/jjj8/2\n",
              "7dvz6quv5vd+7/f6ejYA4H2u1+eo3HjjjTnqqKPy6U9/Okmyfv36nH766X09FwBA70Nl0aJFue++\n",
              "+zJ06NAkyaRJk/Lkk0/29VwAAL0Plfr6+gwbNqzbbd72AQBqodehMmjQoDzzzDNdn0773//93/nQ\n",
              "hz7U54MBAPT6ZNp//Md/zEc/+tE8/vjjOeaYY/LEE0/k1ltvrcVsAMD7XK9CZceOHens7Mwdd9yR\n",
              "n/70p6mqKtOnT+86XwUAoC/1KlT22GOPzJs3Lw888EA++tGP1momAIAku3COyrhx47Jp06ZazAIA\n",
              "0E2vz1H59a9/ncmTJ2f69OnZZ599um6/6aab+nQwAIB3HCrz5s3L0qVLc/bZZ2fGjBn54Ac/WMu5\n",
              "AADeeaisW7cuSXL22WdnypQpue+++2o2FABAsgvnqCRJVVV9PQcAwE7e8SsqL7/8ch566KFUVZVX\n",
              "Xnml689vmDhxYk0GBADev3oVKjNmzOi6/rt/rqury+OPP963kwEA73vvOFQ2b95cwzEAAHa2S+eo\n",
              "AADsDkIFACiWUAEAiiVUAIBiCRUAoFhCBQAollABAIolVACAYgkVAKBYNQ2VjRs3Zvr06WlpacnU\n",
              "qVOzfv36HtdWVZUTTzwxQ4cOreVIAMAAUtNQmT9/fubNm5cNGzbkwgsvzOzZs3tc+41vfCNjx46t\n",
              "5TgAwABTs1DZunVr1q1bl1mzZiVJZs6cmfb29mzatGmntevXr89//ud/5ktf+tL/edxt27alo6Oj\n",
              "26Wzs7PP5wcA+l/NQqW9vT0jRoxIQ8Pr33tYV1eXpqamtLW1dVv32muvZe7cuWltbU19ff3/edxF\n",
              "ixZlyJAh3S5r1qypyXMAAPpXv59Me8kll+SMM87IIYcc8o7WL1y4MC+88EK3y7Rp02o8JQDQHxpq\n",
              "deDRo0dny5Yt2b59exoaGlJVVdra2tLU1NRt3V133ZW2trZcfvnl2b59ezo6OjJmzJisXbs2++23\n",
              "307HbWxsTGNjY7fb3skrMQDAwFOzV1SGDx+eKVOmZMWKFUmSlStXZtSoUWlubu627u67786TTz6Z\n",
              "zZs358c//nEGDx6czZs3v2WkAADvLzV966e1tTWtra1paWnJZZddluXLlydJ5syZk1WrVtXyoQGA\n",
              "94CavfWTJOPHj8/q1at3un3ZsmVvuX7MmDF5/vnnazkSADCA9PvJtAAAPREqAECxhAoAUCyhAgAU\n",
              "S6gAAMUSKgBAsYQKAFAsoQIAFEuoAADFEioAQLGECgBQLKECABRLqAAAxRIqAECxhAoAUCyhAgAU\n",
              "S6gAAMUSKgBAsYQKAFAsoQIAFEuoAADFEioAQLGECgBQLKECABRLqAAAxRIqAECxhAoAUCyhAgAU\n",
              "S6gAAMUSKgBAsYQKAFAsoQIAFEuoAADFEioAQLGECgBQLKECABRLqAAAxRIqAECxhAoAUCyhAgAU\n",
              "S6gAAMUSKgBAsYQKAFAsoQIAFEuoAADFEioAQLGECgBQLKECABRLqAAAxRIqAECxhAoAUCyhAgAU\n",
              "S6gAAMUSKgBAsYQKAFAsoQIAFEuoAADFEioAQLGECgBQLKECABRLqAAAxRIqAECxahoqGzduzPTp\n",
              "09PS0pKpU6dm/fr1O625/fbbM23atBx66KE57LDDcsEFF2THjh21HAsAGCBqGirz58/PvHnzsmHD\n",
              "hlx44YWZPXv2Tms++MEP5vrrr8/DDz+ce++9Nz/96U9zzTXX1HIsAGCAqFmobN26NevWrcusWbOS\n",
              "JDNnzkx7e3s2bdrUbd0RRxyRgw8+OEny+7//+5k8eXI2b97c43G3bduWjo6ObpfOzs5aPQ0AoB/V\n",
              "LFTa29szYsSINDQ0JEnq6urS1NSUtra2Hn/m6aefzo033phTTz21xzWLFi3KkCFDul3WrFnT5/MD\n",
              "AP2vmJNpOzo68rGPfSwXXHBBPvKRj/S4buHChXnhhRe6XaZNm7YbJwUAdpeGWh149OjR2bJlS7Zv\n",
              "356GhoZUVZW2trY0NTXttPbFF1/MKaecktNOOy0LFix42+M2NjamsbGx22319fV9OjsAUIaavaIy\n",
              "fPjwTJkyJStWrEiSrFy5MqNGjUpzc3O3dS+99FJOOeWUnHLKKfm7v/u7Wo0DAAxANX3rp7W1Na2t\n",
              "rWlpaclll12W5cuXJ0nmzJmTVatWJUkWL16cNWvW5KabbsrkyZMzefLkfP3rX6/lWADAAFGzt36S\n",
              "ZPz48Vm9evVOty9btqzrzxdddFEuuuiiWo4BAAxQxZxMCwDwZkIFACiWUAEAiiVUAIBiCRUAoFhC\n",
              "BQAollABAIolVACAYgkVAKBYQgUAKJZQAQCKJVQAgGIJFQCgWEIFACiWUAEAiiVUAIBiCRUAoFhC\n",
              "BQAollABAIolVACAYgkVAKBYQgUAKJZQAQCKJVQAgGIJFQCgWEIFACiWUAEAiiVUAIBiCRUAoFhC\n",
              "BQAollABAIolVACAYgkVAKBYQgUAKJZQAQCKJVQAgGIJFQCgWEIFACiWUAEAiiVUAIBiCRUAoFhC\n",
              "BQAollABAIolVACAYgkVAKBYQgUAKJZQAQCKJVQAgGIJFQCgWEIFACiWUAEAiiVUAIBiCRUAoFhC\n",
              "BQAollABAIolVACAYgkVAKBYQgUAKJZQAQCKJVQAgGIJFQCgWDUNlY0bN2b69OlpaWnJ1KlTs379\n",
              "+rdcd+WVV2bcuHEZO3Zs5s6dm9dee62WYwEAA0RNQ2X+/PmZN29eNmzYkAsvvDCzZ8/eac0TTzyR\n",
              "iy++OHfffXc2bdqUZ555JkuXLq3lWADAAFGzUNm6dWvWrVuXWbNmJUlmzpyZ9vb2bNq0qdu6G2+8\n",
              "MTNmzMgBBxyQurq6nHvuubnuuut6PO62bdvS0dHR7dLZ2VmrpwEA9KOGWh24vb09I0aMSEPD6w9R\n",
              "V1eXpqamtLW1pbm5uWtdW1tbDjzwwK7rY8aMSVtbW4/HXbRoUS655JJut334wx/OggUL+nT+zs7O\n",
              "jFizJtOmTUt9fX2fHjtJFiz47z4/Zik6OzuzpoZ7915m794d+7fr7N27U8L+nVGj49by36sDDzww\n",
              "f/M3f/O2a2oWKrWycOHCnaKksbExjY2Nffo4HR0dGTJkSL7//e9n8ODBfXrs9zp7t+vs3btj/3ad\n",
              "vXt37F/t1CxURo8enS1btmT79u1paGhIVVVpa2tLU1NTt3VNTU157LHHuq5v3rx5pzW/qxZRAgCU\n",
              "qWbnqAwfPjxTpkzJihUrkiQrV67MqFGjur3tk7x+7sqqVavy9NNPp6qqLFmyJGeddVatxgIABpCa\n",
              "/q+f1tbWtLa2pqWlJZdddlmWL1+eJJkzZ05WrVqVJDn44INzySWX5Oijj05zc3P222+/zJ8/v5Zj\n",
              "AQADRE3PURk/fnxWr1690+3Lli3rdn3u3LmZO3duLUfptcbGxnzlK1/xNtMusHe7zt69O/Zv19m7\n",
              "d8f+1U5dVVVVfw8BAPBWfIQ+AFAsoQIAFEuoAADFEioAQLGEylt4p9/6/F42ZsyYjB8/PpMnT87k\n",
              "yZPzne98J8nb700t7hsozj///IwZMyZ1dXW5//77u27f3fs1EPeyp73r6XcwsXdveOWVV3L66aen\n",
              "paUlkyZNysknn9z1fWpbt27NKaecknHjxmXChAn50Y9+1PVzu/u+Ur3d/h1//PE56KCDun7/vvGN\n",
              "b3T9nP3bzSp2csIJJ1TLly+vqqqqbrjhhuojH/lI/w7UDw488MDq5z//+U63v93e1OK+geKuu+6q\n",
              "2tvbd9q33b1fA3Eve9q7nn4Hq8reveHll1+ubr311mrHjh1VVVXVt771req4446rqqqqPv3pT1df\n",
              "+cpXqqqqqjVr1lQjR46sXn311X65r1Rvt3/HHXdcdfPNN7/lz9m/3UuovMkzzzxTDRo0qHrttdeq\n",
              "qqqqHTt2VPvvv3+1cePGfp5s93qrfyTebm9qcd9A9Lv7trv3a6Dv5TsNFXvXs7Vr11YHHnhgVVVV\n",
              "tffee1dbtmzpum/q1KnVD37wg365b6D43f17u1Cxf7uXt37e5O2+9fn95lOf+lQOP/zwnHPOOXn2\n",
              "2Wffdm9qcd9At7v36724l2/+HUx2/74OJIsXL85pp52W5557Lq+99loOOOCArvve+Gb63X3fQPLG\n",
              "/r3hS1/6Ug4//PD8xV/8RR5//PEksX/9QKjwln70ox/lwQcfzH333Zd99903Z599dn+PxPuM38He\n",
              "ufTSS7Np06YsWrSov0cZkN68f9dee20eeeSRPPjgg/mjP/qjnHrqqf084fuXUHmT3/3W5yQ9fuvz\n",
              "e90bz3fPPffMF77whdx9991vuze1uG+g29379V7by7f6HUx2/74OBP/0T/+Um266Kd/73vfygQ98\n",
              "IMOGDUtDQ0OefvrprjVvfDP97r5vIHjz/iWv/54lr7+69vnPfz6PP/54nnvuOfvXD4TKm7zTb31+\n",
              "L/vNb36T559/vuv6ddddlyOOOOJt96YW9w10u3u/3kt72dPvYLL797V0//Iv/5LrrrsuP/jBDzJ0\n",
              "6NCu2z/+8Y9nyZIlSZK1a9fmqaeeynHHHdcv95XsrfZv+/bteeaZZ7rWrFy5Mvvvv3+GDRuWxP7t\n",
              "dv1xYkzpHnnkkeqoo46qxo0bVx155JHVgw8+2N8j7VaPPfZYNXny5Orwww+vJkyYUM2YMaN64okn\n",
              "qqp6+72pxX0Dxbx586qRI0dW9fX11fDhw6uxY8dWVbX792sg7uVb7d3b/Q5Wlb17Q3t7e5WkOvjg\n",
              "g6tJkyZVkyZNqqZNm1ZVVVU9/fTT1cknn1w1NzdXhx56aHX77bd3/dzuvq9UPe3fSy+9VB155JHV\n",
              "hAkTqokTJ1Ynnnhidf/993f9nP3bvXwpIQBQLG/9AADFEioAQLGECgBQLKECABRLqAAAxRIqAECx\n",
              "hAoAUCyhAgAUS6gAAMUSKgBAsf4/hnlNh0LhxIMAAAAASUVORK5CYII=\n",
              "\">\n",
              "      </div>\n",
              "      <script type=\"text/javascript\">\n",
              "        (() => {\n",
              "          const chartElement = document.getElementById(\"chart-21c828e5-8efe-4f85-937c-10eb41baeecd\");\n",
              "          async function getCodeForChartHandler(event) {\n",
              "            const chartCodeResponse =  await google.colab.kernel.invokeFunction(\n",
              "                'getCodeForChart', [\"chart-21c828e5-8efe-4f85-937c-10eb41baeecd\"], {});\n",
              "            const responseJson = chartCodeResponse.data['application/json'];\n",
              "            await google.colab.notebook.addCell(responseJson.code, 'code');\n",
              "          }\n",
              "          chartElement.onclick = getCodeForChartHandler;\n",
              "        })();\n",
              "      </script>\n",
              "      <style>\n",
              "        .colab-quickchart-chart-with-code  {\n",
              "            display: block;\n",
              "            float: left;\n",
              "            border: 1px solid transparent;\n",
              "        }\n",
              "\n",
              "        .colab-quickchart-chart-with-code:hover {\n",
              "            cursor: pointer;\n",
              "            border: 1px solid #aaa;\n",
              "        }\n",
              "      </style>"
            ]
          },
          "metadata": {}
        },
        {
          "output_type": "display_data",
          "data": {
            "text/plain": [
              "<google.colab._quickchart_helpers.SectionTitle at 0x7c9b74da0d30>"
            ],
            "text/html": [
              "<h4 class=\"colab-quickchart-section-title\">Categorical distributions</h4>\n",
              "<style>\n",
              "  .colab-quickchart-section-title {\n",
              "      clear: both;\n",
              "  }\n",
              "</style>"
            ]
          },
          "metadata": {}
        },
        {
          "output_type": "display_data",
          "data": {
            "text/plain": [
              "from matplotlib import pyplot as plt\n",
              "import seaborn as sns\n",
              "_df_1.groupby('Class').size().plot(kind='barh', color=sns.palettes.mpl_palette('Dark2'))\n",
              "plt.gca().spines[['top', 'right',]].set_visible(False)"
            ],
            "text/html": [
              "      <div class=\"colab-quickchart-chart-with-code\" id=\"chart-33e5d36c-5579-49c2-9055-1172be638655\">\n",
              "        <img style=\"width: 180px;\" src=\"data:image/png;base64,iVBORw0KGgoAAAANSUhEUgAAAkEAAAGZCAYAAACOgeVyAAAAOXRFWHRTb2Z0d2FyZQBNYXRwbG90\n",
              "bGliIHZlcnNpb24zLjcuMSwgaHR0cHM6Ly9tYXRwbG90bGliLm9yZy/bCgiHAAAACXBIWXMAAA9h\n",
              "AAAPYQGoP6dpAAAVQUlEQVR4nO3dfazWdf348dfxnEUuOKAjjaFwBAQRCA4CNqXkZAQVTAdq6FQw\n",
              "QXBNW2zZnKQWZ7Oc2YxqobOIYculJpnZGhl4U0Amx8Ab5g03fhPTnyLHjNtzPr8/WmedDL1Onutc\n",
              "x/N6PLZr4/pcn+u6Xtd7Z1zPfa67qqIoigAASOaISg8AAFAJIggASEkEAQApiSAAICURBACkJIIA\n",
              "gJREEACQkggCAFISQQBASiLoHdxyyy2VHgEAKBMR9A527NhR6REAgDIRQQBASiIIAEhJBAEAKYkg\n",
              "ACAlEQQApCSCAICURBAAkJIIAgBSEkEAQEoiCABISQQBACmJIAAgJREEAKQkggCAlEQQAJCSCAIA\n",
              "UhJBAEBKIggASEkEAQApiSAAICURBACkJIIAgJREEACQkggCAFISQQBASiIIAEhJBAEAKYkgACAl\n",
              "EQQApCSCAICURBAAkJIIAgBSEkEAQEoiCABISQQBACmJIAAgJREEAKQkggCAlEQQAJCSCAIAUhJB\n",
              "AEBKIggASEkEAQApiSAAIKWqoiiKSg/RXV0yqiqunqgTAaCzDV/RUukRHAkCAHISQQBASiIIAEhJ\n",
              "BAEAKYkgACAlEQQApCSCAICURBAAkJIIAgBSEkEAQEoiCABISQQBACmJIAAgJREEAKQkggCAlEQQ\n",
              "AJCSCAIAUhJBAEBKIggASEkEAQApiSAAICURBACkJIIAgJREEACQkggCAFISQQBASiIIAEhJBAEA\n",
              "KYkgACAlEQQApCSCAICURBAAkJIIAgBSEkEAQEoiCABISQQBACmJIAAgJREEAKQkggCAlEQQAJCS\n",
              "CAIAUiprBNXV1cVJJ50Uhw4dats2YcKEWLt2bTnv9rCmTJkS9957b0XuGwDoXsp+JGj//v1x++23\n",
              "/8/X//eAAgDoLGWPoOuvvz6WLl0a//jHP9ptf+WVV2LWrFkxZsyYGD16dCxfvrztsrq6uvjqV78a\n",
              "kyZNirlz58b1118f5513XsycOTOGDx8eM2bMiC1btsS0adNi+PDhcf7550dra2tERPz0pz+NU089\n",
              "Nerr62Ps2LFx3333lfshAgDvQ2WPoLFjx0ZDQ0N85zvfabf9iiuuiBEjRsTmzZvjwQcfjMbGxli/\n",
              "fn3b5a+99lps2LAh7rjjjoiIeOyxx2LlypWxdevWePPNN2P+/Plx1113xVNPPRVPP/10PPDAAxER\n",
              "MW3atFi/fn1s2rQpVq9eHQsWLIj9+/e/65z79++P5ubmdqeW1k5cCACgW+mSN0YvXbo0brnllnjt\n",
              "tdfatq1ZsyYWLlwYERHHHHNMzJo1K9asWdN2+bx586Kqqqrt/Kc//ek46qijoqqqKsaPHx9TpkyJ\n",
              "Pn36RE1NTdTX18ezzz4bERHbtm2Lz3zmMzF69Og4++yz4/XXX49t27a964w33HBD9O3bt93pL/+v\n",
              "s1YAAOhuuiSC6urq4oILLojGxsbD7vPvwRMR0bt373bnP/jBD7b9u7q6+m3n//XeoTlz5sT8+fNj\n",
              "y5Yt0dTUFL179459+/a964xXX3117Nmzp93po/1LengAwPtQl31EfsmSJbFq1ap46aWXIiLiU5/6\n",
              "VNx2220REfHqq6/GPffcE1OnTn3P97N79+444YQTIiJi1apVsXv37pKu16tXr6itrW13qvYFAgDQ\n",
              "Y3XZ03z//v3jyiuvjF27dkVExHe/+914+umnY8yYMdHQ0BDXXHNNnHrqqe/5fm655ZY455xzor6+\n",
              "PjZt2hSDBg16z7cJAPQ8VUVRFJUeoru6ZFRVXD3R4SAA6GzDV7RUegTfGA0A5CSCAICURBAAkJII\n",
              "AgBSEkEAQEoiCABISQQBACmJIAAgJREEAKQkggCAlEQQAJCSCAIAUhJBAEBKIggASEkEAQApiSAA\n",
              "ICURBACkJIIAgJREEACQkggCAFISQQBASiIIAEhJBAEAKYkgACAlEQQApCSCAICURBAAkJIIAgBS\n",
              "EkEAQEoiCABISQQBACmJIAAgJREEAKQkggCAlEQQAJCSCAIAUhJBAEBKIggASEkEAQApiSAAICUR\n",
              "BACkVFPpAbqzo6Z9OYbffHOlxwAAysCRIAAgJREEAKQkggCAlEQQAJCSCAIAUhJBAEBKIggASEkE\n",
              "AQApiSAAICURBACkJIIAgJREEACQkggCAFISQQBASiIIAEhJBAEAKYkgACAlEQQApCSCAICURBAA\n",
              "kJIIAgBSEkEAQEoiCABISQQBACmJIAAgJREEAKQkggCAlEQQAJCSCAIAUhJBAEBKIggASEkEAQAp\n",
              "iSAAIKUOR9B9990Xzc3NERFx0003xTnnnBNbtmzp9MEAAMqpwxF0zTXXRG1tbTzxxBOxatWqmDp1\n",
              "alx++eXlmA0AoGw6HEE1NTUREfHb3/42Lrvssli4cGG89dZbnT4YAEA5dTiCWlpaYsOGDXH33XdH\n",
              "Q0NDREQcPHiw0wcDACinDkdQY2NjLFy4MCZPnhwjR46MrVu3xvDhw8sxGwBA2VQVRVFUeojuavHi\n",
              "xXHzzTdXegwAoAw6fCTo2muvjTfeeCOKoojPfe5z0b9//7j77rvLMRsAQNl0OIJWr14d/fr1izVr\n",
              "1kRNTU08+uij0djYWI7ZAADKpsMRdMQR/7zKunXr4txzz40RI0ZEVVVVpw8GAFBONR29woc+9KH4\n",
              "1re+FT/72c/i0UcfjaIo4sCBA+WYDQCgbDp8JGjFihWxa9euuPHGG+PYY4+N559/Pi688MJyzAYA\n",
              "UDY+HfYOfDoMAHquDr8ctnfv3li2bFk0NTXFvn372rbfc889nToYAEA5dfjlsAULFsT27dvjD3/4\n",
              "QzQ0NMSOHTti8ODB5ZgNAKBsOhxBTzzxRPzgBz+I2trauOKKK2Lt2rXx5z//uRyzAQCUTYcj6Mgj\n",
              "j4yIf/6Q6ltvvRV9+vSJV199tdMHAwAopw6/J+joo4+O3bt3x2c/+9mYNm1a9O/fP4477rhyzAYA\n",
              "UDYdjqD7778/qqurY+nSpXHHHXfEG2+8ERdffHE5ZgMAKJsOR1B1dXVERFRVVfl+IADgfavkCKqv\n",
              "r3/Hn8d4/PHHO2UgAICuUHIEXX/99fH666/HkCFD2m1/4YUX4uijj+70wQAAyqnkCHrggQdi6tSp\n",
              "ccYZZ7Tb/tprr8VvfvObOOusszp9OACAcin5I/IbN26M2bNnv237rFmz4qGHHurUoQAAyq3kCDp0\n",
              "6NDhb+SIDn/dEABARZVcLwcPHozm5ua3bd+zZ08cPHiwU4cCACi3kiNozpw5cdFFF8Xu3bvbtu3e\n",
              "vTsuueSSmDNnTlmGAwAol5IjaMmSJdGvX784/vjjo76+Purr6+P444+PPn36xNe+9rVyzggA0OlK\n",
              "/nRYdXV1/OQnP4lrr7227TuBxo8fH0OHDi3bcAAA5dLhb4weOnSo8AEA3vd8rAsASEkEAQApiSAA\n",
              "ICURBACkJIIAgJREEACQkggCAFISQQBASiIIAEhJBAEAKYkgACAlEQQApCSCAICURBAAkJIIAgBS\n",
              "EkEAQEoiCABISQQBACmJIAAgJREEAKQkggCAlEQQAJCSCAIAUhJBAEBKIggASEkEAQApiSAAICUR\n",
              "BACkJIIAgJREEACQUlVRFEWlh+iuek+bGP3mnFnpMQCgx/m/S75Z6REcCQIAchJBAEBKIggASEkE\n",
              "AQApiSAAICURBACkJIIAgJREEACQkggCAFISQQBASiIIAEhJBAEAKYkgACAlEQQApCSCAICURBAA\n",
              "kJIIAgBSEkEAQEoiCABISQQBACmJIAAgJREEAKQkggCAlEQQAJCSCAIAUhJBAEBKIggASEkEAQAp\n",
              "iSAAICURBACkJIIAgJREEACQkggCAFISQQBASiIIAEhJBAEAKYkgACAlEQQApCSCAICURBAAkJII\n",
              "AgBSqngE1dXVxYgRI2LcuHExbty4mD9/ftnu65xzzokVK1aU7fYBgPePmkoPEBFx5513xrhx4/7r\n",
              "ZS0tLVFdXd21AwEAPV7FjwT9pxUrVkRDQ0PMnj07xowZExs3boybb745Jk6cGOPGjYuJEyfGH//4\n",
              "x7b96+rqoqmpqe38hAkTYu3atRER8cwzz8Rpp50Wo0aNirPPPjuam5u7+NEAAN1VtzgS9PnPfz6O\n",
              "PPLIiIiYO3dubNiwITZt2hQjRoyIiIhhw4bF4sWLIyJi/fr1MW/evHjmmWfe9XYvuuiiWLRoUVx6\n",
              "6aWxefPmmDBhQlxwwQX/dd/9+/fH/v37229sKd7DowIAurNucSTozjvvjKampmhqaoqjjjoqTjvt\n",
              "tLYAiojYtGlTnHHGGTF69OhYtGhRbN26Nfbu3fuOt9nc3BxNTU0xb968iIgYM2ZMTJ48+bD733DD\n",
              "DdG3b992pwPbdnXK4wMAup9uEUH/qXfv3m3/PnDgQMyaNStuuumm2LJlSzz00EMREW1HbWpqaqKl\n",
              "paVt/3379h32dquqqg572dVXXx179uxpd/rACQPe60MBALqpbhlB/27fvn1x4MCBGDRoUERELFu2\n",
              "rN3lw4YNiw0bNkRExMaNG2Pr1q0REVFbWxv19fWxcuXKiIh48skn45FHHjns/fTq1Stqa2vbnaL6\n",
              "8NEEALy/dfsIqq2tjcbGxpg0aVKccsop8YEPfKDd5Y2NjfH9738/xo4dGz/60Y9i1KhRbZetXLky\n",
              "br311hg9enQsWbIkPvGJT3T1+ABAN1VVFIV3/x5G72kTo9+cMys9BgD0OP93yTcrPUL3PxIEAFAO\n",
              "IggASEkEAQApiSAAICURBACkJIIAgJREEACQkggCAFISQQBASiIIAEhJBAEAKYkgACAlEQQApCSC\n",
              "AICURBAAkJIIAgBSEkEAQEoiCABISQQBACmJIAAgJREEAKQkggCAlEQQAJCSCAIAUhJBAEBKIggA\n",
              "SEkEAQApiSAAICURBACkJIIAgJREEACQkggCAFISQQBASiIIAEhJBAEAKYkgACAlEQQApCSCAICU\n",
              "RBAAkJIIAgBSEkEAQEo1lR6gO7ts1Mfj5ku+WekxAIAycCQIAEhJBAEAKYkgACAlEQQApCSCAICU\n",
              "RBAAkJIIAgBSEkEAQEoiCABISQQBACmJIAAgJREEAKQkggCAlEQQAJCSCAIAUhJBAEBKIggASEkE\n",
              "AQApiSAAICURBACkJIIAgJREEACQkggCAFISQQBASiIIAEhJBAEAKYkgACAlEQQApCSCAICURBAA\n",
              "kJIIAgBSEkEAQEoiCABISQQBACmJIAAgJREEAKQkggCAlEQQAJCSCAIAUhJBAEBKIggASEkEAQAp\n",
              "iSAAICURBACkJIIAgJRqKj1Ad7V///544IEHoqWlJaqrqys9TiotLS2xcePGmDRpkrXvQta9cqx9\n",
              "ZVj3yin32g8ePDi+9KUvvet+VUVRFJ1+7z1Ac3Nz9O3bN/bs2RO1tbWVHicVa18Z1r1yrH1lWPfK\n",
              "6S5r7+UwACAlEQQApCSCAICURNBh9OrVK6677rro1atXpUdJx9pXhnWvHGtfGda9crrL2ntjNACQ\n",
              "kiNBAEBKIggASEkEAQAppY+gZ599Nk477bQYPnx4TJw4MZ588sn/ut/tt98eJ554YgwdOjQWLFgQ\n",
              "Bw8e7OJJe55S1v7BBx+MSZMmxcknnxyjRo2Kq666KlpbWyswbc9R6t98RERRFPHJT34y+vXr13UD\n",
              "9mClrv3mzZtjypQpMXLkyBg5cmTcc889XTxpz1LKure2tsbixYvj5JNPjo9+9KPR0NAQzz33XAWm\n",
              "7TmuvPLKqKuri6qqqmhqajrsfhV9fi2Sa2hoKH784x8XRVEUP//5z4sJEya8bZ8XXnihGDBgQLFr\n",
              "166itbW1mDlzZvG9732viyfteUpZ+8cff7x4/vnni6Ioir179xann35623X435Sy7v/y7W9/u5g/\n",
              "f37Rt2/frhmuhytl7d96663ihBNOKB5++OGiKIri0KFDxSuvvNKVY/Y4paz7L37xi2LSpEnFgQMH\n",
              "iqIoiqVLlxbnnntuV47Z46xbt6548cUXi8GDBxebNm36r/tU+vk1dQT97W9/K/r06VMcPHiwKIqi\n",
              "aG1tLY499tji2WefbbffjTfeWCxcuLDt/P3331+cfvrpXTprT1Pq2v+nL37xi8V1113XBRP2TB1Z\n",
              "9y1bthQf//jHi+eee04EdYJS1/62224rzj///EqM2COVuu733ntvMXbs2KK5ublobW0tvvKVrxRf\n",
              "/vKXKzFyj/NOEVTp59fUL4e9+OKLMWDAgKip+efvyFZVVcWgQYNi586d7fbbuXNnDB48uO18XV3d\n",
              "2/ahY0pd+3/38ssvx1133RUzZszoqjF7nFLX/eDBg7FgwYJYvny5H5bsJKWu/VNPPRW9evWKGTNm\n",
              "xLhx4+Liiy+OV199tRIj9wilrvvMmTNjypQp8ZGPfCQGDBgQv/vd7+Ib3/hGJUZOpdLPr6kjiPeP\n",
              "5ubmmDlzZlx11VUxYcKESo/T433961+PWbNmxciRIys9SjqHDh2KNWvWxPLly2PTpk0xcODAuPzy\n",
              "yys9Vo/32GOPxZYtW+Kvf/1rvPTSS3HmmWfGokWLKj0WZZY6go4//vjYtWtXHDp0KCL++SbQnTt3\n",
              "xqBBg9rtN2jQoNixY0fb+e3bt79tHzqm1LWPiHjzzTdj+vTpcdZZZ8XixYu7etQepdR1X7duXSxb\n",
              "tizq6upi8uTJ0dzcHHV1dY5IvAcd+f+moaEhBg4cGFVVVXHhhRfG+vXrKzFyj1Dquq9cubLtQwBH\n",
              "HHFEzJ07N37/+99XYuRUKv38mjqCjjnmmBg/fnysWrUqIiLuvvvuOO6442LYsGHt9ps9e3b88pe/\n",
              "jJdffjmKoogf/vCHMWfOnEqM3GOUuvZ///vfY/r06TF9+vRYsmRJJUbtUUpd94cffjh27NgR27dv\n",
              "j0ceeSRqa2tj+/bt8eEPf7gSY/cIpa79eeedF3/605+iubk5IiJ+/etfx9ixY7t83p6i1HUfMmRI\n",
              "PPjgg3HgwIGIiPjVr34Vo0eP7vJ5s6n482uXvfuom3rmmWeKj33sY8WJJ55YnHLKKcVf/vKXoiiK\n",
              "4tJLLy1Wr17dtt+tt95aDBkypBgyZEjxhS98oe0TBPzvSln7xsbGoqamphg7dmzbqbGxsZJjv++V\n",
              "+jf/L9u2bfPG6E5S6tqvXLmyGDVqVDFmzJhi+vTpxc6dOys1co9Qyrrv27evmD9/fnHSSScVY8aM\n",
              "KaZOndr2yVT+N5dddlkxcODAorq6ujjmmGOKoUOHFkXRvZ5f/XYYAJBS6pfDAIC8RBAAkJIIAgBS\n",
              "EkEAQEoiCABISQQBACmJIAAgJREEAKQkggCAlEQQAJCSCAIAUvr/235P6KRsYe8AAAAASUVORK5C\n",
              "YII=\n",
              "\">\n",
              "      </div>\n",
              "      <script type=\"text/javascript\">\n",
              "        (() => {\n",
              "          const chartElement = document.getElementById(\"chart-33e5d36c-5579-49c2-9055-1172be638655\");\n",
              "          async function getCodeForChartHandler(event) {\n",
              "            const chartCodeResponse =  await google.colab.kernel.invokeFunction(\n",
              "                'getCodeForChart', [\"chart-33e5d36c-5579-49c2-9055-1172be638655\"], {});\n",
              "            const responseJson = chartCodeResponse.data['application/json'];\n",
              "            await google.colab.notebook.addCell(responseJson.code, 'code');\n",
              "          }\n",
              "          chartElement.onclick = getCodeForChartHandler;\n",
              "        })();\n",
              "      </script>\n",
              "      <style>\n",
              "        .colab-quickchart-chart-with-code  {\n",
              "            display: block;\n",
              "            float: left;\n",
              "            border: 1px solid transparent;\n",
              "        }\n",
              "\n",
              "        .colab-quickchart-chart-with-code:hover {\n",
              "            cursor: pointer;\n",
              "            border: 1px solid #aaa;\n",
              "        }\n",
              "      </style>"
            ]
          },
          "metadata": {}
        },
        {
          "output_type": "display_data",
          "data": {
            "text/plain": [
              "<google.colab._quickchart_helpers.SectionTitle at 0x7c9b72749f90>"
            ],
            "text/html": [
              "<h4 class=\"colab-quickchart-section-title\">Values</h4>\n",
              "<style>\n",
              "  .colab-quickchart-section-title {\n",
              "      clear: both;\n",
              "  }\n",
              "</style>"
            ]
          },
          "metadata": {}
        },
        {
          "output_type": "display_data",
          "data": {
            "text/plain": [
              "from matplotlib import pyplot as plt\n",
              "_df_2['Counts'].plot(kind='line', figsize=(8, 4), title='Counts')\n",
              "plt.gca().spines[['top', 'right']].set_visible(False)"
            ],
            "text/html": [
              "      <div class=\"colab-quickchart-chart-with-code\" id=\"chart-841d0e69-6962-428a-8e6e-f8fe25e242cc\">\n",
              "        <img style=\"width: 180px;\" src=\"data:image/png;base64,iVBORw0KGgoAAAANSUhEUgAAArMAAAFuCAYAAACSr5B3AAAAOXRFWHRTb2Z0d2FyZQBNYXRwbG90\n",
              "bGliIHZlcnNpb24zLjcuMSwgaHR0cHM6Ly9tYXRwbG90bGliLm9yZy/bCgiHAAAACXBIWXMAAA9h\n",
              "AAAPYQGoP6dpAABCRElEQVR4nO3deViVdf7/8ddZWEQ2NxQFRDZXFDdyAVnUMrPU1DRLszRNKzNK\n",
              "yKvpO1PTZFpqlDVqi6aWWWm2WpksghtuuGAqqAiuKCa4ouD5/UHj/GyZUIHDgefjuu4/OJ/7cN53\n",
              "n0uvZ8f7gMFisVgEAAAA2CCjtQcAAAAAbhYxCwAAAJtFzAIAAMBmEbMAAACwWcQsAAAAbBYxCwAA\n",
              "AJtFzAIAAMBmEbMAAACwWcQsAAAAbBYxCwAAAJtFzAKAFezcuVPDhg2Tp6ennJ2d5evrq/vvv19b\n",
              "t26tlNfPzs6WwWBQVlZWpbweAFQUYhYAKllSUpJCQ0PVsGFDrV+/XmfPnlV6erp69+6tzz77zNrj\n",
              "AYBNIWYBoJKNGzdOgwcPVnx8vHx9fWUwGOTu7q5HHnlEU6dOlSQtWLBAbdq0kaurq9q0aaMPP/zw\n",
              "2vOTkpJkMBhUXFx87bEFCxbIy8vr2tejRo3SsGHD9MQTT6hevXpq2LChXnjhhWvrrVu3liS1a9dO\n",
              "zs7OeuyxxyRJs2fPlr+/v1xcXNSwYUONGjWqIv9TAMAtM1t7AACoSTIzM7Vv3z7Nnj37T89ZtmyZ\n",
              "Jk6cqC+++EKRkZFKTEzUgAED5ObmpgEDBpT5tb744gt9+OGHio+PV1pamnr06KHo6GhFRUUpIyND\n",
              "zZo10/bt2xUQEHBtttjYWKWlpalNmzY6d+5cpd32AAA3i3dmAaAS5eXlSdJ176L+1rx58zR69Gj1\n",
              "7NlTJpNJvXr10ujRozVnzpwbeq3u3btr2LBhMplM6tq1q0JCQpSWlvan55vNZlksFmVkZKiwsFDO\n",
              "zs7q0aPHDb0mAFQ2YhYAKpGHh4ck6fDhw396Tm5urvz9/a97LCAgQDk5OTf0Wo0bN77u69q1a+vs\n",
              "2bN/en6zZs30ySefaP78+fLx8VHnzp21ZMmSG3pNAKhsxCwAVKLAwEAFBQVp0aJFf3qOt7e39u/f\n",
              "f91j+/fvl4+PjyTJxcVFknT+/Plr60ePHr2hOYzGP/7rv3///vr+++916tQpTZ48WQ888ID27dt3\n",
              "Q98bACoTMQsAlWzu3Ln67LPPFBMTo0OHDslisaiwsFALFy7U888/rzFjxuiDDz5QUlKSSkpKlJCQ\n",
              "oPfff19jx46VJAUFBcnFxUVz587V1atXlZ6ernnz5t3QDA0aNJDRaNTevXuvPbZ371599913Onfu\n",
              "nMxms9zc3CRJJpOp/C4eAMoZMQsAlSwyMlIbN27UkSNHFBoaKhcXF7Vt21bff/+9Bg8erCFDhmjG\n",
              "jBmaMGGC3N3d9eSTTyo+Pl733nuvpNJ3Zj/88EPNmzdPrq6umjJlyrXQLatatWrplVde0ZgxY+Tu\n",
              "7q4JEybo8uXL+te//qUmTZrI1dVVzzzzjBYuXPi7Wx4AoCoxWCwWi7WHAAAAAG4G78wCAADAZhGz\n",
              "AAAAsFnELAAAAGwWMQsAAACbRcwCAADAZhGzAAAAsFnELAAAAGxWjY3Z+Ph4a48AAACAW1RjY/bQ\n",
              "oUPWHgEAAAC3qMbGLAAAAGwfMQsAAACbRcwCAADAZhGzAAAAsFnELAAAAGwWMQsAAACbRcwCAADA\n",
              "ZhGzAAAAsFnELAAAAGwWMQsAAACbRcxWgislV609AgAAQLVEzFaCke+n6ckl25R54qy1RwEAAKhW\n",
              "zNYeoLrbe/ys1h/IlyR9s+Oo+gZ7amJ0oJo3crHyZAAAALaPd2YrWPNGLvpuYrj6tG4ki0X6dscx\n",
              "3fHGGj3+0VbtOV5o7fEAAABsGjFbCVo1dtWcER218qlw9Q1uJEn6ducx9XkjReMXb9HPx4haAACA\n",
              "m0HMVqKWnq5654GO+mFSD93V1lMGg7Ry13HdGZ+icYs2K+NogbVHBAAAsCnErBU0b+Sit4d30A+T\n",
              "eqjfr1H7Q8YJ3fVmqsYu3KxdR4haAACAsiBmrSiooYtmD++gHyf10D3tGstgkH7cfUL93krVmA+J\n",
              "WgAAgL9CzFYBgQ1d9Ob97bXq6QgNCGkso0H66efSqB29YJN2HD5j7REBAACqJGK2CgnwcNYbw9pr\n",
              "VUyEBrZvIqNBWr0nT/fMXqtHFmzS9twz1h4RAACgSiFmqyD/Bs6aNTREP8VE6N4OpVGbsCdP/d9e\n",
              "q1Hz07Qt5xdrjwgAAFAlELNVmF8DZ828L0QJz0RqcEcvmYwGJe09qYHvrNPID9K05RBRCwAAajZi\n",
              "1gb41q+t14e0U8IzERrya9Su2XdSg/69TiPe36gth05be0QAAACrIGZtSNN6tfXakHZKfCZSQzt5\n",
              "y2w0KCXzlAb9e70efG+jNmUTtQAAoGYhZm2QTz0nTRvcVonPRur+0NKoTc06pSFz1uuB9zYo7SBR\n",
              "CwAAagZi1oZ513XS1Hv/E7U+sjMZtDYrX/fNXa/7523QhgP51h4RAACgQhGz1UBp1AYraXKUHrit\n",
              "NGrXH8jXsHkbNHTueq3fT9QCAIDqiZitRpq419K/BgYreXKURnRpKnuTURsPntb9727QfXPXa13W\n",
              "KVksFmuPCQAAUG6I2WqosXst/XNAGyXHRmpk19KoTTt4WsPf26j75q5XaiZRCwAAqgdithrzdKul\n",
              "l/q30ZrYKI3q5it7s1Gbsn/Rg+9v1OA565WSeZKoBQAANo2YrQEauTnqH/e0VsqvUetgNmrLoV80\n",
              "4v00Dfr3OiXvI2oBAIBtImZrkIau/43aR7o3k4PZqK05Z/TQB2ka+M46Je7NI2oBAIBNIWZrIA9X\n",
              "R/3f3a2UEhelMWHN5GhnVHruGT08f5MGvLNOiXuIWgAAYBuI2RrMw8VRf+vXSimx0Xo0vDRqt+ee\n",
              "0cMLNqn/22u1+ucTRC0AAKjSiFmogYuDnr+rlVLjojWuh59q2Zm043CBRn+4WffMXqtVu4laAABQ\n",
              "NRGzuKa+s4Om9G2p1LgoPRbhLyd7k3YeKdCjCzer31up+jHjOFELAACqFGIWv1PP2UHP3dlCqXHR\n",
              "Gh/pr9r2JmUcLdTYRVt015up+n7XcV29StQCAADrI2bxp+rWtldcn9KofTyqNGp3HyvUY4u3qO+b\n",
              "KVq58xhRCwAArIqYxV+qU9tek+9oobXPRevJ6AA5O5i15/hZjf9oq/q+maLviFoAAGAlxCzKzN3J\n",
              "Xs/c3lypcVGaGB0gl1+jdsJHW3VnfIq+2XGUqAUAAJWKmMUNc3eyV8ztzZUaF62negbKxdGsvSfO\n",
              "6omPt+mON9boq+1HVULUAgCASkDM4qa5Odnp6d5BSo2L1qRegXJ1NCsz75wmLimN2i/TjxC1AACg\n",
              "Qt1QzF66dEkDBgxQUFCQ2rVrp969eysrK0uSFBkZqWbNmikkJEQhISGaNWvWtefl5eWpT58+CgwM\n",
              "VJs2bbRmzZoKXUPlcqtlp0m9gpT6XLRiegfJrZadsvLO6alP0nX7rGSt2EbUAgCAinHD78yOHTtW\n",
              "e/fu1fbt29W/f3+NGTPm2tqsWbOUnp6u9PR0Pf3009cef+6559SlSxdlZmZq/vz5Gj58uK5cuVJh\n",
              "a7AOV0c7TewZqNS4KD17e5Dcney0/+R5TVqart4zk7V862EVl1y19pgAAKAauaGYdXR0VN++fWUw\n",
              "GCRJXbp0UXZ29l8+79NPP9Vjjz0mSercubMaN26s5OTkCluDdbk42umJ6EClxEZp8h3N5e5kpwOn\n",
              "zivm0+3qPWuNlm0hagEAQPm4pXtm4+Pj1b9//2tfP/fccwoODtbQoUN14MABSVJ+fr6uXLmiRo0a\n",
              "XTvP19dXOTk5FbL2R4qKilRYWHjdUVJSciuXjjJwcbTT41EBSo2LVmyf5qrjZKeDp87rmc+2q9fM\n",
              "ZH22OZeoBQAAt+SmY/aVV15RVlaWpk6dKklatGiR9uzZox07dig8PFz9+vUrtyFv1dSpU+Xm5nbd\n",
              "kZaWZu2xagxnB7MmRJZG7XN3tlDd2vbKzr+gyZ/vUPSMZH26KVdXiFoAAHATbipmX3/9dS1fvlwr\n",
              "V66Uk5OTJMnb21uSZDAY9MQTT+jAgQPKz89XvXr1ZDabdfz48WvPz87Olo+PT4Ws/ZEpU6aooKDg\n",
              "uiM0NPRmLh23oLaDWY9F+CslNkpT7myherXtlXP6gmKX7VD0jCQt3ZRD1AIAgBtywzE7c+ZMLVmy\n",
              "RKtWrZK7u7skqbi4WCdOnLh2zrJly9SwYUPVq1dPkjRkyBDNmTNHkrRp0yYdOXJEERERFbb2Ww4O\n",
              "DnJ1db3uMJlMN3rpKCe1HcwaF+GvlLgoPd+3peo72yv39EXFLdupqNeTtCQtR5eLiVoAAPDXDBaL\n",
              "pcw/M+nw4cPy9vaWn5+fXFxcJJWGYkJCgiIiIlRUVCSj0aj69etr5syZateunSTpxIkTGjFihA4e\n",
              "PCh7e3vNnj1bUVFRFbZWFjExMZo5c2aZz0fFuXi5RB9tPKQ5yQd06lyRJKmJey1NiPLXkI7esjfz\n",
              "45ABAMAfu6GYrU6I2arn4uUSfZyWoznJ+3XybGnUNnZz1ISoAA3p5CUHM++mAwCA6/GWF6qMWvYm\n",
              "jQ5rppTYKP397lbycHHQ0YJL+tuKXYp8LUmL1merqJifQgEAAP6LmEWV42hn0sPdm2lNbJRevKe1\n",
              "Grk66ljBJb3wZYYipifpw3XZunSFqAUAAMQsqjBHO5Me6uarpMmReql/a3m6Oep44SX9/asMRbyW\n",
              "qAVrDxK1AADUcMQsqjxHO5NGdi2N2n8OaKPGbo46UVikf3y9Wz2mJ+qDVKIWAICaipiFzXAwmzSi\n",
              "S1MlTo7Uvwa2URP3Wso7W6SXvtmt8OmJei/lgC5eJmoBAKhJiFnYHAezSQ/c1lSJz0bqlYHBauJe\n",
              "SyfPFunlb38magEAqGGIWdgse7NRw2/zUeKzkXr13mB51amlU+f+E7UJmrdmvy5cLrb2mAAAoAIR\n",
              "s7B59majhoWWRu30QW3lXbeWTp27rFe+26PwaYmak7xf54uIWgAAqiNiFtWGncmo+zp7K+GZSE0f\n",
              "3FZN6zkp//xlvbpyj8KnJ+rfSUQtAADVDTGLasfOZNR9nby1OiZCrw9pJ996Tjp9/rKmfb9HYdMS\n",
              "9HZils4RtQAAVAvELKots8mowR299FNMhGbe107N6tfWLxeu6LUf9ipsWoJmJ2Tq7KUr1h4TAADc\n",
              "AmIW1Z7ZZNS9Hby06ukemjW0nfzq19aZC1f0+o/7FDYtUW+tzlQhUQsAgE0iZlFjmE1GDWzvpVUx\n",
              "EYofFiL/BrVVcPGKZqzap7BXExT/E1ELAICtIWZR45iMBvUPaaIfn47Qm/e3V4CHswovFWvWT/vU\n",
              "/dUEzVq1TwUXiVoAAGwBMYsay2Q06J52jfXDpB566/72CvRw1tlLxYpfnamwaQmauWqfCi4QtQAA\n",
              "VGXELGo8k9Ggu3+N2reHd1Dzhi46e6lYb/4atTN+3KszFy5be0wAAPAHiFngV0ajQXe19dTKp8L1\n",
              "7wc6qEUjF50tKtZbCVkKm5ao13/Yq1/OE7UAAFQlxCzwG0ajQXcGe+q7ieGa82AHtfR01bmiYs1O\n",
              "zFLYtARN/36PThO1AABUCcQs8CeMRoP6tPHUt0+Gae6Ijmrl6arzl0v0TtJ+hU1L0Ksr9yj/XJG1\n",
              "xwQAoEYjZoG/YDQadEfrRvp2YpjeHdlJrRu76sLlEs1J3q/w6YmauvJnohYAACshZoEyMhgM6t2q\n",
              "ob55Mkzvjeyk4CZuunC5RHOTDyhsWqJe+e5nnSJqAQCoVMQscIMMBoN6tWqor57org9GdVI7Lzdd\n",
              "vFKieWsOKGxagl7+Zrfyzl6y9pgAANQIxCxwkwwGg6JbNNSKx7tr/sOd1c7bXZeuXNV7qQfVY3qi\n",
              "/knUAgBQ4YhZ4BYZDAZFNffQigndtODhzmrvUxq176ceVPi0RL34dYbyColaAAAqAjELlBODwaDI\n",
              "5h5aPr6bFj4Sqo5N66io+Krmr81W2PRE/eOrDB0vIGoBAChPxCxQzgwGg3oENdDnj3XV4tG3qVPT\n",
              "OrpcfFUL1mWrx2uJ+vuXu3Ss4KK1xwQAoFowW3sAoLoyGAwKC6yv7gH1tG5/vuJ/ylRa9ml9uP6Q\n",
              "lqTlamhnb42P9Fdj91rWHhUAAJtFzAIVzGAwqHtAfXXzr6f1B0qjduPB01q04ZCWbsrVfZ29ND4y\n",
              "QE2IWgAAbhgxC1QSg8Ggbv711c2/vtbvz1f86n3acOC0Fm/I0dJNuRrSyVsTIv3lVcfJ2qMCAGAz\n",
              "uGcWsIKu/vX0ydiuWjq2i7r519OVEos+3pijqNeTNGX5DuWevmDtEQEAsAnELGBFt/nV08ePdtGn\n",
              "47qqe0Bp1C5Jy1XU60l6bhlRCwDAXyFmgSogtFldfTSmiz5/rKvCA+ur+KpFn2wqjdrYz7crJ5+o\n",
              "BQDgjxCzQBXSybeuFo2+TcvGd1OPoAYqvmrRp5sPK2pGkp79bLuyT5239ogAAFQpxCxQBXVsWkcL\n",
              "HwnV8gndFBHUQCVXLfp8y2H1nJmsZz7droNELQAAkohZoErr4FNHHz4Sqi8mdFNU89KoXbb1sHrO\n",
              "SFLM0nQdOHnO2iMCAGBVxCxgA9r71NH8h0P15ePd1bOFh65apOXbjqjXzGRN+mSbsvKIWgBAzUTM\n",
              "Ajaknbe73h/VWV890V29WpZG7Yr0o+o9K1lPfbJNWXlnrT0iAACVipgFbFBbL3e991BnffNkmHq3\n",
              "aiiLRfoy/ah6z1qjJ5dsU+YJohYAUDMQs4ANa9PETe+O7KRvJ4bpjtalUfv19qO6/Y01evzjrdp7\n",
              "nKgFAFRvxCxQDbRu7Ka5Izrpu4nh6tO6kSwW6dsdx3THG2v0+Edbted4obVHBACgQhCzQDXSqrGr\n",
              "5ozoqJVPhatvcCNJ0rc7j6nPGykav3iLfj5G1AIAqpcbitlLly5pwIABCgoKUrt27dS7d29lZWVJ\n",
              "kvLy8tSnTx8FBgaqTZs2WrNmzbXnVfYaUNO19HTVOw901A+Teuiutp4yGKSVu47rzvgUjVu0WRlH\n",
              "C6w9IgAA5eKG35kdO3as9u7dq+3bt6t///4aM2aMJOm5555Tly5dlJmZqfnz52v48OG6cuWKVdYA\n",
              "lGreyEVvD++gHyb1UL9fo/aHjBO6681UjV24WbuOELUAANtmsFgslpt98ubNmzV48GBlZ2fL2dlZ\n",
              "WVlZatSo9J82Q0ND9corr6hXr16VvvZbRUVFKioquu6xF154QfHx8Td76YBNyjxxVm8lZOnrHUf1\n",
              "nz/5vVo21KRegWrTxM26wwEAcBNu6Z7Z+Ph49e/fX/n5+bpy5cq1sJQkX19f5eTkVPraH5k6darc\n",
              "3NyuO9LS0m7l0gGbFNjQRW/e316rno7QgJDGMhqkn34+oX5vpWr0gk3acfiMtUcEAOCG3HTMvvLK\n",
              "K8rKytLUqVPLc54KMWXKFBUUFFx3hIaGWnsswGoCPJz1xrD2WhUToYHtm8hokFbvydM9s9fqkQWb\n",
              "tD33jLVHBACgTG4qZl9//XUtX75cK1eulJOTk+rVqyez2azjx49fOyc7O1s+Pj6VvvZHHBwc5Orq\n",
              "et1hMplu5tKBasW/gbNmDQ3RTzERurdDadQm7MlT/7fXatT8NG3L+cXaIwIA8D/dcMzOnDlTS5Ys\n",
              "0apVq+Tu7n7t8SFDhmjOnDmSpE2bNunIkSOKiIiwyhqAG+PXwFkz7wtRwjORGtzRSyajQUl7T2rg\n",
              "O+s08oM0bTlE1AIAqqYb+gDY4cOH5e3tLT8/P7m4uEgqfddz48aNOnHihEaMGKGDBw/K3t5es2fP\n",
              "VlRUlCRV+lpZxMTEaObMmWU+H6hJDuWf1+yELC3fdkQlV0v/iggPrK9JvQLVsWldK08HAMB/3dJP\n",
              "M7BlxCzw13LyL+jtxCwt23pYxb9GbVhAfT3VK1CdfYlaAID18RvAAPwpn3pOmja4rRKfjdT9od4y\n",
              "Gw1KzTqlIXPWa/i7G7TxQL61RwQA1HDELIC/5F3XSVPv/U/U+sjOZNC6/fkaOm+D7p+3QRuIWgCA\n",
              "lRCzAMqsNGqDlfhspB64rTRq1x/I17B5GzR07nqt30/UAgAqFzEL4IZ51XHSvwYGK3lylEZ0aSp7\n",
              "k1EbD57W/e9u0H1z12td1inV0NvxAQCVjJgFcNMau9fSPwe0UXJspEZ2LY3atIOnNfy9jbpv7nql\n",
              "ZhK1AICKRcwCuGWebrX0Uv82WhMbpVHdfGVvNmpT9i968P2NGjxnvVIyTxK1AIAKQcwCKDeN3Bz1\n",
              "j3taK+XXqHUwG7Xl0C8a8X6aBv17nZL3EbUAgPJFzAIodw1d/xu1j3RvJgezUVtzzuihD9I08J11\n",
              "StybR9QCAMoFMQugwni4Our/7m6llLgojQ5rJkc7o9Jzz+jh+Zs04J11StxD1AIAbg0xC6DCebg4\n",
              "6oV+rZQSG61Hw0ujdnvuGT28YJP6v71Wq38+QdQCAG4KMQug0jRwcdDzd7VSaly0xvXwUy07k3Yc\n",
              "LtDoDzfrntlrtWo3UQsAuDHELIBKV9/ZQVP6tlRqXJTGRfjJyd6knUcK9OjCzer3Vqp+zDhO1AIA\n",
              "yoSYBWA19ZwdNOXOlkqNi9b4SH/Vtjcp42ihxi7aorveTNX3u47r6lWiFgDw54hZAFZXt7a94vq0\n",
              "UGpctB6PKo3a3ccK9djiLer7ZopW7jxG1AIA/hAxC6DKqFPbXpPvKI3aJ6IC5Oxg1p7jZzX+o63q\n",
              "+2aKviNqAQC/QcwCqHLq1LbXs3c0V2pclCZGB8jl16id8NFW3Rmfom92HCVqAQCSiFkAVZi7k71i\n",
              "bm+u1LhoPdUzUC6OZu09cVZPfLxNd7yxRl9tP6oSohYAajRiFkCV5+Zkp6d7Byk1LlqTegXK1dGs\n",
              "zLxzmrikNGq/TD9C1AJADUXMArAZbrXsNKlXkFKfi1ZM7yC51bJTVt45PfVJum6flawV24haAKhp\n",
              "iFkANsfV0U4TewYqNS5Kz94eJHcnO+0/eV6Tlqar98xkLd96WMUlV609JgCgEhCzAGyWi6OdnogO\n",
              "VEpslCbf0VzuTnY6cOq8Yj7drt6z1mjZFqIWAKo7YhaAzXNxtNPjUQFKjYtWbJ/mquNkp4OnzuuZ\n",
              "z7ar18xkfbY5l6gFgGqKmAVQbTg7mDUhsjRqn7uzherWtld2/gVN/nyHomck69NNubpC1AJAtULM\n",
              "Aqh2ajuY9ViEv1JiozTlzhaqV9teOacvKHbZDkXPSNLSTTlELQBUE8QsgGqrtoNZ4yL8lRIXpef7\n",
              "tlR9Z3vlnr6ouGU7FfV6kpak5ehyMVELALaMmAVQ7TnZm/VoDz+lxEbrb3e1VH1nBx3+5aKmLC+N\n",
              "2o82HiJqAcBGEbMAaoxa9iaNCfdTSmyUXujXSg1cHHTkzEU9/8UuRb6WqMUbDqmouMTaYwIAbgAx\n",
              "C6DGqWVv0uiwZkqJjdLf724lDxcHHS24pL+t2KXI15K0aH02UQsANoKYBVBjOdqZ9HD3ZloTG6UX\n",
              "72mtRq6OOlZwSS98maGI6Un6cF22Ll0hagGgKiNmAdR4jnYmPdTNV0mTI/VS/9KoPV54SX//KkMR\n",
              "ryVqwdqDRC0AVFHELAD8ytHOpJFdfZUcG6l/Dmijxm6OOlFYpH98vVs9pifqg1SiFgCqGmIWAH7D\n",
              "wWzSiC5NlTg5Uv8a2EZN3Gsp72yRXvpmt8KnJ+q9lAO6eJmoBYCqgJgFgD/hYDbpgduaKvHZSL0y\n",
              "MFhN3Gvp5Nkivfztz0QtAFQRxCwA/AV7s1HDb/NR4rORevXeYHnVqaVT5/4TtQmat2a/LlwutvaY\n",
              "AFAjEbMAUEb2ZqOGhZZG7fRBbeVdt5ZOnbusV77bo/BpiZqTvF/ni4haAKhMxCwA3CA7k1H3dfZW\n",
              "wjORmj64rZrWc1L++ct6deUehU9P1L+TiFoAqCzELADcJDuTUfd18tbqmAi9PqSdmtZz0unzlzXt\n",
              "+z0Km5agtxOzdI6oBYAKRcwCwC0ym4wa3NFLq2MiNGNIOzWrX1u/XLii137Yq7BpCZqdkKmzl65Y\n",
              "e0wAqJaIWQAoJ2aTUYM6emnV0z00a2g7+dWvrTMXruj1H/cpbFqi3lqdqUKiFgDKFTELAOXMbDJq\n",
              "YHsvrYqJUPywEPk1qK2Ci1c0Y9U+hb2aoPifMlVwkagFgPJwQzE7ceJE+fr6ymAwKD09/drjvr6+\n",
              "at68uUJCQhQSEqKlS5deW8vMzFS3bt0UFBSkzp07KyMjo0LXAKCqMBkN6h/SRKueLo3aAA9nFV4q\n",
              "1qyf9ilsWoJmrdpH1ALALbqhmB08eLBSU1PVtGnT360tXbpU6enpSk9P19ChQ689Pm7cOI0dO1b7\n",
              "9u1TXFycRo0aVaFrAFDV/Cdqf5jUQ2/d316BHs46e6lY8aszFTYtQTNX7VPBBaIWAG6GwWKxWG70\n",
              "Sb6+vlqxYoVCQkL+8Ov/yMvLU0BAgE6fPi2z2SyLxSJPT0+lpqbK1dW13NcCAgLKfA0xMTGaOXPm\n",
              "jV46ANyyq1ctWrnruOJX79O+E+ckSS4OZo3q7qvRYc3k7mRv5QkBwHaU2z2zI0eOVHBwsEaPHq2T\n",
              "J09KknJzc+Xp6Smz2SxJMhgM8vHxUU5OToWs/ZmioiIVFhZed5SU8CsoAViH0WjQXW099f1TPfTO\n",
              "Ax3UopGLzhYV662ELIVNS9RrP+zRL+cvW3tMALAJ5RKza9as0Y4dO7R161bVr19fDz30UHl823Iz\n",
              "depUubm5XXekpaVZeywANZzRaFDfYE99NzFccx7soJaerjpXVKy3E/crbFqCpn+/R6eJWgD4n8ol\n",
              "Zn18fCRJdnZ2mjRpklJSUiRJ3t7eOnbsmIqLS39ouMViUU5Ojnx8fCpk7c9MmTJFBQUF1x2hoaHl\n",
              "cekAcMuMRoP6tPHUt0+Gae6Ijmrl6arzl0v0TlJp1L66co/yzxVZe0wAqJJuOWbPnz+vM2fOXPt6\n",
              "yZIlat++vSTJw8NDHTp00OLFiyVJy5Ytk5eXlwICAipk7c84ODjI1dX1usNkMt3qpQNAuTIaDbqj\n",
              "dSN9OzFM80Z0VOvGrrpwuURzkvcrfHqipn73s04RtQBwnRv6ANi4ceP07bff6vjx46pXr55cXFz0\n",
              "448/atCgQSopKZHFYpGfn5/i4+Pl6+srSdq7d69GjRql/Px8ubq6av78+QoODq6wtbLiA2AAqjqL\n",
              "xaLVP+cpfnWmdh4pkCTVsjNpRNemGtvDT/WdHaw8IQBY3039NIPqgJgFYCssFosS9+bpjZ8yteNw\n",
              "adQ62hn14G1NNTbCTx4ujlaeEACsh98ABgBVnMFgUHSLhvry8e6aP6qz2nm769KVq3ov9aDCpyXq\n",
              "pa93K6/wkrXHBACrIGYBwEYYDAZFtfDQigndtODhzmrv466i4qv6YO1BhU9P1ItfZxC1AGocYhYA\n",
              "bIzBYFBkcw8tH99NCx8JVYdfo3b+2myFTU/UP77K0PECohZAzUDMAoCNMhgM6hHUQMvGd9Oi0aHq\n",
              "1LSOLhdf1YJ12erxWqL+78tdOlZw0dpjAkCFMlt7AADArTEYDAoPbKCwgPpatz9f8T9lKi37tBau\n",
              "P6RP0nI1tLO3xkf6q7F7LWuPCgDljpgFgGrCYDCoe0B9dfOvp/UH8vXGT5lKO3haizYc0tJNubqv\n",
              "s5fGRwaoCVELoBohZgGgmjEYDOrmX1/d/Otr/f58xa/epw0HTmvxhhwt3ZSrIZ28NSHSX151nKw9\n",
              "KgDcMu6ZBYBqrKt/PX0ytquWju2ibv71dKXEoo835ijq9SRNWb5DuacvWHtEALglxCwA1AC3+dXT\n",
              "x4920afjuqp7QGnULknLVdTrSXpuGVELwHYRswBQg4Q2q6uPxnTR5491VXhgfRVfteiTTaVRG/v5\n",
              "duXkE7UAbAsxCwA1UCffulo0+jYtG99NPYIaqPiqRZ9uPqyoGUl69rPtyj513tojAkCZELMAUIN1\n",
              "bFpHCx8J1fIJ3RQR1EAlVy36fMth9ZyZrGc+3a6DRC2AKo6YBQCog08dffhIqL6Y0E1RzUujdtnW\n",
              "w+o5I0kxS9N14OQ5a48IAH+ImAUAXNPep47mPxyqLx/vrp4tPHTVIi3fdkS9ZiZr0ifblJVH1AKo\n",
              "WohZAMDvtPN21/ujOuurJ7qrV8vSqF2RflS9ZyXrqU+2KSvvrLVHBABJxCwA4H9o6+Wu9x7qrG+e\n",
              "DFPvVg1lsUhfph9V71lr9OSSbco8QdQCsC5iFgDwl9o0cdO7IzvpmyfDdPuvUfv19qO6/Y01evzj\n",
              "rdp7nKgFYB3ELACgzNo0cdO8kZ303cRw9WndSBaL9O2OY7rjjTV6/KOt2nO80NojAqhhiFkAwA1r\n",
              "1dhVc0Z01MqnwtU3uJEk6dudx9TnjRSNX7xFPx8jagFUDmIWAHDTWnq66p0HOur7SeG6K9hTBoO0\n",
              "ctdx3RmfonGLNivjaIG1RwRQzRGzAIBb1qKRq95+oIN+mNRD/dqWRu0PGSd015upGrtws3YdIWoB\n",
              "VAxiFgBQboIaumj28A76cVIP3dOusQwG6cfdJ9TvrVSN+XCzdh4magGUL2IWAFDuAhu66M3722vV\n",
              "0z3UP6SxjAbpp59P6O7ZqRq9YJN2HD5j7REBVBPELACgwgR4uCh+WHutionQwPZNZDRIq/fk6Z7Z\n",
              "a/XIgk3annvG2iMCsHHELACgwvk3cNasoSH6KSZC93YojdqEPXnq//ZajZqfpm05v1h7RAA2ipgF\n",
              "AFQavwbOmnlfiFY/E6lBHbxkMhqUtPekBr6zTiM/SNOWQ0QtgBtDzAIAKl2z+rU14752SngmQkM6\n",
              "lkbtmn0nNejf6zTi/Y3acui0tUcEYCOIWQCA1TStV1uvDWmnxGciNbSTt8xGg1IyT2nQv9frwfc2\n",
              "alM2UQvgfyNmAQBW51PPSdMGt1Xis5Ea1rk0alOzTmnInPUa/u4GbTyQb+0RAVRRxCwAoMrwruuk\n",
              "VweVRu39oT6yMxm0bn++hs7boPvnbdAGohbAbxCzAIAqx7uuk6beG6zEZyP1wG2lUbv+QL6Gzdug\n",
              "oXPXa93+U7JYLNYeE0AVQMwCAKosrzpO+tfAYCVNjtKDXXxkbzJq48HTGv7uRg2du0HrsohaoKYj\n",
              "ZgEAVV4T91p6eUCwkmMjNbJrU9mbjErLPq3h723UfXPXKzWTqAVqKmIWAGAzPN1q6aX+bZQcG6mH\n",
              "ujaVvdmoTdm/6MH3N2rwnPVas+8kUQvUMMQsAMDmeLrV0ov92yglNkqjuvnKwWzUlkO/aOQHabr3\n",
              "3+uUTNQCNQYxCwCwWQ1dHfWPe1orJTZKj3RvJgezUdtyzuihD9I08J11StybR9QC1RwxCwCweR6u\n",
              "jvq/u1spJS5Ko8OaydHOqPTcM3p4/iYNeGedEvacIGqBaoqYBQBUGx4ujnqhXyulxEbr0fDSqN2e\n",
              "e0aPLNis/m+v1eqfiVqguiFmAQDVTgMXBz1/VyulxkVrXA8/1bIzacfhAo3+cLPumb1Wq3YTtUB1\n",
              "QcwCAKqt+s4OmtK3pVLjojQuwk9O9ibtPFKgRxduVr+3UvVDxnGiFrBxNxSzEydOlK+vrwwGg9LT\n",
              "0689npmZqW7duikoKEidO3dWRkaG1dYAAPites4OmnJnS6XGRWt8pL9q25uUcbRQ4xZtUd83U/X9\n",
              "ruO6epWoBWzRDcXs4MGDlZqaqqZNm173+Lhx4zR27Fjt27dPcXFxGjVqlNXWAAD4M3Vr2yuuTwul\n",
              "xkXr8ajSqP35WKEeW7xFfd9M0cqdx4hawMYYLDfx7yu+vr5asWKFQkJClJeXp4CAAJ0+fVpms1kW\n",
              "i0Wenp5KTU2Vq6trpa4FBASU+RpiYmI0c+bMG710AEA18sv5y3o/9aAWrMvWuaJiSVKLRi56MjpQ\n",
              "d7ZpJKPRYOUJAfwV861+g9zcXHl6espsLv1WBoNBPj4+ysnJkZubW6Wu/VnMFhUVqaio6LrHSkpK\n",
              "bvXSAQA2rk5tez17R3ONCW+mD1IPav7abO05flaPf7xVQQ2dNbFnoPq28SRqgSqsRnwAbOrUqXJz\n",
              "c7vuSEtLs/ZYAIAqwt3JXjG3N1dqXLSe6hkoF0ez9p04pyc+3qY73lijr7YfVQm3HwBV0i3HrLe3\n",
              "t44dO6bi4tJ/nrFYLMrJyZGPj0+lr/2ZKVOmqKCg4LojNDT0Vi8dAFDNuDnZ6eneQUqNi9akXoFy\n",
              "dTQrM++cJi4pjdov048QtUAVc8sx6+HhoQ4dOmjx4sWSpGXLlsnLy0sBAQGVvvZnHBwc5Orqet1h\n",
              "Mplu9dIBANWUWy07TeoVpNTnohXTO0iujmZl5Z3TU5+kq/esZK3YRtQCVcUNfQBs3Lhx+vbbb3X8\n",
              "+HHVq1dPLi4uysrK0t69ezVq1Cjl5+fL1dVV8+fPV3BwsCRV+lpZ8QEwAEBZFV66og/XZuu91IMq\n",
              "uHhFkuRXv7aeiA7QPe0ay2yqEXftAVXSTf00g+qAmAUA3Kizl65o4fpDejflgM5cKI3aZvVr6/Go\n",
              "AA0IIWoBa+BPHQAAZeTiaKfHowKUGhet2D7NVcfJTgdPndezn21Xz5nJ+mxzropLrlp7TKBGIWYB\n",
              "ALhBzg5mTYgsjdq4Pi1Ut7a9DuVf0OTPdyh6RrI+3ZSrK0QtUCmIWQAAblJtB7PGR/orJTZKU+5s\n",
              "oXq17ZVz+oJil+1Q9IwkfZKWQ9QCFYyYBQDgFtV2MGtchL9S4qL0fN+Wqu9sr9zTF/Xc8p2KfC1J\n",
              "S9JydLmYqAUqAjELAEA5cbI369EefkqJjdbf7mqp+s4OOnLmoqYs36mo15P00cZDRC1QzohZAADK\n",
              "WS17k8aE+yklNkov9GulBi6lUfv8F7sU+VqiFm04pKJifq06UB6IWQAAKkgte5NGhzVTSmyU/n53\n",
              "K3m4OOhowSW9sGKXIl9L0qL12UQtcIuIWQAAKpijnUkPd2+mNbFR+sfdrdTQ1UHHCi7phS8zFDE9\n",
              "SR+uy9alK0QtcDOIWQAAKomjnUmjujdT8uQovdS/tRq5Oup44SX9/asMRbyWqPlrDxK1wA0iZgEA\n",
              "qGSOdiaN7Oqr5NhI/XNAG3m6OepEYZFe/Hq3ekxP1AepRC1QVsQsAABW4mA2aUSXpkqaHKmXB7RR\n",
              "E/dayjtbpJe+2a3w6Yl6L+WALl4maoH/hZgFAMDKHMwmPdilqRKfjdQrA4PVxL2WTp4t0svf/qzw\n",
              "6Yl6d80BXbhcbO0xgSqJmAUAoIqwNxs1/DYfJT4bqVfvDZZXnVo6da5I//ruZ/WYnqh5a/YTtcBv\n",
              "ELMAAFQx9majhoWWRu20QcHyrltLp85d1ivf7VH4tETNSd6v80VELSARswAAVFl2JqOGdvZRwjOR\n",
              "mj64rZrWc1L++ct6deUehU9P1DtJWTpH1KKGI2YBAKji7ExG3dfJW6tjIvT6kHZqWs9Jp89f1vTv\n",
              "9yp8WoLeTiRqUXMRswAA2AizyajBHb20OiZCM4a0U7P6tfXLhSt67Ye9CpuWoNkJmTp76Yq1xwQq\n",
              "FTELAICNMZuMGtTRS6ue7qFZQ9vJr35tnblwRa//uE9h0xL15upMFRK1qCGIWQAAbJTZZNTA9l5a\n",
              "FROh+GEh8mtQWwUXr2jmqn0KezVB8T9lquAiUYvqjZgFAMDGmYwG9Q9polVPl0ZtgIezCi8Va9ZP\n",
              "+xQ2LUGzVu0jalFtEbMAAFQT/4naHyb10Fv3t1egh7POXipW/OpMhU1L0MxV+1RwgahF9ULMAgBQ\n",
              "zZiMBt3drrF+mNRDbw/voKCGpVH75q9RO+PHvTpz4bK1xwTKBTELAEA1ZTQadFdbT33/VA+980AH\n",
              "tWjkorNFxXorIUth0xL12g979Mt5oha2jZgFAKCaMxoN6hvsqe8mhmvOgx3U0tNV54qK9XbifoVN\n",
              "S9D07/foNFELG0XMAgBQQxiNBvVp46lvnwzT3BEd1crTVecvl+idpNKofXXlHuWfK7L2mMANIWYB\n",
              "AKhhjEaD7mjdSN9ODNO8ER3VurGrLlwu0Zzk/Qqfnqip3/2sU0QtbAQxCwBADWUwGHR760b65skw\n",
              "vTeyk4KbuOnC5RLNXXNA4dMS9QpRCxtAzAIAUMMZDAb1atVQXz3RXR+M6qS2Xm66eKVE89YcUNi0\n",
              "BL38zW7lnb1k7TGBP0TMAgAASaVRG92iob58vLvmj+qsdt7uunTlqt5LPajwaYl66evdyiskalG1\n",
              "ELMAAOA6BoNBUS08tGJCNy14uLPa+7irqPiqPlh7UOHTE/Xi1xlELaoMYhYAAPwhg8GgyOYeWj6+\n",
              "mxY+EqoOv0bt/LXZCpueqH98laHjBUQtrIuYBQAA/5PBYFCPoAZaNr6bFo0OVaemdXS5+KoWrMtW\n",
              "j9cS9X9f7tKxgovWHhM1lNnaAwAAANtgMBgUHthAYQH1tW5/vuJ/ylRa9mktXH9In6Tlamhnb42P\n",
              "9Fdj91rWHhU1CDELAABuiMFgUPeA+urmX0/rD+TrjZ8ylXbwtBZtOKSlm3I1pJOXJkQFqAlRi0pA\n",
              "zAIAgJtiMBjUzb++uvnX1/r9+YpfvU8bDpzWRxtz9OnmXA3p5K0Jkf7yquNk7VFRjXHPLAAAuGVd\n",
              "/evpk7Fd9cnYLurqV09XSiz6eGOOol5P0pTlO5R7+oK1R0Q1RcwCAIBy08WvnpaM7aJPx3VV94DS\n",
              "qF2Slquo15MU9/kO5eQTtShfxCwAACh3oc3q6qMxXfT5Y10VHlhfxVctWro5V1EzkhT7+XaiFuWG\n",
              "mAUAABWmk29dLRp9m5aNL43akqsWfbr5sKJmJOnZz7Yr+9R5a48IG0fMAgCACtexaWnULp/QTRFB\n",
              "DVRy1aLPtxxWz5nJivk0XQeJWtykco1ZX19fNW/eXCEhIQoJCdHSpUslSZmZmerWrZuCgoLUuXNn\n",
              "ZWRkXHtORawBAICqqYNPHX34SKi+mNBNUc1Lo3b51iPqOSNJMUvTdeDkOWuPCBtT7u/MLl26VOnp\n",
              "6UpPT9fQoUMlSePGjdPYsWO1b98+xcXFadSoUdfOr4g1AABQtbX3qaP5D4dqxePdFd3CQ1ct0vJt\n",
              "R9RrZrImfbJNWXlELcrGYLFYLOX1zXx9fbVixQqFhIRceywvL08BAQE6ffq0zGazLBaLPD09lZqa\n",
              "KldX13JfCwgIKNOsMTExmjlzZnldOgAAuAU7Dp/Rm6sz9dPPeZIkg0G6u21jTewZoAAPFytPh6qs\n",
              "3H9pwsiRI2WxWBQaGqpXX31Vubm58vT0lNlc+lIGg0E+Pj7KycmRm5tbua/9UcwWFRWpqKjousdK\n",
              "SkrK+9IBAMBNauvlrvce6qxdRwoUvzpTq3af0Ffbj+rrHUfVr21jTYwOUGBDoha/V663GaxZs0Y7\n",
              "duzQ1q1bVb9+fT300EPl+e1v2tSpU+Xm5nbdkZaWZu2xAADAb7Rp4qZ3R3bSN0+G6fZWDWWxSF9v\n",
              "P6rb31ijxz/eqr3Hz1p7RFQx5Xqbwf/v2LFjCgoK0v79+61+m8EfvTP7wgsvKD4+viIuHQAAlJPd\n",
              "Rwv15upMfZ9x/NpjfYMbaWLPQLVo5GrFyVBVlNs7s+fPn9eZM2eufb1kyRK1b99eHh4e6tChgxYv\n",
              "XixJWrZsmby8vBQQEFAha3/EwcFBrq6u1x0mk6m8Lh0AAFSQVo1dNWdER618Klx9gxtJkr7beVx9\n",
              "3kjR+MVb9POxQitPCGsrt3dmDxw4oEGDBqmkpEQWi0V+fn6Kj4+Xr6+v9u7dq1GjRik/P1+urq6a\n",
              "P3++goODJalC1sqCD4ABAGB79hwv1Furs/TdrmP6T8Hc0bqhJvYMVOvGbtYdDlZRYbcZVHXELAAA\n",
              "tmvfibN6c3Wmvt3536jt3aqhnuoZqDZNiNqahN8ABgAAbE5QQxfNHt5BP07qoXvaNZbBIK3afUL9\n",
              "3krVmA83a+fhAmuPiEpCzAIAAJsV2NBFb97fXque7qH+IY1lNEg//XxCd89O1egFm7Tj8Blrj4gK\n",
              "RswCAACbF+Dhovhh7bUqJkID2zeR0SCt3pOne2av1cPz05See8baI6KCELMAAKDa8G/grFlDQ/RT\n",
              "TITu7VAatYl7T2rA22s1an6atuX8Yu0RUc6IWQAAUO34NXDWzPtCtPqZSA3q4CWT0aCkvSc18J11\n",
              "GvlBmrYcImqrC2IWAABUW83q19aM+9ppdUyEhnQsjdo1+05q0L/XacT7G7U5+7S1R8QtImYBAEC1\n",
              "51u/tl4b0k6Jz0RqaCdvmY0GpWSe0uA56/Xgexu1iai1WcQsAACoMXzqOWna4LZKfDZSwzqXRm1q\n",
              "1ikNmbNew9/doI0H8q09Im4QMQsAAGoc77pOenVQadTeH+ojO5NB6/bna+i8DRo2b73W7ydqbQUx\n",
              "CwAAaizvuk6aem+wEp+N1AO3lUbthgOndf+7GzR07nqt239KNfSXpdoMYhYAANR4XnWc9K+BwUqa\n",
              "HKUHu/jI3mTUxoOnNfzdjRo6d4PWZRG1VRUxCwAA8Ksm7rX08oBgJU2O1MiuTWVvMiot+7SGv7dR\n",
              "981dr9RMoraqIWYBAAB+o7F7Lb3Uv42SYyP1UNemsjcbtSn7Fz34/kYNnrNea/adJGqrCGIWAADg\n",
              "T3i61dKL/dsoJTZKo7r5yt5s1JZDv2jkB2m699/rlEzUWh0xCwAA8BcaujrqH/e0VmpslB7p3kwO\n",
              "ZqO25ZzRQx+kaeA765S4N4+otRJiFgAAoIw8XB31f3e3UkpclEaHNZOjnVHpuWf08PxNGvD2WiXs\n",
              "OUHUVjJiFgAA4AZ5uDjqhX6tlBIbrUfDS6N2++ECPbJgs/q/vVarfyZqKwsxCwAAcJMauDjo+bta\n",
              "KTUuWuN6+KmWnUk7Dhdo9Iebdc/stVq1m6itaMQsAADALarv7KApfVsqNS5K4yL85GRv0s4jBXp0\n",
              "4Wb1eytVP2QcJ2orCDELAABQTuo5O2jKnS2VGhet8ZH+qm1vUsbRQo1btEV930zV97uO6+pVorY8\n",
              "EbMAAADlrG5te8X1aaGUuGg9HlUatT8fK9Rji7eo75spWrnzGFFbTohZAACAClK3tr0m39FCqXHR\n",
              "eiIqQM4OZu05flbjP9qqO+NT9O0OovZWEbMAAAAVrE5tez17R3OlxkVpYnSAXBzM2nvirB7/eKv6\n",
              "xK/RNzuOErU3iZgFAACoJO5O9oq5vblS46L1VM9AuTiate/EOT3x8Tbd8cYafbX9qEqI2htCzAIA\n",
              "AFQyNyc7Pd07SKlx0ZrUK1CujmZl5p3TxCXbdPusZH2ZfoSoLSNiFgAAwErcatlpUq8gpT4XrZje\n",
              "QXJ1NGv/yfN66pN09Z6VrBXbiNq/QswCAABYmaujnSb2DFTqc9F6pneQ3GrZ6cDJ85q0NF29ZyZr\n",
              "+dbDKi65au0xqyRiFgAAoIpwdbTTkz0DlRoXpcl3NJe7k50OnDqvmE+3q9fMZH2+haj9LWIWAACg\n",
              "inFxtNPjUQFKjYtWbJ/mquNkp+z8C3r2s+3qOTNZn23OJWp/RcwCAABUUc4OZk2ILI3auD4tVLe2\n",
              "vQ7lX9Dkz3coekayPt2Uqys1PGqJWQAAgCqutoNZ4yP9lRIbpSl3tlC92vbKOX1Bsct2KHpGkj5J\n",
              "y6mxUUvMAgAA2IjaDmaNi/BXSlyUnu/bUvWd7ZV7+qKeW75Tka8laUlaji4X16yoJWYBAABsjJO9\n",
              "WY/28FNKbLT+dldL1Xd20JEzFzVl+U5FvZ6kjzYeqjFRS8wCAADYqFr2Jo0J91NKbJRe6NdKDVxK\n",
              "o/b5L3Yp8rVELdpwSEXFJdYes0IRswAAADaulr1Jo8OaKSU2Sn+/u5U8XBx0tOCSXlixS5GvJWnR\n",
              "+uxqG7XELAAAQDXhaGfSw92baU1slP5xdys1dHXQsYJLeuHLDEVMT9KH67J16Ur1ilpiFgAAoJpx\n",
              "tDNpVPdmSp4cpZf6t1YjV0cdL7ykv3+VoYjXEjV/7cFqE7XELAAAQDXlaGfSyK6+So6N1D8HtJGn\n",
              "m6NOFBbpxa93q8f0RH2QavtRS8wCAABUcw5mk0Z0aaqkyZF6eUAbNXZzVN7ZIr30zW6FT0/UeykH\n",
              "dPGybUYtMQsAAFBDOJhNerBLUyVNjtIrA4PVxL2WTp4t0svf/qzw6Yl6d80BXbhcbO0xbwgxCwAA\n",
              "UMPYm40afpuPEp+N1Kv3BsurTi2dOlekf333s3pMT9S8NfttJmptOmYzMzPVrVs3BQUFqXPnzsrI\n",
              "yLD2SAAAADbD3mzUsNDSqJ02KFjedWvp1LnLeuW7PQqflqg5yft1vqhqR61Nx+y4ceM0duxY7du3\n",
              "T3FxcRo1apS1RwIAALA5diajhnb2UcIzkZo+uK2a1nNS/vnLenXlHoVPT9Q7SVk6V0Wj1mCxWCzW\n",
              "HuJm5OXlKSAgQKdPn5bZbJbFYpGnp6dSU1MVEBDwl8+PiYnRzJkzK2FSAAAA21JcclUr0o/qrYRM\n",
              "Hcq/IEmq42SnMeF+Gh/hL6PRYOUJ/8tm35nNzc2Vp6enzGazJMlgMMjHx0c5OTm/O7eoqEiFhYXX\n",
              "HSUltvmJPQAAgIpmNhk1uKOXVsdEaMaQdmpWv7Z+uXBFGw+erlIhK0lmaw9QGaZOnaoXX3zxuse6\n",
              "dOlipWkAAABsg9lk1KCOXuof0lhf7zgq/wbO1h7pd2z2nVlvb28dO3ZMxcWl929YLBbl5OTIx8fn\n",
              "d+dOmTJFBQUF1x2hoaGVPTIAAIBNMpuMGtjeS2293K09yu/YbMx6eHioQ4cOWrx4sSRp2bJl8vLy\n",
              "+sP7ZR0cHOTq6nrdYTKZKntkAAAAlDObvs1g7ty5GjVqlF555RW5urpq/vz51h4JAAAAlcimY7Z5\n",
              "8+Zav369tccAAACAldjsbQYAAAAAMQsAAACbRcwCAADAZhGzAAAAsFnELAAAAGwWMQsAAACbRcwC\n",
              "AADAZhGzAAAAsFkGi8VisfYQ1nDvvffK19e3Ul6rpKREaWlpCg0N5dfo2ij20Laxf7aPPbR97KHt\n",
              "s8YeNm3aVE899dT/PKfGxmxlKiwslJubmwoKCuTq6mrtcXAT2EPbxv7ZPvbQ9rGHtq+q7iG3GQAA\n",
              "AMBmEbMAAACwWcQsAAAAbBYxWwkcHBz097//XQ4ODtYeBTeJPbRt7J/tYw9tH3to+6rqHvIBMAAA\n",
              "ANgs3pkFAACAzSJmAQAAYLOIWQAAANgsYrYcZWZmqlu3bgoKClLnzp2VkZHxh+e9//77CgwMlL+/\n",
              "vx599FFduXKlkifFnynLHiYkJCg0NFStWrVS69atFRsbq6tXr1phWvxWWf8MSpLFYlF0dLTc3d0r\n",
              "b0D8pbLu4c6dOxUZGamWLVuqZcuWWr58eSVPij9Tlj28evWqYmJi1KpVK7Vt21ZRUVHKysqywrT4\n",
              "rYkTJ8rX11cGg0Hp6el/el6VahkLyk1UVJRl/vz5FovFYvnss88snTp1+t05Bw4csHh6elqOHTtm\n",
              "uXr1quXuu++2zJ49u5InxZ8pyx5u3brVsn//fovFYrFcvHjR0r1792vPgXWVZf/+Y8aMGZYxY8ZY\n",
              "3NzcKmc4lElZ9vD8+fOWZs2aWVJSUiwWi8VSXFxsycvLq8wx8T+UZQ+/+OILS2hoqOXy5csWi8Vi\n",
              "+ec//2kZMmRIZY6JP5GcnGzJzc21NG3a1LJt27Y/PKeqtQzvzJaTvLw8bd68WQ8++KAkadCgQcrN\n",
              "zf3d/2l+/vnnuueee9SoUSMZDAY99thjWrJkiTVGxm+UdQ/bt28vPz8/SZKjo6NCQkKUnZ1d2ePi\n",
              "N8q6f5KUkZGhFStW6LnnnqvsMfE/lHUPP/74Y3Xp0kVhYWGSJJPJpAYNGlT6vPi9su6hwWBQUVGR\n",
              "Ll26JIvFosLCQnl5eVljZPxGjx49/nIvqlrLELPlJDc3V56enjKbzZJK/6D6+PgoJyfnuvNycnLU\n",
              "tGnTa1/7+vr+7hxYR1n38P93/Phxff755+rXr19ljYk/Udb9u3Llih599FHNnTtXJpPJGqPiT5R1\n",
              "D3fv3i0HBwf169dPISEhGjlypE6ePGmNkfEbZd3Du+++W5GRkWrUqJE8PT21evVqvfTSS9YYGTeh\n",
              "qrUMMQvcpMLCQt19992KjY1Vp06drD0OyujFF1/Uvffeq5YtW1p7FNyk4uJi/fTTT5o7d662bdum\n",
              "Jk2aaPz48dYeCzdg8+bN2rVrl44cOaKjR4+qZ8+eeuyxx6w9FmwUMVtOvL29dezYMRUXF0sq/XBJ\n",
              "Tk6OfHx8rjvPx8dHhw4duvZ1dnb2786BdZR1DyXp7Nmz6tOnj/r376+YmJjKHhV/oKz7l5ycrLfe\n",
              "eku+vr4KCwtTYWGhfH19eWevCriRv0ejoqLUpEkTGQwGPfjgg9qwYYM1RsZvlHUPFy5ceO0DmEaj\n",
              "UQ899JASExOtMTJuQlVrGWK2nHh4eKhDhw5avHixJGnZsmXy8vJSQEDAdecNGjRIX331lY4fPy6L\n",
              "xaI5c+Zo2LBh1hgZv1HWPTx37pz69OmjPn366G9/+5s1RsUfKOv+paSk6NChQ8rOzlZqaqpcXV2V\n",
              "nZ3NPZdVQFn38L777tOmTZtUWFgoSfruu+/Url27Sp8Xv1fWPfTz81NCQoIuX74sSfrmm2/Upk2b\n",
              "Sp8XN6fKtYzVPnpWDe3Zs8fSpUsXS2BgoKVjx46WHTt2WCwWi2X06NGWL7/88tp58+bNs/j5+Vn8\n",
              "/PwsjzzyyLVPc8L6yrKHL7/8ssVsNlvatWt37Xj55ZetOTZ+VdY/g/9x8OBBfppBFVPWPVy4cKGl\n",
              "devWluDgYEufPn0sOTk51hoZv1GWPbx06ZJlzJgxlhYtWliCg4MtvXv3vvZTYmBdY8eOtTRp0sRi\n",
              "MpksHh4eFn9/f4vFUrVbxmCxWCzWS2kAAADg5nGbAQAAAGwWMQsAAACbRcwCAADAZhGzAAAAsFnE\n",
              "LAAAAGwWMQsAAACbRcwCAADAZhGzAAAAsFnELAAAAGwWMQsAAACbRcwCAADAZv0/qAXuMvGH3WgA\n",
              "AAAASUVORK5CYII=\n",
              "\">\n",
              "      </div>\n",
              "      <script type=\"text/javascript\">\n",
              "        (() => {\n",
              "          const chartElement = document.getElementById(\"chart-841d0e69-6962-428a-8e6e-f8fe25e242cc\");\n",
              "          async function getCodeForChartHandler(event) {\n",
              "            const chartCodeResponse =  await google.colab.kernel.invokeFunction(\n",
              "                'getCodeForChart', [\"chart-841d0e69-6962-428a-8e6e-f8fe25e242cc\"], {});\n",
              "            const responseJson = chartCodeResponse.data['application/json'];\n",
              "            await google.colab.notebook.addCell(responseJson.code, 'code');\n",
              "          }\n",
              "          chartElement.onclick = getCodeForChartHandler;\n",
              "        })();\n",
              "      </script>\n",
              "      <style>\n",
              "        .colab-quickchart-chart-with-code  {\n",
              "            display: block;\n",
              "            float: left;\n",
              "            border: 1px solid transparent;\n",
              "        }\n",
              "\n",
              "        .colab-quickchart-chart-with-code:hover {\n",
              "            cursor: pointer;\n",
              "            border: 1px solid #aaa;\n",
              "        }\n",
              "      </style>"
            ]
          },
          "metadata": {}
        },
        {
          "output_type": "display_data",
          "data": {
            "text/plain": [
              "<google.colab._quickchart_helpers.SectionTitle at 0x7c9b7274bf40>"
            ],
            "text/html": [
              "<h4 class=\"colab-quickchart-section-title\">Faceted distributions</h4>\n",
              "<style>\n",
              "  .colab-quickchart-section-title {\n",
              "      clear: both;\n",
              "  }\n",
              "</style>"
            ]
          },
          "metadata": {}
        },
        {
          "output_type": "stream",
          "name": "stderr",
          "text": [
            "<string>:5: FutureWarning: \n",
            "\n",
            "Passing `palette` without assigning `hue` is deprecated and will be removed in v0.14.0. Assign the `y` variable to `hue` and set `legend=False` for the same effect.\n",
            "\n"
          ]
        },
        {
          "output_type": "display_data",
          "data": {
            "text/plain": [
              "from matplotlib import pyplot as plt\n",
              "import seaborn as sns\n",
              "figsize = (12, 1.2 * len(_df_3['Class'].unique()))\n",
              "plt.figure(figsize=figsize)\n",
              "sns.violinplot(_df_3, x='Counts', y='Class', inner='stick', palette='Dark2')\n",
              "sns.despine(top=True, right=True, bottom=True, left=True)"
            ],
            "text/html": [
              "      <div class=\"colab-quickchart-chart-with-code\" id=\"chart-1541212d-7885-49c8-81fb-01c6b06d1f8b\">\n",
              "        <img style=\"width: 180px;\" src=\"data:image/png;base64,iVBORw0KGgoAAAANSUhEUgAAA/MAAADrCAYAAAAlkcbIAAAAOXRFWHRTb2Z0d2FyZQBNYXRwbG90\n",
              "bGliIHZlcnNpb24zLjcuMSwgaHR0cHM6Ly9tYXRwbG90bGliLm9yZy/bCgiHAAAACXBIWXMAAA9h\n",
              "AAAPYQGoP6dpAAAVUUlEQVR4nO3de5CVBf3H8c/K5mrKJSWpUXFFBEwWdlHwkok0opWWzopplrfw\n",
              "EjPlNP6TjpY0EmQ5mlGpNSkZZmqQ5jQ0iaYWKZcEuSgM4AUrRAbBNZCFhef3R9OOKNCSu3t4+L1e\n",
              "Mzuz+zzn8j3Md468PYezVUVRFAEAAABKY69KDwAAAADsGjEPAAAAJSPmAQAAoGTEPAAAAJSMmAcA\n",
              "AICSEfMAAABQMmIeAAAASkbMAwAAQMmIeQAAACgZMQ8AAAAlI+YBAACgZMQ8AAAAlIyYBwAAgJIR\n",
              "8wAAAFAyYh4AAABKRswDAABAyYh5AAAA9mhjxozJmDFjKj1Gu6qu9AAAAADQkVatWlXpEdqdV+YB\n",
              "AACgZMQ8AAAAlIyYBwAAgJIR8wAAAFAyYh4AAABKRswDAABAyYh5AAAAKBkxDwAAACUj5gEAAKBk\n",
              "xDwAAACUjJgHAACAkhHzAAAAUDJiHgAAAEpGzAMAAEDJiHkAAAAoGTEPAAAAJSPmAQAAoGTEPAAA\n",
              "AJSMmAcAAICSEfMAAABQMmIeAAAASkbMAwAAQMmIeQAAACgZMQ8AAAAlI+YBAACgZMQ8AAAAlIyY\n",
              "BwAAgJIR8wAAAFAyYh4AAABKRswDAABAyYh5AAAAKBkxDwAAACUj5gEAAKBkOjTma2trM2DAgLS0\n",
              "tLQeO/bYY/PEE0905N3u0CmnnJKHHnqoIvcNAAAA7aXDX5lvbm7Oz3/+8//5+u/8HwEAAABAJ8T8\n",
              "2LFjc+ONN2bDhg3bHH/99dfT2NiYurq6DBw4MHfeeWfrudra2nzjG9/IsGHDcvHFF2fs2LH5/Oc/\n",
              "n89+9rPp169fzjzzzCxcuDCnn356+vXrly984QvZunVrkuRXv/pVjjvuuDQ0NGTw4MF55JFH2jRn\n",
              "c3Nzmpqatvlqbm5uvz8IAAAAaCcdHvODBw/OiBEjcuutt25z/Gtf+1r69++fBQsW5PHHH8+4cePy\n",
              "zDPPtJ5fs2ZNZs6cmXvvvTdJMmfOnNxzzz1ZsmRJ3nrrrVx22WX5zW9+k+effz4vvPBCpk2bliQ5\n",
              "/fTT88wzz2Tu3Ll5+OGHc/nll7cpyidMmJDu3btv8zVhwoR2/JMAAACA9lHdGXdy4403ZtiwYfnK\n",
              "V77Semz69On529/+liQ56KCD0tjYmOnTp+f4449PklxyySWpqqpqvfxpp52WD33oQ0mSIUOGpKam\n",
              "Jl27dk2SNDQ0ZOnSpUmSl156KV/84hfz97//PdXV1XnjjTfy0ksvZcCAATud8dprr83VV1+9zbGa\n",
              "mpr3+cgBAACg/XVKzNfW1uaCCy7IuHHjdniZd4Z7kuy///7b/LzPPvu0ft+lS5f3/Pyff1t//vnn\n",
              "57vf/W5GjRqVJDnggAOycePG/zpjTU2NeAcAAKAUOu1X011//fWZPHly/vnPfyZJTj311PzsZz9L\n",
              "kqxevTpTp07NyJEj3/f9rF27NocffniSZPLkyVm7du37vk0AAADYnXRazPfs2TNXXXVVVq5cmST5\n",
              "4Q9/mBdeeCF1dXUZMWJErrvuuhx33HHv+35uu+22jBo1Kg0NDZk7d2569+79vm8TAAAAdidVRVEU\n",
              "lR4CAAAAOkpjY2OSZOrUqRWepP102ivzAAAAQPsQ8wAAAFAyYh4AAABKRswDAABAyYh5AAAAKBkx\n",
              "DwAAACUj5gEAAKBkxDwAAACUjJgHAACAkhHzAAAAUDJiHgAAAEpGzAMAAEDJiHkAAAAoGTEPAAAA\n",
              "JSPmAQAAoGTEPAAAAJSMmAcAAICSEfMAAABQMmIeAAAASkbMAwAAQMmIeQAAACgZMQ8AAAAlI+YB\n",
              "AACgZMQ8AAAAlIyYBwAAgJIR8wAAAFAyYh4AAABKRswDAABAyYh5AAAAKJldjvlHHnkkTU1NSZKb\n",
              "b745o0aNysKFC9t9MAAAAGD7djnmr7vuunTr1i3PPfdcJk+enJEjR2bMmDEdMRsAAACwHbsc89XV\n",
              "1UmSP/7xj7niiity5ZVXZv369e0+GAAAALSHXr16pVevXpUeo11V7+oVtmzZkpkzZ2bKlCm5++67\n",
              "kySbN29u98EAAACgPdx+++2VHqHd7fIr8+PGjcuVV16Zk046KUcddVSWLFmSfv36dcRsAAAAwHZU\n",
              "FUVRVHoIAAAAoO12+ZX5b33rW1m3bl2KosgZZ5yRnj17ZsqUKR0xGwAAALAduxzzDz/8cHr06JHp\n",
              "06enuro6M2bMyLhx4zpiNgAAAGA7djnm99rr31d58sknc+6556Z///6pqqpq98EAAACA7dvlT7Pf\n",
              "b7/9ctNNN+XXv/51ZsyYkaIosmnTpo6YDQAAANiOXX5lftKkSVm5cmW+973vpVevXlm+fHm+9KUv\n",
              "dcRsAAAAwHb4NHsAAAAomV1+m/3bb7+diRMnZt68edm4cWPr8alTp7brYAAAAMD27fLb7C+//PK8\n",
              "/PLL+etf/5oRI0bklVdeyWGHHdYRswEAAADbsctvs6+rq8uCBQsyaNCgzJ8/P2+99VbOOOOMPPXU\n",
              "Ux01IwAAAPAOu/zK/L777pskqa6uzvr169O1a9esXr263QcDAAAAtm+X/838AQcckLVr1+Yzn/lM\n",
              "Tj/99PTs2TOHHHJIR8wGAAAAbMcuv81+y5Yt6dKlS4qiyL333pt169bloosuSrdu3TpqRgAAAOAd\n",
              "/Go6AAAAKJk2v82+oaEhVVVVOzz/7LPPtstAAAAAwM61OebHjh2bN954I3369Nnm+IsvvpgDDjig\n",
              "3Qej7caMGZMkuf322ys8CQAAAJ2hzTE/bdq0jBw5MsOHD9/m+Jo1a/KHP/whZ511VrsPR9usWrWq\n",
              "0iMAAADQidr8q+lmzZqVc8455z3HGxsb/Y55AAAA6ERtjvmWlpYd38heu/zr6gEAAID/UZsrfPPm\n",
              "zWlqanrP8TfffDObN29u16EAAACAHWtzzJ9//vm58MILs3bt2tZja9euzaWXXprzzz+/Q4YDAAAA\n",
              "3qvNMX/99denR48eOfTQQ9PQ0JCGhoYceuih6dq1a775zW925IwAAADAO1QVRVHsyhWWL1/e+jvl\n",
              "hwwZkiOOOKJDBqPtGhsbkyRTp06t8CQAAAB0hjb/arr/OOKIIwQ8AAAAVJCPoQcAAICSEfMAAABQ\n",
              "MmIeAAAASkbMAwAAQMmIeQAAACgZMQ8AAAAlI+YBAACgZMQ8AAAAlIyYBwAAgJIR8wAAAFAyYh4A\n",
              "AABKRswDAABAyYh5AAAAKBkxDwAAACUj5gEAAKBkxDwAAACUjJgHAACAkhHzAAAAUDJiHgAAAEpG\n",
              "zAMAAEDJiHkAAAAoGTEPAAAAJSPmAQAAoGTEPAAAAJSMmAcAAICSEfMAAABQMhWP+dra2vTv3z/1\n",
              "9fWpr6/PZZdd1mH3NWrUqEyaNKnDbh8AAAA6Q3WlB0iS+++/P/X19ds9t2XLlnTp0qVzBwIAAIDd\n",
              "WMVfmX+3SZMmZcSIETnnnHNSV1eXWbNm5ZZbbsnQoUNTX1+foUOH5umnn269fG1tbebNm9f687HH\n",
              "HpsnnngiSbJ48eKceOKJOfroo3P22Wenqalph/fb3Nycpqambb6am5s76mECAADA/2y3iPnzzjuv\n",
              "9W32a9euzcyZMzN+/PgsWLAgJ5xwQi688MLMnj078+bNy8SJE3PppZe26XYvvPDCjB49OosWLcqN\n",
              "N96YJ598coeXnTBhQrp3777N14QJE9rrIQIAAEC72e3eZj9p0qSceOKJ6d+/f+v5uXPn5jvf+U7W\n",
              "rFmT6urqLFmyJG+//Xb23XffHd5mU1NT5s2bl0suuSRJUldXl5NOOmmHl7/22mtz9dVXb3Ospqbm\n",
              "f39QAAAA0EF2i5h/t/3337/1+02bNqWxsTF/+tOfMnTo0DQ1NaV79+5pbm7Ovvvum+rq6mzZsqX1\n",
              "8hs3btzh7VZVVe3wXE1NjXgHAACgFHaLt9nvzMaNG7Np06b07t07STJx4sRtzvft2zczZ85Mksya\n",
              "NStLlixJknTr1i0NDQ255557kiSLFi3KX/7yl06cHAAAADrGbh/z3bp1y7hx4zJs2LAcc8wx2Xvv\n",
              "vbc5P27cuPz4xz/O4MGDc9ddd+Xoo49uPXfPPffkpz/9aQYOHJjrr78+J598cmePDwAAAO2uqiiK\n",
              "otJD8P40NjYmSaZOnVrhSQAAAOgMu/0r8wAAAMC2xDwAAACUjJgHAACAkhHzAAAAUDJiHgAAAEpG\n",
              "zAMAAEDJiHkAAAAoGTEPAAAAJSPmAQAAoGTEPAAAAJSMmAcAAICSEfMAAABQMmIeAAAASkbMAwAA\n",
              "QMmIeQAAACgZMQ8AAAAlI+YBAACgZMQ8AAAAlIyYBwAAgJIR8wAAAFAyYh4AAABKRswDAABAyYh5\n",
              "AAAAKBkxDwAAACUj5gEAAKBkxDwAAACUjJgHAACAkhHzAAAAUDJiHgAAAEpGzAMAAEDJiHkAAAAo\n",
              "mepKD8D716tXr0qPAAAAQCeqKoqiqPQQAAAAQNt5mz0AAACUjJgHAACAkhHzAAAAUDJiHgAAAEpG\n",
              "zAMAAEDJiHkAAAAoGTEPAAAAJSPmS6y5uTljx45Nc3NzpUdhD2GnaG92ivZmp2hvdor2ZqfoLFVF\n",
              "URSVHoL/TVNTU7p3754333wz3bp1q/Q47AHsFO3NTtHe7BTtzU7R3uwUncUr8wAAAFAyYh4AAABK\n",
              "RswDAABAyYj5EqupqckNN9yQmpqaSo/CHsJO0d7sFO3NTtHe7BTtzU7RWXwAHgAAAJSMV+YBAACg\n",
              "ZMQ8AAAAlIyYBwAAgJIR8wAAAFAyYr7Eli5dmhNPPDH9+vXL0KFDs2jRokqPxG6itrY2/fv3T319\n",
              "ferr63P//fcn2fnOdMQ5yumqq65KbW1tqqqqMm/evNbjnb0/dmvPsaOd2tFzVWKn2LmNGzfm7LPP\n",
              "Tr9+/TJ48OCMHDkyy5YtS5K8/vrr+dSnPpUjjzwyAwcOzFNPPdV6vc4+R3nsbKdOOeWUHH744a3P\n",
              "Vbfeemvr9ewUFVVQWiNGjCjuvvvuoiiK4sEHHyyOPfbYyg7EbuOwww4r5s6d+57jO9uZjjhHOT35\n",
              "5JPFq6+++p496uz9sVt7jh3t1I6eq4rCTrFzb7/9dvH73/++2Lp1a1EURTFx4sRi+PDhRVEUxaWX\n",
              "XlrccMMNRVEUxaxZs4qDDz642LRpU0XOUR4726nhw4cXv/3tb7d7PTtFJYn5klq1alXRtWvXYvPm\n",
              "zUVRFMXWrVuLXr16FUuXLq3wZOwOtvcX5J3tTEeco/zeuUedvT92a8/U1pi3U+yq2bNnF4cddlhR\n",
              "FEWx3377FStXrmw9N3To0OLRRx+tyDnK6507tbOYt1NUkrfZl9Srr76aj370o6murk6SVFVVpXfv\n",
              "3lmxYkWFJ2N3cdFFF6Wuri6jR4/O6tWrd7ozHXGOPUtn74/d+v/j3c9VSefvG+V322235ayzzsqa\n",
              "NWuyefPmfOQjH2k9V1tbmxUrVnT6OcrtPzv1H9dcc03q6upy3nnn5cUXX0wSO0XFiXnYAz311FOZ\n",
              "P39+nn322fTs2TMXX3xxpUcCeA/PVbSH8ePHZ9myZZkwYUKlR2EP8e6d+uUvf5nFixdn/vz5+cQn\n",
              "PpEzzzyzwhPCv4n5kjr00EOzcuXKtLS0JEmKosiKFSvSu3fvCk/G7uA/e/CBD3wgX//61/PnP/95\n",
              "pzvTEefYs3T2/tit/x+291yVdP6+UV4333xzpk6dmmnTpuWDH/xgDjzwwFRXV+e1115rvczLL7+c\n",
              "3r17d/o5yundO5X8+zkp+fc7er761a/mxRdfzJo1a+wUFSfmS+qggw7KkCFDMnny5CTJlClTcsgh\n",
              "h6Rv374VnoxKW79+fdatW9f683333ZeGhoad7kxHnGPP0tn7Y7f2fDt6rko6f98op1tuuSX33Xdf\n",
              "Hn300fTo0aP1+Lnnnps77rgjSTJ79uz84x//yPDhwytyjnLZ3k61tLRk1apVrZeZMmVKevXqlQMP\n",
              "PDCJnaLCKvEP9WkfixcvLo4//vjiyCOPLI455phi/vz5lR6J3cDy5cuL+vr6oq6urhg4cGDxuc99\n",
              "rnjppZeKotj5znTEOcrpiiuuKA4++OCiS5cuxUEHHVQcccQRRVF0/v7YrT3H9nZqZ89VRWGn2LlX\n",
              "X321SFL06dOnGDx4cDF48OBi2LBhRVEUxWuvvVaMHDmy6Nu3b/Gxj32sePzxx1uv19nnKI8d7dS/\n",
              "/vWv4phjjikGDhxYDBo0qPjkJz9ZzJs3r/V6dopKqiqKoqj0/1AAAAAA2s7b7AEAAKBkxDwAAACU\n",
              "jJgHALbR0tKSb3/72xkwYEAGDhyY+vr6XHHFFdt8YF17efnll1s/6AkAaDsxDwBsY/To0ZkzZ06e\n",
              "fvrpLFy4MHPnzs3IkSPzxhtvtPt9iXkA+N/4ADwAoNWyZcsyaNCgrFixIj179nzP+e9///uZNGlS\n",
              "9tprrwwaNCg/+clP0r1794wdOzbr1q3LD37wgyTJj370o8yZMyeTJk3KpEmTMnny5Hz4wx/OwoUL\n",
              "U1NTkwceeCB9+vTJgAED8sorr6R///7p3bt3HnrooVx11VV57LHHsvfee6e6ujozZszIPvvs08l/\n",
              "EgCwe/PKPADQ6tlnn82RRx653ZCfNm1a7rrrrsyYMSMLFizIfvvtl2uuuaZNtzt79uyMHz8+CxYs\n",
              "yKmnnpqbbropSXLHHXekf//+mTdvXn73u9/lueeey2OPPZZFixblueeey+OPP5699967XR8jAOwJ\n",
              "xDwA0CbTp0/Peeedlx49eiRJxowZk0cffbRN1z3hhBNy+OGHt36/fPny7V6uT58+aWlpyZe//OX8\n",
              "4he/yObNm7PXXv66AgDv5r+OAECrIUOGZOnSpVmzZs1/vWxVVVXr99XV1dmyZUvrzxs3btzmsu98\n",
              "m3yXLl3S0tKy3dvs3r17Fi5cmAsuuCCLFy/OoEGDsmzZsl19GACwxxPzAECrvn375pxzzsno0aNb\n",
              "P72+KIpMmTIlffr0yQMPPJCmpqYkyZ133pnTTjut9Xpz5szJli1bsmHDhkyZMqVN99etW7e8+eab\n",
              "rT+vXr0669evz2mnnZbx48entrY2zz//fPs+SADYA1RXegAAYPdy1113Zdy4cTnuuONSXV2drVu3\n",
              "5uSTT85NN92UDRs25IQTTtjmA/CSpLGxMQ8++GCOOuqoHHLIIWloaMiGDRv+630NGjQoRx99dAYO\n",
              "HJg+ffpk7Nixufzyy7N58+Zs2bIlH//4x/PpT3+6ox8yAJSOT7MHAACAkvE2ewAAACgZMQ8AAAAl\n",
              "I+YBAACgZMQ8AAAAlIyYBwAAgJIR8wAAAFAyYh4AAABKRswDAABAyYh5AAAAKBkxDwAAACXzfzd3\n",
              "FRwnTssCAAAAAElFTkSuQmCC\n",
              "\">\n",
              "      </div>\n",
              "      <script type=\"text/javascript\">\n",
              "        (() => {\n",
              "          const chartElement = document.getElementById(\"chart-1541212d-7885-49c8-81fb-01c6b06d1f8b\");\n",
              "          async function getCodeForChartHandler(event) {\n",
              "            const chartCodeResponse =  await google.colab.kernel.invokeFunction(\n",
              "                'getCodeForChart', [\"chart-1541212d-7885-49c8-81fb-01c6b06d1f8b\"], {});\n",
              "            const responseJson = chartCodeResponse.data['application/json'];\n",
              "            await google.colab.notebook.addCell(responseJson.code, 'code');\n",
              "          }\n",
              "          chartElement.onclick = getCodeForChartHandler;\n",
              "        })();\n",
              "      </script>\n",
              "      <style>\n",
              "        .colab-quickchart-chart-with-code  {\n",
              "            display: block;\n",
              "            float: left;\n",
              "            border: 1px solid transparent;\n",
              "        }\n",
              "\n",
              "        .colab-quickchart-chart-with-code:hover {\n",
              "            cursor: pointer;\n",
              "            border: 1px solid #aaa;\n",
              "        }\n",
              "      </style>"
            ]
          },
          "metadata": {}
        }
      ]
    },
    {
      "cell_type": "code",
      "source": [
        "fig = plt.figure()\n",
        "fig.set_figheight(8)\n",
        "fig.set_figwidth(10)\n",
        "\n",
        "ax = sns.barplot(x=class_count_df['Class'],\n",
        "                 y=class_count_df['Counts'])\n",
        "\n",
        "ax.bar_label(ax.containers[0], color='red') ## Showing Values at top of Each Bar.\n",
        "\n",
        "ax.set_xticklabels(labels=list(class_count_df['Class']) ,c='blue', rotation=0, fontsize=10, fontweight='bold')\n",
        "labels, location = plt.yticks()\n",
        "ax.set_yticklabels(labels=labels.astype(int), c='blue', fontsize=8, fontweight='bold')\n",
        "\n",
        "plt.xlabel(xlabel='Type of Transactions', fontsize=14, fontweight='bold').set_color('purple')\n",
        "plt.ylabel(ylabel='Frequency', fontsize=14, fontweight='bold').set_color('purple')\n",
        "plt.title(label='Count Values of Normal vs Fraud Class', fontsize=24, fontweight='bold').set_color('purple')"
      ],
      "metadata": {
        "colab": {
          "base_uri": "https://localhost:8080/",
          "height": 804
        },
        "id": "rNnQpdjfrjwN",
        "outputId": "fc633cf8-7149-4040-d91e-7e40cda688b1"
      },
      "execution_count": null,
      "outputs": [
        {
          "output_type": "stream",
          "name": "stderr",
          "text": [
            "<ipython-input-65-bf8448d5e791>:10: UserWarning: FixedFormatter should only be used together with FixedLocator\n",
            "  ax.set_xticklabels(labels=list(class_count_df['Class']) ,c='blue', rotation=0, fontsize=10, fontweight='bold')\n",
            "<ipython-input-65-bf8448d5e791>:12: UserWarning: FixedFormatter should only be used together with FixedLocator\n",
            "  ax.set_yticklabels(labels=labels.astype(int), c='blue', fontsize=8, fontweight='bold')\n"
          ]
        },
        {
          "output_type": "display_data",
          "data": {
            "text/plain": [
              "<Figure size 1000x800 with 1 Axes>"
            ],
            "image/png": "[encoded data removed]"
          },
          "metadata": {}
        }
      ]
    },
    {
      "cell_type": "code",
      "source": [
        "fraud = df[df['Class'] == 1]\n",
        "normal = df[df['Class'] == 0]\n",
        "fraud.shape, normal.shape"
      ],
      "metadata": {
        "colab": {
          "base_uri": "https://localhost:8080/"
        },
        "id": "OaX9ujQUrjtE",
        "outputId": "2ff8769d-1760-498a-a0e8-f5f00f438a71"
      },
      "execution_count": null,
      "outputs": [
        {
          "output_type": "execute_result",
          "data": {
            "text/plain": [
              "((492, 30), (284315, 30))"
            ]
          },
          "metadata": {},
          "execution_count": 66
        }
      ]
    },
    {
      "cell_type": "code",
      "source": [
        "fraud_frc = len(fraud)/float(len(df))\n",
        "fraud_frc"
      ],
      "metadata": {
        "colab": {
          "base_uri": "https://localhost:8080/"
        },
        "id": "te6BZ7N_rjqS",
        "outputId": "504c1b27-d732-4716-e554-56df57366f02"
      },
      "execution_count": null,
      "outputs": [
        {
          "output_type": "execute_result",
          "data": {
            "text/plain": [
              "0.001727485630620034"
            ]
          },
          "metadata": {},
          "execution_count": 67
        }
      ]
    },
    {
      "cell_type": "code",
      "source": [
        "print(f\"Percentage of Fraud Tnxs in datasets : {fraud_frc*100:.2f}%\")"
      ],
      "metadata": {
        "colab": {
          "base_uri": "https://localhost:8080/"
        },
        "id": "GR9pRBP-rjnS",
        "outputId": "0242f9ba-1763-4db7-f641-9d1b0c6162ff"
      },
      "execution_count": null,
      "outputs": [
        {
          "output_type": "stream",
          "name": "stdout",
          "text": [
            "Percentage of Fraud Tnxs in datasets : 0.17%\n"
          ]
        }
      ]
    },
    {
      "cell_type": "code",
      "source": [
        "normal.Amount.describe()"
      ],
      "metadata": {
        "colab": {
          "base_uri": "https://localhost:8080/"
        },
        "id": "Pz4kNTjtrjka",
        "outputId": "f95c6757-69ab-4587-f08f-4819e5b851b0"
      },
      "execution_count": null,
      "outputs": [
        {
          "output_type": "execute_result",
          "data": {
            "text/plain": [
              "count    284315.000000\n",
              "mean         88.291022\n",
              "std         250.105092\n",
              "min           0.000000\n",
              "25%           5.650000\n",
              "50%          22.000000\n",
              "75%          77.050000\n",
              "max       25691.160000\n",
              "Name: Amount, dtype: float64"
            ]
          },
          "metadata": {},
          "execution_count": 69
        }
      ]
    },
    {
      "cell_type": "code",
      "source": [
        "fraud.Amount.describe()"
      ],
      "metadata": {
        "colab": {
          "base_uri": "https://localhost:8080/"
        },
        "id": "a2brtjczrjhq",
        "outputId": "ef723370-9b1a-4c4f-9cc2-acbd4bd17c90"
      },
      "execution_count": null,
      "outputs": [
        {
          "output_type": "execute_result",
          "data": {
            "text/plain": [
              "count     492.000000\n",
              "mean      122.211321\n",
              "std       256.683288\n",
              "min         0.000000\n",
              "25%         1.000000\n",
              "50%         9.250000\n",
              "75%       105.890000\n",
              "max      2125.870000\n",
              "Name: Amount, dtype: float64"
            ]
          },
          "metadata": {},
          "execution_count": 70
        }
      ]
    },
    {
      "cell_type": "markdown",
      "source": [
        "**Handling Imbalanced Datasets**\n",
        "\n",
        "\n",
        "\n",
        "1) Choose Proper Evaluation Metrics\n",
        "Accuracy may be good enough for a well-balanced class but not ideal for the imbalanced class problem. The other metrics like precision( measure of how accurate the classifier’s prediction of a specific class ) and recall ( measure of the classifier’s ability to identify a class ) are also considered.\n",
        "\n",
        "For an imbalanced class dataset, F1 score is a more appropriate metric. F1 score is defined as the harmonic mean between precision and recall. It is used as a statistical measure to rate performance. F1-score ranges between 0 and 1. The closer it is to 1, the better the model."
      ],
      "metadata": {
        "id": "rsCIEFVKwY8B"
      }
    },
    {
      "cell_type": "code",
      "source": [
        "#Resampling(undersampling    and     oversampling)"
      ],
      "metadata": {
        "id": "obS22z3qrjei"
      },
      "execution_count": null,
      "outputs": []
    },
    {
      "cell_type": "code",
      "source": [
        "df.Class.value_counts()"
      ],
      "metadata": {
        "colab": {
          "base_uri": "https://localhost:8080/"
        },
        "id": "4cFdBIwArjbH",
        "outputId": "7d7a38b3-edba-4a00-be52-94153ff028c3"
      },
      "execution_count": null,
      "outputs": [
        {
          "output_type": "execute_result",
          "data": {
            "text/plain": [
              "0    284315\n",
              "1       492\n",
              "Name: Class, dtype: int64"
            ]
          },
          "metadata": {},
          "execution_count": 71
        }
      ]
    },
    {
      "cell_type": "code",
      "source": [
        "from sklearn.utils import resample\n",
        "df_majority=df[(df['Class']==0)]\n",
        "df_minority=df[(df['Class']==1)]\n",
        "\n",
        "#oversampling minority class\n",
        "\n",
        "df_minority_oversampled=resample(df_minority,\n",
        "                                 replace=True,\n",
        "                                 n_samples=284315,\n",
        "                                 random_state=42)\n",
        "\n",
        "#concat majority class with oversampled minority class\n",
        "\n",
        "df_oversampled=pd.concat([df_minority_oversampled,df_majority])\n",
        "\n",
        "df_oversampled.Class.value_counts()"
      ],
      "metadata": {
        "colab": {
          "base_uri": "https://localhost:8080/"
        },
        "id": "Nrk0zvlLrjYK",
        "outputId": "8960823d-b7c8-4ecc-dabe-3170a1211c09"
      },
      "execution_count": null,
      "outputs": [
        {
          "output_type": "execute_result",
          "data": {
            "text/plain": [
              "1    284315\n",
              "0    284315\n",
              "Name: Class, dtype: int64"
            ]
          },
          "metadata": {},
          "execution_count": 72
        }
      ]
    },
    {
      "cell_type": "code",
      "source": [
        "X_oversampled = df_oversampled.drop('Class', axis=1)\n",
        "y_oversampled = df_oversampled['Class']\n",
        "X_oversampled.shape, y_oversampled.shape"
      ],
      "metadata": {
        "colab": {
          "base_uri": "https://localhost:8080/"
        },
        "id": "BAXsUV5e7kkW",
        "outputId": "ac98af06-f873-430a-e3bf-ff8e61d53c90"
      },
      "execution_count": null,
      "outputs": [
        {
          "output_type": "execute_result",
          "data": {
            "text/plain": [
              "((568630, 29), (568630,))"
            ]
          },
          "metadata": {},
          "execution_count": 73
        }
      ]
    },
    {
      "cell_type": "markdown",
      "source": [
        "**Undersampling**"
      ],
      "metadata": {
        "id": "Jh8wQU5N7puX"
      }
    },
    {
      "cell_type": "code",
      "source": [
        "from imblearn.under_sampling import RandomUnderSampler\n",
        "from collections import Counter\n",
        "\n",
        "rus = RandomUnderSampler(random_state=42)\n",
        "\n",
        "X_undersampled, y_undersampled = rus.fit_resample(X, y)\n",
        "print(f\"The number of Classes before the fit {Counter(y)}\")\n",
        "print(f\"The number of Classes after the fit {Counter(y_undersampled)}\")"
      ],
      "metadata": {
        "colab": {
          "base_uri": "https://localhost:8080/"
        },
        "id": "IyoJz13g7kg2",
        "outputId": "e5688ae7-eaa0-4651-ef92-c6c5ec9fe7fc"
      },
      "execution_count": null,
      "outputs": [
        {
          "output_type": "stream",
          "name": "stdout",
          "text": [
            "The number of Classes before the fit Counter({0: 284315, 1: 492})\n",
            "The number of Classes after the fit Counter({0: 492, 1: 492})\n"
          ]
        }
      ]
    },
    {
      "cell_type": "markdown",
      "source": [
        "** SMOTE(Synthetic Minority Oversampling Technique)**\n",
        "\n",
        "\n",
        "Simply adding duplicate records of minority class often don’t add any new information to the model. In SMOTE new instances are synthesized from the existing data. If we explain it in simple words, SMOTE looks into minority class instances and use k nearest neighbor to select a random nearest neighbor, and a synthetic instance is created randomly in feature space."
      ],
      "metadata": {
        "id": "jE0iscIp9u5W"
      }
    },
    {
      "cell_type": "code",
      "source": [
        "from imblearn.over_sampling import SMOTE\n",
        "\n",
        "# Resampling the minority class.\n",
        "\n",
        "sm = SMOTE(sampling_strategy='minority', random_state=42)\n",
        "\n",
        "# Fit the model to generate the data.\n",
        "\n",
        "X_smote, y_smote = sm.fit_resample(df.drop('Class', axis=1), df['Class'])\n",
        "smote_df = pd.concat([pd.DataFrame(X_smote), pd.DataFrame(y_smote)], axis=1)\n",
        "X_smote.shape"
      ],
      "metadata": {
        "colab": {
          "base_uri": "https://localhost:8080/"
        },
        "id": "A4RrIo737ken",
        "outputId": "ac8ebd7c-b303-43ce-e7ae-69c2c5be7fe0"
      },
      "execution_count": null,
      "outputs": [
        {
          "output_type": "execute_result",
          "data": {
            "text/plain": [
              "(568630, 29)"
            ]
          },
          "metadata": {},
          "execution_count": 75
        }
      ]
    },
    {
      "cell_type": "code",
      "source": [
        "X_smote.shape"
      ],
      "metadata": {
        "colab": {
          "base_uri": "https://localhost:8080/"
        },
        "id": "0HxbmaQ07kcS",
        "outputId": "7c9bfb8d-b464-4cef-9381-8f64065febf0"
      },
      "execution_count": null,
      "outputs": [
        {
          "output_type": "execute_result",
          "data": {
            "text/plain": [
              "(568630, 29)"
            ]
          },
          "metadata": {},
          "execution_count": 76
        }
      ]
    },
    {
      "cell_type": "code",
      "source": [
        "%store X_smote"
      ],
      "metadata": {
        "colab": {
          "base_uri": "https://localhost:8080/"
        },
        "id": "_ER8XkZ8GhXe",
        "outputId": "a17bd6df-9d8b-420c-e79a-0f0f71124e51"
      },
      "execution_count": null,
      "outputs": [
        {
          "output_type": "stream",
          "name": "stdout",
          "text": [
            "Stored 'X_smote' (DataFrame)\n"
          ]
        }
      ]
    },
    {
      "cell_type": "code",
      "source": [
        "smote_df.Class.value_counts()"
      ],
      "metadata": {
        "colab": {
          "base_uri": "https://localhost:8080/"
        },
        "id": "VcqeWUp37kZl",
        "outputId": "241c52ec-1e94-43cc-c786-6937d5b57c53"
      },
      "execution_count": null,
      "outputs": [
        {
          "output_type": "execute_result",
          "data": {
            "text/plain": [
              "0    284315\n",
              "1    284315\n",
              "Name: Class, dtype: int64"
            ]
          },
          "metadata": {},
          "execution_count": 77
        }
      ]
    },
    {
      "cell_type": "markdown",
      "source": [
        "***Now trying out all the algorithms on the data set to figure out which fits best***"
      ],
      "metadata": {
        "id": "d_Ld9odwD_Yt"
      }
    },
    {
      "cell_type": "markdown",
      "source": [
        "**1.Logistic Regression**"
      ],
      "metadata": {
        "id": "musTDFzBRSAA"
      }
    },
    {
      "cell_type": "code",
      "source": [
        "import numpy as np\n",
        "import matplotlib.pyplot as plt\n",
        "import seaborn as sns\n",
        "from sklearn.linear_model import LogisticRegression"
      ],
      "metadata": {
        "id": "WgNbFjVr7kWr"
      },
      "execution_count": null,
      "outputs": []
    },
    {
      "cell_type": "code",
      "source": [
        "def LR_model(X,y):\n",
        "    print(\"Spliting Datasets....\")\n",
        "    from sklearn.model_selection import train_test_split\n",
        "    np.random.seed(42)\n",
        "    X_train, X_test, y_train, y_test = train_test_split(X, y,test_size=0.2)\n",
        "    print(\"Successfully splitted!!!\")\n",
        "\n",
        "    print(\"Model Fitting.....\")\n",
        "    lr = LogisticRegression()\n",
        "    lr.fit(X_train, y_train)\n",
        "    print(\"Successfully model fitted!!!\")\n",
        "\n",
        "    from sklearn.metrics import classification_report, confusion_matrix, accuracy_score\n",
        "    print(\"------------Training Prediction--------------\")\n",
        "    y_preds = lr.predict(X_train)\n",
        "    print(f\"Classfifcation Report:\\n\\n{classification_report(y_train, y_preds)}\\n\\n\")\n",
        "\n",
        "    cf_matrix = confusion_matrix(y_train, y_preds)\n",
        "\n",
        "    fig, ax = plt.subplots(figsize=(6,4))\n",
        "    sns.heatmap(cf_matrix, annot=True, cmap='coolwarm', fmt='g')\n",
        "    fig.suptitle(t=\"Confusion Matrix\",\n",
        "                 color=\"orange\",\n",
        "                 fontsize=16);\n",
        "    ax.set(xlabel=\"Predicted Label\",\n",
        "           ylabel=\"Actual Label\");\n",
        "\n",
        "    print(f\"Accuracy Score:\\n\\n{accuracy_score(y_train, y_preds)*100:2f}%\\n\")\n",
        "\n",
        "    print(\"------------Test Prediction--------------\")\n",
        "\n",
        "    y_preds =lr.predict(X_test)\n",
        "    print(f\"Classfifcation Report:\\n\\n{classification_report(y_test, y_preds)}\\n\\n\")\n",
        "\n",
        "    cf_matrix = confusion_matrix(y_test, y_preds)\n",
        "\n",
        "    fig, ax = plt.subplots(figsize=(6,4))\n",
        "    sns.heatmap(cf_matrix, annot=True, cmap='coolwarm', fmt='g')\n",
        "    fig.suptitle(t=\"Confusion Matrix\",\n",
        "                 color=\"orange\",\n",
        "                 fontsize=16);\n",
        "    ax.set(xlabel=\"Predicted Label\",\n",
        "           ylabel=\"Actual Label\");\n",
        "\n",
        "    print(f\"Accuracy Score:\\n\\n{accuracy_score(y_test, y_preds)*100:2f}%\\n\")\n"
      ],
      "metadata": {
        "id": "Kdfoy8YC7kT2"
      },
      "execution_count": null,
      "outputs": []
    },
    {
      "cell_type": "code",
      "source": [
        "#Logistic Regression on Normal Datasets.\n",
        "\n",
        "LR_model(X, y)"
      ],
      "metadata": {
        "colab": {
          "base_uri": "https://localhost:8080/",
          "height": 1000
        },
        "id": "YaAuWeWrEXRr",
        "outputId": "d84d7e7f-e35f-4390-ea62-9e4d2c7c1f5a"
      },
      "execution_count": null,
      "outputs": [
        {
          "output_type": "stream",
          "name": "stdout",
          "text": [
            "Spliting Datasets....\n",
            "Successfully splitted!!!\n",
            "Model Fitting.....\n"
          ]
        },
        {
          "output_type": "stream",
          "name": "stderr",
          "text": [
            "/usr/local/lib/python3.10/dist-packages/sklearn/linear_model/_logistic.py:458: ConvergenceWarning: lbfgs failed to converge (status=1):\n",
            "STOP: TOTAL NO. of ITERATIONS REACHED LIMIT.\n",
            "\n",
            "Increase the number of iterations (max_iter) or scale the data as shown in:\n",
            "    https://scikit-learn.org/stable/modules/preprocessing.html\n",
            "Please also refer to the documentation for alternative solver options:\n",
            "    https://scikit-learn.org/stable/modules/linear_model.html#logistic-regression\n",
            "  n_iter_i = _check_optimize_result(\n"
          ]
        },
        {
          "output_type": "stream",
          "name": "stdout",
          "text": [
            "Successfully model fitted!!!\n",
            "------------Training Prediction--------------\n",
            "Classfifcation Report:\n",
            "\n",
            "              precision    recall  f1-score   support\n",
            "\n",
            "           0       1.00      1.00      1.00    227451\n",
            "           1       0.86      0.65      0.74       394\n",
            "\n",
            "    accuracy                           1.00    227845\n",
            "   macro avg       0.93      0.82      0.87    227845\n",
            "weighted avg       1.00      1.00      1.00    227845\n",
            "\n",
            "\n",
            "\n",
            "Accuracy Score:\n",
            "\n",
            "99.920560%\n",
            "\n",
            "------------Test Prediction--------------\n",
            "Classfifcation Report:\n",
            "\n",
            "              precision    recall  f1-score   support\n",
            "\n",
            "           0       1.00      1.00      1.00     56864\n",
            "           1       0.81      0.55      0.65        98\n",
            "\n",
            "    accuracy                           1.00     56962\n",
            "   macro avg       0.90      0.78      0.83     56962\n",
            "weighted avg       1.00      1.00      1.00     56962\n",
            "\n",
            "\n",
            "\n",
            "Accuracy Score:\n",
            "\n",
            "99.899933%\n",
            "\n"
          ]
        },
        {
          "output_type": "display_data",
          "data": {
            "text/plain": [
              "<Figure size 600x400 with 2 Axes>"
            ],
            "image/png": "[encoded data removed]"
          },
          "metadata": {}
        },
        {
          "output_type": "display_data",
          "data": {
            "text/plain": [
              "<Figure size 600x400 with 2 Axes>"
            ],
            "image/png": "[encoded data removed]"
          },
          "metadata": {}
        }
      ]
    },
    {
      "cell_type": "code",
      "source": [
        "#Logistic Regression on StandardScaled Dataset\n",
        "\n",
        "LR_model(X_scaled,y_scaled)"
      ],
      "metadata": {
        "colab": {
          "base_uri": "https://localhost:8080/",
          "height": 1000
        },
        "id": "aMzTfpmFEXOP",
        "outputId": "7811e1ac-cee4-48d7-8e5c-4e354f6966ec"
      },
      "execution_count": null,
      "outputs": [
        {
          "output_type": "stream",
          "name": "stdout",
          "text": [
            "Spliting Datasets....\n",
            "Successfully splitted!!!\n",
            "Model Fitting.....\n",
            "Successfully model fitted!!!\n",
            "------------Training Prediction--------------\n",
            "Classfifcation Report:\n",
            "\n",
            "              precision    recall  f1-score   support\n",
            "\n",
            "           0       1.00      1.00      1.00    227451\n",
            "           1       0.89      0.63      0.73       394\n",
            "\n",
            "    accuracy                           1.00    227845\n",
            "   macro avg       0.94      0.81      0.87    227845\n",
            "weighted avg       1.00      1.00      1.00    227845\n",
            "\n",
            "\n",
            "\n",
            "Accuracy Score:\n",
            "\n",
            "99.921438%\n",
            "\n",
            "------------Test Prediction--------------\n",
            "Classfifcation Report:\n",
            "\n",
            "              precision    recall  f1-score   support\n",
            "\n",
            "           0       1.00      1.00      1.00     56864\n",
            "           1       0.86      0.58      0.70        98\n",
            "\n",
            "    accuracy                           1.00     56962\n",
            "   macro avg       0.93      0.79      0.85     56962\n",
            "weighted avg       1.00      1.00      1.00     56962\n",
            "\n",
            "\n",
            "\n",
            "Accuracy Score:\n",
            "\n",
            "99.912222%\n",
            "\n"
          ]
        },
        {
          "output_type": "display_data",
          "data": {
            "text/plain": [
              "<Figure size 600x400 with 2 Axes>"
            ],
            "image/png": "[encoded data removed]"
          },
          "metadata": {}
        },
        {
          "output_type": "display_data",
          "data": {
            "text/plain": [
              "<Figure size 600x400 with 2 Axes>"
            ],
            "image/png": "[encoded data removed]"
          },
          "metadata": {}
        }
      ]
    },
    {
      "cell_type": "code",
      "source": [
        "#Logistic Regression on Undersampled Dataset\n",
        "\n",
        "\n",
        "LR_model(X_undersampled, y_undersampled)"
      ],
      "metadata": {
        "colab": {
          "base_uri": "https://localhost:8080/",
          "height": 1000
        },
        "id": "zjIuHr5GEXLO",
        "outputId": "14c35ca3-9bc1-402e-c788-e95895127d14"
      },
      "execution_count": null,
      "outputs": [
        {
          "output_type": "stream",
          "name": "stdout",
          "text": [
            "Spliting Datasets....\n",
            "Successfully splitted!!!\n",
            "Model Fitting.....\n",
            "Successfully model fitted!!!\n",
            "------------Training Prediction--------------\n",
            "Classfifcation Report:\n",
            "\n",
            "              precision    recall  f1-score   support\n",
            "\n",
            "           0       0.94      0.98      0.96       393\n",
            "           1       0.98      0.93      0.96       394\n",
            "\n",
            "    accuracy                           0.96       787\n",
            "   macro avg       0.96      0.96      0.96       787\n",
            "weighted avg       0.96      0.96      0.96       787\n",
            "\n",
            "\n",
            "\n"
          ]
        },
        {
          "output_type": "stream",
          "name": "stderr",
          "text": [
            "/usr/local/lib/python3.10/dist-packages/sklearn/linear_model/_logistic.py:458: ConvergenceWarning: lbfgs failed to converge (status=1):\n",
            "STOP: TOTAL NO. of ITERATIONS REACHED LIMIT.\n",
            "\n",
            "Increase the number of iterations (max_iter) or scale the data as shown in:\n",
            "    https://scikit-learn.org/stable/modules/preprocessing.html\n",
            "Please also refer to the documentation for alternative solver options:\n",
            "    https://scikit-learn.org/stable/modules/linear_model.html#logistic-regression\n",
            "  n_iter_i = _check_optimize_result(\n"
          ]
        },
        {
          "output_type": "stream",
          "name": "stdout",
          "text": [
            "Accuracy Score:\n",
            "\n",
            "95.933926%\n",
            "\n",
            "------------Test Prediction--------------\n",
            "Classfifcation Report:\n",
            "\n",
            "              precision    recall  f1-score   support\n",
            "\n",
            "           0       0.90      0.96      0.93        99\n",
            "           1       0.96      0.89      0.92        98\n",
            "\n",
            "    accuracy                           0.92       197\n",
            "   macro avg       0.93      0.92      0.92       197\n",
            "weighted avg       0.93      0.92      0.92       197\n",
            "\n",
            "\n",
            "\n",
            "Accuracy Score:\n",
            "\n",
            "92.385787%\n",
            "\n"
          ]
        },
        {
          "output_type": "display_data",
          "data": {
            "text/plain": [
              "<Figure size 600x400 with 2 Axes>"
            ],
            "image/png": "[encoded data removed]"
          },
          "metadata": {}
        },
        {
          "output_type": "display_data",
          "data": {
            "text/plain": [
              "<Figure size 600x400 with 2 Axes>"
            ],
            "image/png": "[encoded data removed]"
          },
          "metadata": {}
        }
      ]
    },
    {
      "cell_type": "code",
      "source": [
        "#Logistic Regression on Oversampled Dataset\n",
        "\n",
        "LR_model(X_oversampled, y_oversampled)"
      ],
      "metadata": {
        "colab": {
          "base_uri": "https://localhost:8080/",
          "height": 1000
        },
        "id": "WVzXVahfEXIy",
        "outputId": "b52d3155-9baf-47bc-b0e3-630182402bab"
      },
      "execution_count": null,
      "outputs": [
        {
          "output_type": "stream",
          "name": "stdout",
          "text": [
            "Spliting Datasets....\n",
            "Successfully splitted!!!\n",
            "Model Fitting.....\n"
          ]
        },
        {
          "output_type": "stream",
          "name": "stderr",
          "text": [
            "/usr/local/lib/python3.10/dist-packages/sklearn/linear_model/_logistic.py:458: ConvergenceWarning: lbfgs failed to converge (status=1):\n",
            "STOP: TOTAL NO. of ITERATIONS REACHED LIMIT.\n",
            "\n",
            "Increase the number of iterations (max_iter) or scale the data as shown in:\n",
            "    https://scikit-learn.org/stable/modules/preprocessing.html\n",
            "Please also refer to the documentation for alternative solver options:\n",
            "    https://scikit-learn.org/stable/modules/linear_model.html#logistic-regression\n",
            "  n_iter_i = _check_optimize_result(\n"
          ]
        },
        {
          "output_type": "stream",
          "name": "stdout",
          "text": [
            "Successfully model fitted!!!\n",
            "------------Training Prediction--------------\n",
            "Classfifcation Report:\n",
            "\n",
            "              precision    recall  f1-score   support\n",
            "\n",
            "           0       0.92      0.98      0.95    227335\n",
            "           1       0.97      0.92      0.94    227569\n",
            "\n",
            "    accuracy                           0.95    454904\n",
            "   macro avg       0.95      0.95      0.95    454904\n",
            "weighted avg       0.95      0.95      0.95    454904\n",
            "\n",
            "\n",
            "\n",
            "Accuracy Score:\n",
            "\n",
            "94.640188%\n",
            "\n",
            "------------Test Prediction--------------\n",
            "Classfifcation Report:\n",
            "\n",
            "              precision    recall  f1-score   support\n",
            "\n",
            "           0       0.92      0.98      0.95     56980\n",
            "           1       0.97      0.92      0.95     56746\n",
            "\n",
            "    accuracy                           0.95    113726\n",
            "   macro avg       0.95      0.95      0.95    113726\n",
            "weighted avg       0.95      0.95      0.95    113726\n",
            "\n",
            "\n",
            "\n",
            "Accuracy Score:\n",
            "\n",
            "94.697782%\n",
            "\n"
          ]
        },
        {
          "output_type": "display_data",
          "data": {
            "text/plain": [
              "<Figure size 600x400 with 2 Axes>"
            ],
            "image/png": "[encoded data removed]"
          },
          "metadata": {}
        },
        {
          "output_type": "display_data",
          "data": {
            "text/plain": [
              "<Figure size 600x400 with 2 Axes>"
            ],
            "image/png": "[encoded data removed]"
          },
          "metadata": {}
        }
      ]
    },
    {
      "cell_type": "code",
      "source": [
        "#Logistic Regression on SMOTE Dataset\n",
        "\n",
        "LR_model(X_smote, y_smote)"
      ],
      "metadata": {
        "colab": {
          "base_uri": "https://localhost:8080/",
          "height": 1000
        },
        "id": "YGlWgBWWEXGI",
        "outputId": "a71304e5-9f30-4e9a-863a-58374b318c95"
      },
      "execution_count": null,
      "outputs": [
        {
          "output_type": "stream",
          "name": "stdout",
          "text": [
            "Spliting Datasets....\n",
            "Successfully splitted!!!\n",
            "Model Fitting.....\n"
          ]
        },
        {
          "output_type": "stream",
          "name": "stderr",
          "text": [
            "/usr/local/lib/python3.10/dist-packages/sklearn/linear_model/_logistic.py:458: ConvergenceWarning: lbfgs failed to converge (status=1):\n",
            "STOP: TOTAL NO. of ITERATIONS REACHED LIMIT.\n",
            "\n",
            "Increase the number of iterations (max_iter) or scale the data as shown in:\n",
            "    https://scikit-learn.org/stable/modules/preprocessing.html\n",
            "Please also refer to the documentation for alternative solver options:\n",
            "    https://scikit-learn.org/stable/modules/linear_model.html#logistic-regression\n",
            "  n_iter_i = _check_optimize_result(\n"
          ]
        },
        {
          "output_type": "stream",
          "name": "stdout",
          "text": [
            "Successfully model fitted!!!\n",
            "------------Training Prediction--------------\n",
            "Classfifcation Report:\n",
            "\n",
            "              precision    recall  f1-score   support\n",
            "\n",
            "           0       0.94      0.98      0.96    227565\n",
            "           1       0.98      0.94      0.96    227339\n",
            "\n",
            "    accuracy                           0.96    454904\n",
            "   macro avg       0.96      0.96      0.96    454904\n",
            "weighted avg       0.96      0.96      0.96    454904\n",
            "\n",
            "\n",
            "\n",
            "Accuracy Score:\n",
            "\n",
            "95.876273%\n",
            "\n",
            "------------Test Prediction--------------\n",
            "Classfifcation Report:\n",
            "\n",
            "              precision    recall  f1-score   support\n",
            "\n",
            "           0       0.94      0.98      0.96     56750\n",
            "           1       0.98      0.94      0.96     56976\n",
            "\n",
            "    accuracy                           0.96    113726\n",
            "   macro avg       0.96      0.96      0.96    113726\n",
            "weighted avg       0.96      0.96      0.96    113726\n",
            "\n",
            "\n",
            "\n",
            "Accuracy Score:\n",
            "\n",
            "95.871656%\n",
            "\n"
          ]
        },
        {
          "output_type": "display_data",
          "data": {
            "text/plain": [
              "<Figure size 600x400 with 2 Axes>"
            ],
            "image/png": "[encoded data removed]"
          },
          "metadata": {}
        },
        {
          "output_type": "display_data",
          "data": {
            "text/plain": [
              "<Figure size 600x400 with 2 Axes>"
            ],
            "image/png": "[encoded data removed]"
          },
          "metadata": {}
        }
      ]
    },
    {
      "cell_type": "markdown",
      "source": [
        "CONCLUSION:\n",
        "\n",
        "a) Logistic Regression doesn't work efficiently for this imbalanced datasets.\n",
        "\n",
        "b) It takes around 1-2 minutes for training.\n",
        "\n",
        "c) Maximum Accuracy of 99.912222%and Macro Average of F1-Score of 0.85 acheived with StandardScaled datasets."
      ],
      "metadata": {
        "id": "G9YLGCqHWqry"
      }
    },
    {
      "cell_type": "code",
      "source": [],
      "metadata": {
        "id": "jn_NI6opEXDR"
      },
      "execution_count": null,
      "outputs": []
    },
    {
      "cell_type": "markdown",
      "source": [
        "**2.Random Forest**"
      ],
      "metadata": {
        "id": "txmzxP5AZy1i"
      }
    },
    {
      "cell_type": "code",
      "source": [
        "from sklearn.ensemble import RandomForestClassifier"
      ],
      "metadata": {
        "id": "cqhfsBOUEXAU"
      },
      "execution_count": null,
      "outputs": []
    },
    {
      "cell_type": "code",
      "source": [
        "def RF_model(X,y):\n",
        "    print(\"Spliting Datasets....\")\n",
        "    from sklearn.model_selection import train_test_split\n",
        "    np.random.seed(42)\n",
        "    X_train, X_test, y_train, y_test = train_test_split(X, y,test_size=0.2)\n",
        "    print(\"Successfully splitted!!!\")\n",
        "\n",
        "    print(\"Model Fitting.....\")\n",
        "    rf = RandomForestClassifier()\n",
        "    rf.fit(X_train, y_train)\n",
        "    print(\"Successfully model fitted!!!\")\n",
        "\n",
        "    from sklearn.metrics import classification_report, confusion_matrix, accuracy_score\n",
        "    print(\"------------Training Prediction--------------\")\n",
        "    y_preds = rf.predict(X_train)\n",
        "    print(f\"Classfifcation Report:\\n\\n{classification_report(y_train, y_preds)}\\n\\n\")\n",
        "\n",
        "    cf_matrix = confusion_matrix(y_train, y_preds)\n",
        "\n",
        "    fig, ax = plt.subplots(figsize=(6,4))\n",
        "    sns.heatmap(cf_matrix, annot=True, cmap='coolwarm', fmt='g')\n",
        "    fig.suptitle(t=\"Confusion Matrix of Training Datasets\",\n",
        "                 color=\"orange\",\n",
        "                 fontsize=16);\n",
        "    ax.set(xlabel=\"Predicted Label\",\n",
        "           ylabel=\"Actual Label\");\n",
        "\n",
        "    print(f\"Accuracy Score:\\n\\n{accuracy_score(y_train, y_preds)*100:2f}%\\n\")\n",
        "\n",
        "    print(\"------------Test Prediction--------------\")\n",
        "\n",
        "    y_preds = rf.predict(X_test)\n",
        "    print(f\"Classfifcation Report:\\n\\n{classification_report(y_test, y_preds)}\\n\\n\")\n",
        "\n",
        "    cf_matrix = confusion_matrix(y_test, y_preds)\n",
        "\n",
        "    fig, ax = plt.subplots(figsize=(6,4))\n",
        "    sns.heatmap(cf_matrix, annot=True, cmap='coolwarm', fmt='g')\n",
        "    fig.suptitle(t=\"Confusion Matrix of Testing Datasets\",\n",
        "                 color=\"orange\",\n",
        "                 fontsize=16);\n",
        "    ax.set(xlabel=\"Predicted Label\",\n",
        "           ylabel=\"Actual Label\");\n",
        "\n",
        "    print(f\"Accuracy Score:\\n\\n{accuracy_score(y_test, y_preds)*100:2f}%\\n\")"
      ],
      "metadata": {
        "id": "mDTT6V5gZaZQ"
      },
      "execution_count": null,
      "outputs": []
    },
    {
      "cell_type": "markdown",
      "source": [
        "RandomForestClassifier on Normal Datasets."
      ],
      "metadata": {
        "id": "VNn9yyuvasFg"
      }
    },
    {
      "cell_type": "code",
      "source": [
        "\n",
        "RF_model(X, y)"
      ],
      "metadata": {
        "colab": {
          "base_uri": "https://localhost:8080/",
          "height": 1000
        },
        "id": "Fujdgfy5ZaVu",
        "outputId": "1ff1b48f-e604-4045-a963-2b91352d6ae2"
      },
      "execution_count": null,
      "outputs": [
        {
          "output_type": "stream",
          "name": "stdout",
          "text": [
            "Spliting Datasets....\n",
            "Successfully splitted!!!\n",
            "Model Fitting.....\n",
            "Successfully model fitted!!!\n",
            "------------Training Prediction--------------\n",
            "Classfifcation Report:\n",
            "\n",
            "              precision    recall  f1-score   support\n",
            "\n",
            "           0       1.00      1.00      1.00    227451\n",
            "           1       1.00      1.00      1.00       394\n",
            "\n",
            "    accuracy                           1.00    227845\n",
            "   macro avg       1.00      1.00      1.00    227845\n",
            "weighted avg       1.00      1.00      1.00    227845\n",
            "\n",
            "\n",
            "\n",
            "Accuracy Score:\n",
            "\n",
            "100.000000%\n",
            "\n",
            "------------Test Prediction--------------\n",
            "Classfifcation Report:\n",
            "\n",
            "              precision    recall  f1-score   support\n",
            "\n",
            "           0       1.00      1.00      1.00     56864\n",
            "           1       0.97      0.78      0.86        98\n",
            "\n",
            "    accuracy                           1.00     56962\n",
            "   macro avg       0.99      0.89      0.93     56962\n",
            "weighted avg       1.00      1.00      1.00     56962\n",
            "\n",
            "\n",
            "\n",
            "Accuracy Score:\n",
            "\n",
            "99.957867%\n",
            "\n"
          ]
        },
        {
          "output_type": "display_data",
          "data": {
            "text/plain": [
              "<Figure size 600x400 with 2 Axes>"
            ],
            "image/png": "[encoded data removed]"
          },
          "metadata": {}
        },
        {
          "output_type": "display_data",
          "data": {
            "text/plain": [
              "<Figure size 600x400 with 2 Axes>"
            ],
            "image/png": "[encoded data removed]"
          },
          "metadata": {}
        }
      ]
    },
    {
      "cell_type": "markdown",
      "source": [
        "RandomForestClassifier on StandardScaled Dataset"
      ],
      "metadata": {
        "id": "vmzLHYlma2NM"
      }
    },
    {
      "cell_type": "code",
      "source": [
        "RF_model(X_scaled, y_scaled)"
      ],
      "metadata": {
        "id": "qr-0VvEJZaSv"
      },
      "execution_count": null,
      "outputs": []
    },
    {
      "cell_type": "markdown",
      "source": [
        "RandomForestClassifier on Undersampled Dataset"
      ],
      "metadata": {
        "id": "ZIMwNNzqbJuP"
      }
    },
    {
      "cell_type": "code",
      "source": [
        "RF_model(X_undersampled, y_undersampled)"
      ],
      "metadata": {
        "id": "QSP7m24jZaQK"
      },
      "execution_count": null,
      "outputs": []
    },
    {
      "cell_type": "markdown",
      "source": [
        "RandomForestClassifier on Oversampled Dataset"
      ],
      "metadata": {
        "id": "pOPAXumWbU_0"
      }
    },
    {
      "cell_type": "code",
      "source": [
        "RF_model(X_oversampled, y_oversampled)"
      ],
      "metadata": {
        "id": "oXuR7qF7ZaNN"
      },
      "execution_count": null,
      "outputs": []
    },
    {
      "cell_type": "markdown",
      "source": [
        "RandomForestClassifier on SMOTE Dataset"
      ],
      "metadata": {
        "id": "2XqWwG60bcl1"
      }
    },
    {
      "cell_type": "code",
      "source": [
        "RF_model(X_smote, y_smote)"
      ],
      "metadata": {
        "id": "y9YYW2lSZaKV"
      },
      "execution_count": null,
      "outputs": []
    },
    {
      "cell_type": "markdown",
      "source": [
        "CONCLUSION:\n",
        "\n",
        "a) Undersampling doesn't work efficiently for Large majority class datasets as it ignore many valuable tuples. But, can be efficient for small majority class datasets\n",
        "\n",
        "b) RandomForest works even efficiently for this imbalanced datasets.\n",
        "\n",
        "c) RandomForest takes around 10-15 minutes for training.\n",
        "\n",
        "d) Maximum Accuracy of 99.996483%and macro-average of F1-Score of 1.00 acheived with Oversampling technique."
      ],
      "metadata": {
        "id": "0ck2nEhpbkXI"
      }
    },
    {
      "cell_type": "code",
      "source": [],
      "metadata": {
        "id": "mACAa4tuZaHT"
      },
      "execution_count": null,
      "outputs": []
    },
    {
      "cell_type": "code",
      "source": [],
      "metadata": {
        "id": "U1lNZZZlZaEG"
      },
      "execution_count": null,
      "outputs": []
    },
    {
      "cell_type": "code",
      "source": [],
      "metadata": {
        "id": "jzzIloiMdHy3"
      },
      "execution_count": null,
      "outputs": []
    },
    {
      "cell_type": "code",
      "source": [],
      "metadata": {
        "id": "uDc16_FGdHvK"
      },
      "execution_count": null,
      "outputs": []
    },
    {
      "cell_type": "code",
      "source": [],
      "metadata": {
        "id": "w38LKIaEdHsU"
      },
      "execution_count": null,
      "outputs": []
    },
    {
      "cell_type": "code",
      "source": [],
      "metadata": {
        "id": "tHv-rvmfdHps"
      },
      "execution_count": null,
      "outputs": []
    },
    {
      "cell_type": "code",
      "source": [],
      "metadata": {
        "id": "lWuXYs5xdHml"
      },
      "execution_count": null,
      "outputs": []
    },
    {
      "cell_type": "code",
      "source": [],
      "metadata": {
        "id": "kRN0yxIydHjq"
      },
      "execution_count": null,
      "outputs": []
    },
    {
      "cell_type": "code",
      "source": [],
      "metadata": {
        "id": "afOtKUttdHgc"
      },
      "execution_count": null,
      "outputs": []
    },
    {
      "cell_type": "code",
      "source": [],
      "metadata": {
        "id": "cI8MJ7lRdHdt"
      },
      "execution_count": null,
      "outputs": []
    },
    {
      "cell_type": "markdown",
      "source": [
        " Conclusions:\n",
        "\n",
        "a) Out of all 6 Machine Learning Models used, Random Forest Classifier works efficiently with Maximum Accuracy of 99.996483%and macro-average of F1-Score of 1.00 acheived with Oversampling technique.\n",
        "\n",
        "b) Oversampling Techniques proved to be efficient for handling Imbalanced Datasets.\n",
        "\n",
        "c) RandomForest, XGBoost, DecisionTree, K-Neighbors work efficiently even for this Imbalanced Datasets.\n",
        "\n",
        "d) RandomForest takes lots of Training Time among all of Six models used."
      ],
      "metadata": {
        "id": "E3x6fQcIdIj2"
      }
    }
  ]
}